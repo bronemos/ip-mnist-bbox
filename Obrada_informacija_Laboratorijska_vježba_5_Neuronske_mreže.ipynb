{
  "nbformat": 4,
  "nbformat_minor": 0,
  "metadata": {
    "kernelspec": {
      "display_name": "Python 3",
      "language": "python",
      "name": "python3"
    },
    "language_info": {
      "codemirror_mode": {
        "name": "ipython",
        "version": 3
      },
      "file_extension": ".py",
      "mimetype": "text/x-python",
      "name": "python",
      "nbconvert_exporter": "python",
      "pygments_lexer": "ipython3",
      "version": "3.6.9"
    },
    "colab": {
      "name": "Obrada informacija - Laboratorijska vježba 5- Neuronske mreže",
      "provenance": [],
      "collapsed_sections": [],
      "toc_visible": true,
      "include_colab_link": true
    },
    "accelerator": "GPU",
    "widgets": {
      "application/vnd.jupyter.widget-state+json": {
        "aa6fb5e996414563b6b43f1a90b2bf7a": {
          "model_module": "@jupyter-widgets/controls",
          "model_name": "HBoxModel",
          "state": {
            "_view_name": "HBoxView",
            "_dom_classes": [],
            "_model_name": "HBoxModel",
            "_view_module": "@jupyter-widgets/controls",
            "_model_module_version": "1.5.0",
            "_view_count": null,
            "_view_module_version": "1.5.0",
            "box_style": "",
            "layout": "IPY_MODEL_e8857f9c68d14591bf4bf1954024ba07",
            "_model_module": "@jupyter-widgets/controls",
            "children": [
              "IPY_MODEL_927b6fe35a4341d7905d6427dc17e395",
              "IPY_MODEL_0b40fe06878849e094fb1f7e22e3d141"
            ]
          }
        },
        "e8857f9c68d14591bf4bf1954024ba07": {
          "model_module": "@jupyter-widgets/base",
          "model_name": "LayoutModel",
          "state": {
            "_view_name": "LayoutView",
            "grid_template_rows": null,
            "right": null,
            "justify_content": null,
            "_view_module": "@jupyter-widgets/base",
            "overflow": null,
            "_model_module_version": "1.2.0",
            "_view_count": null,
            "flex_flow": null,
            "width": null,
            "min_width": null,
            "border": null,
            "align_items": null,
            "bottom": null,
            "_model_module": "@jupyter-widgets/base",
            "top": null,
            "grid_column": null,
            "overflow_y": null,
            "overflow_x": null,
            "grid_auto_flow": null,
            "grid_area": null,
            "grid_template_columns": null,
            "flex": null,
            "_model_name": "LayoutModel",
            "justify_items": null,
            "grid_row": null,
            "max_height": null,
            "align_content": null,
            "visibility": null,
            "align_self": null,
            "height": null,
            "min_height": null,
            "padding": null,
            "grid_auto_rows": null,
            "grid_gap": null,
            "max_width": null,
            "order": null,
            "_view_module_version": "1.2.0",
            "grid_template_areas": null,
            "object_position": null,
            "object_fit": null,
            "grid_auto_columns": null,
            "margin": null,
            "display": null,
            "left": null
          }
        },
        "927b6fe35a4341d7905d6427dc17e395": {
          "model_module": "@jupyter-widgets/controls",
          "model_name": "FloatProgressModel",
          "state": {
            "_view_name": "ProgressView",
            "style": "IPY_MODEL_cc6c642d294542baa41ad8e6e3c1a751",
            "_dom_classes": [],
            "description": "",
            "_model_name": "FloatProgressModel",
            "bar_style": "success",
            "max": 1,
            "_view_module": "@jupyter-widgets/controls",
            "_model_module_version": "1.5.0",
            "value": 1,
            "_view_count": null,
            "_view_module_version": "1.5.0",
            "orientation": "horizontal",
            "min": 0,
            "description_tooltip": null,
            "_model_module": "@jupyter-widgets/controls",
            "layout": "IPY_MODEL_b3f1c1c2bdfe4569b574cd04ee1666e2"
          }
        },
        "0b40fe06878849e094fb1f7e22e3d141": {
          "model_module": "@jupyter-widgets/controls",
          "model_name": "HTMLModel",
          "state": {
            "_view_name": "HTMLView",
            "style": "IPY_MODEL_364219e9ece94bec8309bd926c154b85",
            "_dom_classes": [],
            "description": "",
            "_model_name": "HTMLModel",
            "placeholder": "​",
            "_view_module": "@jupyter-widgets/controls",
            "_model_module_version": "1.5.0",
            "value": " 9920512/? [00:07&lt;00:00, 1393414.25it/s]",
            "_view_count": null,
            "_view_module_version": "1.5.0",
            "description_tooltip": null,
            "_model_module": "@jupyter-widgets/controls",
            "layout": "IPY_MODEL_986385be686b4aa9851fbd72d2793fa3"
          }
        },
        "cc6c642d294542baa41ad8e6e3c1a751": {
          "model_module": "@jupyter-widgets/controls",
          "model_name": "ProgressStyleModel",
          "state": {
            "_view_name": "StyleView",
            "_model_name": "ProgressStyleModel",
            "description_width": "initial",
            "_view_module": "@jupyter-widgets/base",
            "_model_module_version": "1.5.0",
            "_view_count": null,
            "_view_module_version": "1.2.0",
            "bar_color": null,
            "_model_module": "@jupyter-widgets/controls"
          }
        },
        "b3f1c1c2bdfe4569b574cd04ee1666e2": {
          "model_module": "@jupyter-widgets/base",
          "model_name": "LayoutModel",
          "state": {
            "_view_name": "LayoutView",
            "grid_template_rows": null,
            "right": null,
            "justify_content": null,
            "_view_module": "@jupyter-widgets/base",
            "overflow": null,
            "_model_module_version": "1.2.0",
            "_view_count": null,
            "flex_flow": null,
            "width": null,
            "min_width": null,
            "border": null,
            "align_items": null,
            "bottom": null,
            "_model_module": "@jupyter-widgets/base",
            "top": null,
            "grid_column": null,
            "overflow_y": null,
            "overflow_x": null,
            "grid_auto_flow": null,
            "grid_area": null,
            "grid_template_columns": null,
            "flex": null,
            "_model_name": "LayoutModel",
            "justify_items": null,
            "grid_row": null,
            "max_height": null,
            "align_content": null,
            "visibility": null,
            "align_self": null,
            "height": null,
            "min_height": null,
            "padding": null,
            "grid_auto_rows": null,
            "grid_gap": null,
            "max_width": null,
            "order": null,
            "_view_module_version": "1.2.0",
            "grid_template_areas": null,
            "object_position": null,
            "object_fit": null,
            "grid_auto_columns": null,
            "margin": null,
            "display": null,
            "left": null
          }
        },
        "364219e9ece94bec8309bd926c154b85": {
          "model_module": "@jupyter-widgets/controls",
          "model_name": "DescriptionStyleModel",
          "state": {
            "_view_name": "StyleView",
            "_model_name": "DescriptionStyleModel",
            "description_width": "",
            "_view_module": "@jupyter-widgets/base",
            "_model_module_version": "1.5.0",
            "_view_count": null,
            "_view_module_version": "1.2.0",
            "_model_module": "@jupyter-widgets/controls"
          }
        },
        "986385be686b4aa9851fbd72d2793fa3": {
          "model_module": "@jupyter-widgets/base",
          "model_name": "LayoutModel",
          "state": {
            "_view_name": "LayoutView",
            "grid_template_rows": null,
            "right": null,
            "justify_content": null,
            "_view_module": "@jupyter-widgets/base",
            "overflow": null,
            "_model_module_version": "1.2.0",
            "_view_count": null,
            "flex_flow": null,
            "width": null,
            "min_width": null,
            "border": null,
            "align_items": null,
            "bottom": null,
            "_model_module": "@jupyter-widgets/base",
            "top": null,
            "grid_column": null,
            "overflow_y": null,
            "overflow_x": null,
            "grid_auto_flow": null,
            "grid_area": null,
            "grid_template_columns": null,
            "flex": null,
            "_model_name": "LayoutModel",
            "justify_items": null,
            "grid_row": null,
            "max_height": null,
            "align_content": null,
            "visibility": null,
            "align_self": null,
            "height": null,
            "min_height": null,
            "padding": null,
            "grid_auto_rows": null,
            "grid_gap": null,
            "max_width": null,
            "order": null,
            "_view_module_version": "1.2.0",
            "grid_template_areas": null,
            "object_position": null,
            "object_fit": null,
            "grid_auto_columns": null,
            "margin": null,
            "display": null,
            "left": null
          }
        },
        "a214c7e68bf148338d974b1d76a67b1a": {
          "model_module": "@jupyter-widgets/controls",
          "model_name": "HBoxModel",
          "state": {
            "_view_name": "HBoxView",
            "_dom_classes": [],
            "_model_name": "HBoxModel",
            "_view_module": "@jupyter-widgets/controls",
            "_model_module_version": "1.5.0",
            "_view_count": null,
            "_view_module_version": "1.5.0",
            "box_style": "",
            "layout": "IPY_MODEL_a75d4e7bdf9a492981959e881dc92149",
            "_model_module": "@jupyter-widgets/controls",
            "children": [
              "IPY_MODEL_d120ffaf8b5a40b3a3d53ead73e53cab",
              "IPY_MODEL_601b1e214ced4e139e08c96e1fd350b3"
            ]
          }
        },
        "a75d4e7bdf9a492981959e881dc92149": {
          "model_module": "@jupyter-widgets/base",
          "model_name": "LayoutModel",
          "state": {
            "_view_name": "LayoutView",
            "grid_template_rows": null,
            "right": null,
            "justify_content": null,
            "_view_module": "@jupyter-widgets/base",
            "overflow": null,
            "_model_module_version": "1.2.0",
            "_view_count": null,
            "flex_flow": null,
            "width": null,
            "min_width": null,
            "border": null,
            "align_items": null,
            "bottom": null,
            "_model_module": "@jupyter-widgets/base",
            "top": null,
            "grid_column": null,
            "overflow_y": null,
            "overflow_x": null,
            "grid_auto_flow": null,
            "grid_area": null,
            "grid_template_columns": null,
            "flex": null,
            "_model_name": "LayoutModel",
            "justify_items": null,
            "grid_row": null,
            "max_height": null,
            "align_content": null,
            "visibility": null,
            "align_self": null,
            "height": null,
            "min_height": null,
            "padding": null,
            "grid_auto_rows": null,
            "grid_gap": null,
            "max_width": null,
            "order": null,
            "_view_module_version": "1.2.0",
            "grid_template_areas": null,
            "object_position": null,
            "object_fit": null,
            "grid_auto_columns": null,
            "margin": null,
            "display": null,
            "left": null
          }
        },
        "d120ffaf8b5a40b3a3d53ead73e53cab": {
          "model_module": "@jupyter-widgets/controls",
          "model_name": "FloatProgressModel",
          "state": {
            "_view_name": "ProgressView",
            "style": "IPY_MODEL_ce0c44046853425aab026c7e05813eff",
            "_dom_classes": [],
            "description": "",
            "_model_name": "FloatProgressModel",
            "bar_style": "success",
            "max": 1,
            "_view_module": "@jupyter-widgets/controls",
            "_model_module_version": "1.5.0",
            "value": 1,
            "_view_count": null,
            "_view_module_version": "1.5.0",
            "orientation": "horizontal",
            "min": 0,
            "description_tooltip": null,
            "_model_module": "@jupyter-widgets/controls",
            "layout": "IPY_MODEL_4c22962b783444988dda15181aec6af8"
          }
        },
        "601b1e214ced4e139e08c96e1fd350b3": {
          "model_module": "@jupyter-widgets/controls",
          "model_name": "HTMLModel",
          "state": {
            "_view_name": "HTMLView",
            "style": "IPY_MODEL_5e242307d85f4664ac8e1419e9e090fc",
            "_dom_classes": [],
            "description": "",
            "_model_name": "HTMLModel",
            "placeholder": "​",
            "_view_module": "@jupyter-widgets/controls",
            "_model_module_version": "1.5.0",
            "value": " 32768/? [00:01&lt;00:00, 22471.32it/s]",
            "_view_count": null,
            "_view_module_version": "1.5.0",
            "description_tooltip": null,
            "_model_module": "@jupyter-widgets/controls",
            "layout": "IPY_MODEL_c363a32e7340439c81b93503be8f0f04"
          }
        },
        "ce0c44046853425aab026c7e05813eff": {
          "model_module": "@jupyter-widgets/controls",
          "model_name": "ProgressStyleModel",
          "state": {
            "_view_name": "StyleView",
            "_model_name": "ProgressStyleModel",
            "description_width": "initial",
            "_view_module": "@jupyter-widgets/base",
            "_model_module_version": "1.5.0",
            "_view_count": null,
            "_view_module_version": "1.2.0",
            "bar_color": null,
            "_model_module": "@jupyter-widgets/controls"
          }
        },
        "4c22962b783444988dda15181aec6af8": {
          "model_module": "@jupyter-widgets/base",
          "model_name": "LayoutModel",
          "state": {
            "_view_name": "LayoutView",
            "grid_template_rows": null,
            "right": null,
            "justify_content": null,
            "_view_module": "@jupyter-widgets/base",
            "overflow": null,
            "_model_module_version": "1.2.0",
            "_view_count": null,
            "flex_flow": null,
            "width": null,
            "min_width": null,
            "border": null,
            "align_items": null,
            "bottom": null,
            "_model_module": "@jupyter-widgets/base",
            "top": null,
            "grid_column": null,
            "overflow_y": null,
            "overflow_x": null,
            "grid_auto_flow": null,
            "grid_area": null,
            "grid_template_columns": null,
            "flex": null,
            "_model_name": "LayoutModel",
            "justify_items": null,
            "grid_row": null,
            "max_height": null,
            "align_content": null,
            "visibility": null,
            "align_self": null,
            "height": null,
            "min_height": null,
            "padding": null,
            "grid_auto_rows": null,
            "grid_gap": null,
            "max_width": null,
            "order": null,
            "_view_module_version": "1.2.0",
            "grid_template_areas": null,
            "object_position": null,
            "object_fit": null,
            "grid_auto_columns": null,
            "margin": null,
            "display": null,
            "left": null
          }
        },
        "5e242307d85f4664ac8e1419e9e090fc": {
          "model_module": "@jupyter-widgets/controls",
          "model_name": "DescriptionStyleModel",
          "state": {
            "_view_name": "StyleView",
            "_model_name": "DescriptionStyleModel",
            "description_width": "",
            "_view_module": "@jupyter-widgets/base",
            "_model_module_version": "1.5.0",
            "_view_count": null,
            "_view_module_version": "1.2.0",
            "_model_module": "@jupyter-widgets/controls"
          }
        },
        "c363a32e7340439c81b93503be8f0f04": {
          "model_module": "@jupyter-widgets/base",
          "model_name": "LayoutModel",
          "state": {
            "_view_name": "LayoutView",
            "grid_template_rows": null,
            "right": null,
            "justify_content": null,
            "_view_module": "@jupyter-widgets/base",
            "overflow": null,
            "_model_module_version": "1.2.0",
            "_view_count": null,
            "flex_flow": null,
            "width": null,
            "min_width": null,
            "border": null,
            "align_items": null,
            "bottom": null,
            "_model_module": "@jupyter-widgets/base",
            "top": null,
            "grid_column": null,
            "overflow_y": null,
            "overflow_x": null,
            "grid_auto_flow": null,
            "grid_area": null,
            "grid_template_columns": null,
            "flex": null,
            "_model_name": "LayoutModel",
            "justify_items": null,
            "grid_row": null,
            "max_height": null,
            "align_content": null,
            "visibility": null,
            "align_self": null,
            "height": null,
            "min_height": null,
            "padding": null,
            "grid_auto_rows": null,
            "grid_gap": null,
            "max_width": null,
            "order": null,
            "_view_module_version": "1.2.0",
            "grid_template_areas": null,
            "object_position": null,
            "object_fit": null,
            "grid_auto_columns": null,
            "margin": null,
            "display": null,
            "left": null
          }
        },
        "91a76d6c29b441608f731422c96cec72": {
          "model_module": "@jupyter-widgets/controls",
          "model_name": "HBoxModel",
          "state": {
            "_view_name": "HBoxView",
            "_dom_classes": [],
            "_model_name": "HBoxModel",
            "_view_module": "@jupyter-widgets/controls",
            "_model_module_version": "1.5.0",
            "_view_count": null,
            "_view_module_version": "1.5.0",
            "box_style": "",
            "layout": "IPY_MODEL_4708e39bec4a47429ac5234d0f993b22",
            "_model_module": "@jupyter-widgets/controls",
            "children": [
              "IPY_MODEL_b768134303274ca6afdc7118789f35cb",
              "IPY_MODEL_a9d856a02364488a906900e3b93f951d"
            ]
          }
        },
        "4708e39bec4a47429ac5234d0f993b22": {
          "model_module": "@jupyter-widgets/base",
          "model_name": "LayoutModel",
          "state": {
            "_view_name": "LayoutView",
            "grid_template_rows": null,
            "right": null,
            "justify_content": null,
            "_view_module": "@jupyter-widgets/base",
            "overflow": null,
            "_model_module_version": "1.2.0",
            "_view_count": null,
            "flex_flow": null,
            "width": null,
            "min_width": null,
            "border": null,
            "align_items": null,
            "bottom": null,
            "_model_module": "@jupyter-widgets/base",
            "top": null,
            "grid_column": null,
            "overflow_y": null,
            "overflow_x": null,
            "grid_auto_flow": null,
            "grid_area": null,
            "grid_template_columns": null,
            "flex": null,
            "_model_name": "LayoutModel",
            "justify_items": null,
            "grid_row": null,
            "max_height": null,
            "align_content": null,
            "visibility": null,
            "align_self": null,
            "height": null,
            "min_height": null,
            "padding": null,
            "grid_auto_rows": null,
            "grid_gap": null,
            "max_width": null,
            "order": null,
            "_view_module_version": "1.2.0",
            "grid_template_areas": null,
            "object_position": null,
            "object_fit": null,
            "grid_auto_columns": null,
            "margin": null,
            "display": null,
            "left": null
          }
        },
        "b768134303274ca6afdc7118789f35cb": {
          "model_module": "@jupyter-widgets/controls",
          "model_name": "FloatProgressModel",
          "state": {
            "_view_name": "ProgressView",
            "style": "IPY_MODEL_2781d1c2341e45ef9b866d33455c6cb1",
            "_dom_classes": [],
            "description": "",
            "_model_name": "FloatProgressModel",
            "bar_style": "success",
            "max": 1,
            "_view_module": "@jupyter-widgets/controls",
            "_model_module_version": "1.5.0",
            "value": 1,
            "_view_count": null,
            "_view_module_version": "1.5.0",
            "orientation": "horizontal",
            "min": 0,
            "description_tooltip": null,
            "_model_module": "@jupyter-widgets/controls",
            "layout": "IPY_MODEL_1771a5033fe84a8eb0cbd0acf2c73512"
          }
        },
        "a9d856a02364488a906900e3b93f951d": {
          "model_module": "@jupyter-widgets/controls",
          "model_name": "HTMLModel",
          "state": {
            "_view_name": "HTMLView",
            "style": "IPY_MODEL_53d819f2846a40b2a5f0640ac0a03a81",
            "_dom_classes": [],
            "description": "",
            "_model_name": "HTMLModel",
            "placeholder": "​",
            "_view_module": "@jupyter-widgets/controls",
            "_model_module_version": "1.5.0",
            "value": " 1654784/? [00:01&lt;00:00, 1481324.76it/s]",
            "_view_count": null,
            "_view_module_version": "1.5.0",
            "description_tooltip": null,
            "_model_module": "@jupyter-widgets/controls",
            "layout": "IPY_MODEL_8032193296e54d8b909adeb5e4e335b1"
          }
        },
        "2781d1c2341e45ef9b866d33455c6cb1": {
          "model_module": "@jupyter-widgets/controls",
          "model_name": "ProgressStyleModel",
          "state": {
            "_view_name": "StyleView",
            "_model_name": "ProgressStyleModel",
            "description_width": "initial",
            "_view_module": "@jupyter-widgets/base",
            "_model_module_version": "1.5.0",
            "_view_count": null,
            "_view_module_version": "1.2.0",
            "bar_color": null,
            "_model_module": "@jupyter-widgets/controls"
          }
        },
        "1771a5033fe84a8eb0cbd0acf2c73512": {
          "model_module": "@jupyter-widgets/base",
          "model_name": "LayoutModel",
          "state": {
            "_view_name": "LayoutView",
            "grid_template_rows": null,
            "right": null,
            "justify_content": null,
            "_view_module": "@jupyter-widgets/base",
            "overflow": null,
            "_model_module_version": "1.2.0",
            "_view_count": null,
            "flex_flow": null,
            "width": null,
            "min_width": null,
            "border": null,
            "align_items": null,
            "bottom": null,
            "_model_module": "@jupyter-widgets/base",
            "top": null,
            "grid_column": null,
            "overflow_y": null,
            "overflow_x": null,
            "grid_auto_flow": null,
            "grid_area": null,
            "grid_template_columns": null,
            "flex": null,
            "_model_name": "LayoutModel",
            "justify_items": null,
            "grid_row": null,
            "max_height": null,
            "align_content": null,
            "visibility": null,
            "align_self": null,
            "height": null,
            "min_height": null,
            "padding": null,
            "grid_auto_rows": null,
            "grid_gap": null,
            "max_width": null,
            "order": null,
            "_view_module_version": "1.2.0",
            "grid_template_areas": null,
            "object_position": null,
            "object_fit": null,
            "grid_auto_columns": null,
            "margin": null,
            "display": null,
            "left": null
          }
        },
        "53d819f2846a40b2a5f0640ac0a03a81": {
          "model_module": "@jupyter-widgets/controls",
          "model_name": "DescriptionStyleModel",
          "state": {
            "_view_name": "StyleView",
            "_model_name": "DescriptionStyleModel",
            "description_width": "",
            "_view_module": "@jupyter-widgets/base",
            "_model_module_version": "1.5.0",
            "_view_count": null,
            "_view_module_version": "1.2.0",
            "_model_module": "@jupyter-widgets/controls"
          }
        },
        "8032193296e54d8b909adeb5e4e335b1": {
          "model_module": "@jupyter-widgets/base",
          "model_name": "LayoutModel",
          "state": {
            "_view_name": "LayoutView",
            "grid_template_rows": null,
            "right": null,
            "justify_content": null,
            "_view_module": "@jupyter-widgets/base",
            "overflow": null,
            "_model_module_version": "1.2.0",
            "_view_count": null,
            "flex_flow": null,
            "width": null,
            "min_width": null,
            "border": null,
            "align_items": null,
            "bottom": null,
            "_model_module": "@jupyter-widgets/base",
            "top": null,
            "grid_column": null,
            "overflow_y": null,
            "overflow_x": null,
            "grid_auto_flow": null,
            "grid_area": null,
            "grid_template_columns": null,
            "flex": null,
            "_model_name": "LayoutModel",
            "justify_items": null,
            "grid_row": null,
            "max_height": null,
            "align_content": null,
            "visibility": null,
            "align_self": null,
            "height": null,
            "min_height": null,
            "padding": null,
            "grid_auto_rows": null,
            "grid_gap": null,
            "max_width": null,
            "order": null,
            "_view_module_version": "1.2.0",
            "grid_template_areas": null,
            "object_position": null,
            "object_fit": null,
            "grid_auto_columns": null,
            "margin": null,
            "display": null,
            "left": null
          }
        },
        "bf2a8e2af7624a8180bfe54c926f0ae6": {
          "model_module": "@jupyter-widgets/controls",
          "model_name": "HBoxModel",
          "state": {
            "_view_name": "HBoxView",
            "_dom_classes": [],
            "_model_name": "HBoxModel",
            "_view_module": "@jupyter-widgets/controls",
            "_model_module_version": "1.5.0",
            "_view_count": null,
            "_view_module_version": "1.5.0",
            "box_style": "",
            "layout": "IPY_MODEL_37c8e67f90c7478db30365302cd75da1",
            "_model_module": "@jupyter-widgets/controls",
            "children": [
              "IPY_MODEL_005f5edc25f048bf84f4bf93cee22a88",
              "IPY_MODEL_faa0064cf959428d9123d6f4ba3e5b3f"
            ]
          }
        },
        "37c8e67f90c7478db30365302cd75da1": {
          "model_module": "@jupyter-widgets/base",
          "model_name": "LayoutModel",
          "state": {
            "_view_name": "LayoutView",
            "grid_template_rows": null,
            "right": null,
            "justify_content": null,
            "_view_module": "@jupyter-widgets/base",
            "overflow": null,
            "_model_module_version": "1.2.0",
            "_view_count": null,
            "flex_flow": null,
            "width": null,
            "min_width": null,
            "border": null,
            "align_items": null,
            "bottom": null,
            "_model_module": "@jupyter-widgets/base",
            "top": null,
            "grid_column": null,
            "overflow_y": null,
            "overflow_x": null,
            "grid_auto_flow": null,
            "grid_area": null,
            "grid_template_columns": null,
            "flex": null,
            "_model_name": "LayoutModel",
            "justify_items": null,
            "grid_row": null,
            "max_height": null,
            "align_content": null,
            "visibility": null,
            "align_self": null,
            "height": null,
            "min_height": null,
            "padding": null,
            "grid_auto_rows": null,
            "grid_gap": null,
            "max_width": null,
            "order": null,
            "_view_module_version": "1.2.0",
            "grid_template_areas": null,
            "object_position": null,
            "object_fit": null,
            "grid_auto_columns": null,
            "margin": null,
            "display": null,
            "left": null
          }
        },
        "005f5edc25f048bf84f4bf93cee22a88": {
          "model_module": "@jupyter-widgets/controls",
          "model_name": "FloatProgressModel",
          "state": {
            "_view_name": "ProgressView",
            "style": "IPY_MODEL_9f0dd8f068274c19a0e9fe3783d2c463",
            "_dom_classes": [],
            "description": "",
            "_model_name": "FloatProgressModel",
            "bar_style": "success",
            "max": 1,
            "_view_module": "@jupyter-widgets/controls",
            "_model_module_version": "1.5.0",
            "value": 1,
            "_view_count": null,
            "_view_module_version": "1.5.0",
            "orientation": "horizontal",
            "min": 0,
            "description_tooltip": null,
            "_model_module": "@jupyter-widgets/controls",
            "layout": "IPY_MODEL_9ea4ea06f1d246bd98623e27876fae16"
          }
        },
        "faa0064cf959428d9123d6f4ba3e5b3f": {
          "model_module": "@jupyter-widgets/controls",
          "model_name": "HTMLModel",
          "state": {
            "_view_name": "HTMLView",
            "style": "IPY_MODEL_d941110787f74530807d183ae895a8c7",
            "_dom_classes": [],
            "description": "",
            "_model_name": "HTMLModel",
            "placeholder": "​",
            "_view_module": "@jupyter-widgets/controls",
            "_model_module_version": "1.5.0",
            "value": " 8192/? [00:00&lt;00:00, 22167.64it/s]",
            "_view_count": null,
            "_view_module_version": "1.5.0",
            "description_tooltip": null,
            "_model_module": "@jupyter-widgets/controls",
            "layout": "IPY_MODEL_66d65913732e4b79809afbf08796b337"
          }
        },
        "9f0dd8f068274c19a0e9fe3783d2c463": {
          "model_module": "@jupyter-widgets/controls",
          "model_name": "ProgressStyleModel",
          "state": {
            "_view_name": "StyleView",
            "_model_name": "ProgressStyleModel",
            "description_width": "initial",
            "_view_module": "@jupyter-widgets/base",
            "_model_module_version": "1.5.0",
            "_view_count": null,
            "_view_module_version": "1.2.0",
            "bar_color": null,
            "_model_module": "@jupyter-widgets/controls"
          }
        },
        "9ea4ea06f1d246bd98623e27876fae16": {
          "model_module": "@jupyter-widgets/base",
          "model_name": "LayoutModel",
          "state": {
            "_view_name": "LayoutView",
            "grid_template_rows": null,
            "right": null,
            "justify_content": null,
            "_view_module": "@jupyter-widgets/base",
            "overflow": null,
            "_model_module_version": "1.2.0",
            "_view_count": null,
            "flex_flow": null,
            "width": null,
            "min_width": null,
            "border": null,
            "align_items": null,
            "bottom": null,
            "_model_module": "@jupyter-widgets/base",
            "top": null,
            "grid_column": null,
            "overflow_y": null,
            "overflow_x": null,
            "grid_auto_flow": null,
            "grid_area": null,
            "grid_template_columns": null,
            "flex": null,
            "_model_name": "LayoutModel",
            "justify_items": null,
            "grid_row": null,
            "max_height": null,
            "align_content": null,
            "visibility": null,
            "align_self": null,
            "height": null,
            "min_height": null,
            "padding": null,
            "grid_auto_rows": null,
            "grid_gap": null,
            "max_width": null,
            "order": null,
            "_view_module_version": "1.2.0",
            "grid_template_areas": null,
            "object_position": null,
            "object_fit": null,
            "grid_auto_columns": null,
            "margin": null,
            "display": null,
            "left": null
          }
        },
        "d941110787f74530807d183ae895a8c7": {
          "model_module": "@jupyter-widgets/controls",
          "model_name": "DescriptionStyleModel",
          "state": {
            "_view_name": "StyleView",
            "_model_name": "DescriptionStyleModel",
            "description_width": "",
            "_view_module": "@jupyter-widgets/base",
            "_model_module_version": "1.5.0",
            "_view_count": null,
            "_view_module_version": "1.2.0",
            "_model_module": "@jupyter-widgets/controls"
          }
        },
        "66d65913732e4b79809afbf08796b337": {
          "model_module": "@jupyter-widgets/base",
          "model_name": "LayoutModel",
          "state": {
            "_view_name": "LayoutView",
            "grid_template_rows": null,
            "right": null,
            "justify_content": null,
            "_view_module": "@jupyter-widgets/base",
            "overflow": null,
            "_model_module_version": "1.2.0",
            "_view_count": null,
            "flex_flow": null,
            "width": null,
            "min_width": null,
            "border": null,
            "align_items": null,
            "bottom": null,
            "_model_module": "@jupyter-widgets/base",
            "top": null,
            "grid_column": null,
            "overflow_y": null,
            "overflow_x": null,
            "grid_auto_flow": null,
            "grid_area": null,
            "grid_template_columns": null,
            "flex": null,
            "_model_name": "LayoutModel",
            "justify_items": null,
            "grid_row": null,
            "max_height": null,
            "align_content": null,
            "visibility": null,
            "align_self": null,
            "height": null,
            "min_height": null,
            "padding": null,
            "grid_auto_rows": null,
            "grid_gap": null,
            "max_width": null,
            "order": null,
            "_view_module_version": "1.2.0",
            "grid_template_areas": null,
            "object_position": null,
            "object_fit": null,
            "grid_auto_columns": null,
            "margin": null,
            "display": null,
            "left": null
          }
        },
        "7632d154027a49ae8070fcc2cdc01cb1": {
          "model_module": "@jupyter-widgets/controls",
          "model_name": "HBoxModel",
          "state": {
            "_view_name": "HBoxView",
            "_dom_classes": [],
            "_model_name": "HBoxModel",
            "_view_module": "@jupyter-widgets/controls",
            "_model_module_version": "1.5.0",
            "_view_count": null,
            "_view_module_version": "1.5.0",
            "box_style": "",
            "layout": "IPY_MODEL_6e2978bd2cc04ef2ae4a25559ffbe358",
            "_model_module": "@jupyter-widgets/controls",
            "children": [
              "IPY_MODEL_45544d00ada64f069483d50a09c2a26c",
              "IPY_MODEL_ee9c1efeb0e84a0d8c1a73eccae85e65"
            ]
          }
        },
        "6e2978bd2cc04ef2ae4a25559ffbe358": {
          "model_module": "@jupyter-widgets/base",
          "model_name": "LayoutModel",
          "state": {
            "_view_name": "LayoutView",
            "grid_template_rows": null,
            "right": null,
            "justify_content": null,
            "_view_module": "@jupyter-widgets/base",
            "overflow": null,
            "_model_module_version": "1.2.0",
            "_view_count": null,
            "flex_flow": null,
            "width": null,
            "min_width": null,
            "border": null,
            "align_items": null,
            "bottom": null,
            "_model_module": "@jupyter-widgets/base",
            "top": null,
            "grid_column": null,
            "overflow_y": null,
            "overflow_x": null,
            "grid_auto_flow": null,
            "grid_area": null,
            "grid_template_columns": null,
            "flex": null,
            "_model_name": "LayoutModel",
            "justify_items": null,
            "grid_row": null,
            "max_height": null,
            "align_content": null,
            "visibility": null,
            "align_self": null,
            "height": null,
            "min_height": null,
            "padding": null,
            "grid_auto_rows": null,
            "grid_gap": null,
            "max_width": null,
            "order": null,
            "_view_module_version": "1.2.0",
            "grid_template_areas": null,
            "object_position": null,
            "object_fit": null,
            "grid_auto_columns": null,
            "margin": null,
            "display": null,
            "left": null
          }
        },
        "45544d00ada64f069483d50a09c2a26c": {
          "model_module": "@jupyter-widgets/controls",
          "model_name": "FloatProgressModel",
          "state": {
            "_view_name": "ProgressView",
            "style": "IPY_MODEL_244b0da55be54ddb896fa6dd34cc5508",
            "_dom_classes": [],
            "description": "",
            "_model_name": "FloatProgressModel",
            "bar_style": "info",
            "max": 1,
            "_view_module": "@jupyter-widgets/controls",
            "_model_module_version": "1.5.0",
            "value": 1,
            "_view_count": null,
            "_view_module_version": "1.5.0",
            "orientation": "horizontal",
            "min": 0,
            "description_tooltip": null,
            "_model_module": "@jupyter-widgets/controls",
            "layout": "IPY_MODEL_0f039145944a47df93b9961566b514ec"
          }
        },
        "ee9c1efeb0e84a0d8c1a73eccae85e65": {
          "model_module": "@jupyter-widgets/controls",
          "model_name": "HTMLModel",
          "state": {
            "_view_name": "HTMLView",
            "style": "IPY_MODEL_6cc47e4270434ce1ae9e997fd1d3f1bf",
            "_dom_classes": [],
            "description": "",
            "_model_name": "HTMLModel",
            "placeholder": "​",
            "_view_module": "@jupyter-widgets/controls",
            "_model_module_version": "1.5.0",
            "value": " 9920512/? [00:20&lt;00:00, 29893630.04it/s]",
            "_view_count": null,
            "_view_module_version": "1.5.0",
            "description_tooltip": null,
            "_model_module": "@jupyter-widgets/controls",
            "layout": "IPY_MODEL_10c19b890ead4fe0a74e00c306b6cffb"
          }
        },
        "244b0da55be54ddb896fa6dd34cc5508": {
          "model_module": "@jupyter-widgets/controls",
          "model_name": "ProgressStyleModel",
          "state": {
            "_view_name": "StyleView",
            "_model_name": "ProgressStyleModel",
            "description_width": "initial",
            "_view_module": "@jupyter-widgets/base",
            "_model_module_version": "1.5.0",
            "_view_count": null,
            "_view_module_version": "1.2.0",
            "bar_color": null,
            "_model_module": "@jupyter-widgets/controls"
          }
        },
        "0f039145944a47df93b9961566b514ec": {
          "model_module": "@jupyter-widgets/base",
          "model_name": "LayoutModel",
          "state": {
            "_view_name": "LayoutView",
            "grid_template_rows": null,
            "right": null,
            "justify_content": null,
            "_view_module": "@jupyter-widgets/base",
            "overflow": null,
            "_model_module_version": "1.2.0",
            "_view_count": null,
            "flex_flow": null,
            "width": null,
            "min_width": null,
            "border": null,
            "align_items": null,
            "bottom": null,
            "_model_module": "@jupyter-widgets/base",
            "top": null,
            "grid_column": null,
            "overflow_y": null,
            "overflow_x": null,
            "grid_auto_flow": null,
            "grid_area": null,
            "grid_template_columns": null,
            "flex": null,
            "_model_name": "LayoutModel",
            "justify_items": null,
            "grid_row": null,
            "max_height": null,
            "align_content": null,
            "visibility": null,
            "align_self": null,
            "height": null,
            "min_height": null,
            "padding": null,
            "grid_auto_rows": null,
            "grid_gap": null,
            "max_width": null,
            "order": null,
            "_view_module_version": "1.2.0",
            "grid_template_areas": null,
            "object_position": null,
            "object_fit": null,
            "grid_auto_columns": null,
            "margin": null,
            "display": null,
            "left": null
          }
        },
        "6cc47e4270434ce1ae9e997fd1d3f1bf": {
          "model_module": "@jupyter-widgets/controls",
          "model_name": "DescriptionStyleModel",
          "state": {
            "_view_name": "StyleView",
            "_model_name": "DescriptionStyleModel",
            "description_width": "",
            "_view_module": "@jupyter-widgets/base",
            "_model_module_version": "1.5.0",
            "_view_count": null,
            "_view_module_version": "1.2.0",
            "_model_module": "@jupyter-widgets/controls"
          }
        },
        "10c19b890ead4fe0a74e00c306b6cffb": {
          "model_module": "@jupyter-widgets/base",
          "model_name": "LayoutModel",
          "state": {
            "_view_name": "LayoutView",
            "grid_template_rows": null,
            "right": null,
            "justify_content": null,
            "_view_module": "@jupyter-widgets/base",
            "overflow": null,
            "_model_module_version": "1.2.0",
            "_view_count": null,
            "flex_flow": null,
            "width": null,
            "min_width": null,
            "border": null,
            "align_items": null,
            "bottom": null,
            "_model_module": "@jupyter-widgets/base",
            "top": null,
            "grid_column": null,
            "overflow_y": null,
            "overflow_x": null,
            "grid_auto_flow": null,
            "grid_area": null,
            "grid_template_columns": null,
            "flex": null,
            "_model_name": "LayoutModel",
            "justify_items": null,
            "grid_row": null,
            "max_height": null,
            "align_content": null,
            "visibility": null,
            "align_self": null,
            "height": null,
            "min_height": null,
            "padding": null,
            "grid_auto_rows": null,
            "grid_gap": null,
            "max_width": null,
            "order": null,
            "_view_module_version": "1.2.0",
            "grid_template_areas": null,
            "object_position": null,
            "object_fit": null,
            "grid_auto_columns": null,
            "margin": null,
            "display": null,
            "left": null
          }
        },
        "f5d305a697f9477d88e69a4ed8de67c1": {
          "model_module": "@jupyter-widgets/controls",
          "model_name": "HBoxModel",
          "state": {
            "_view_name": "HBoxView",
            "_dom_classes": [],
            "_model_name": "HBoxModel",
            "_view_module": "@jupyter-widgets/controls",
            "_model_module_version": "1.5.0",
            "_view_count": null,
            "_view_module_version": "1.5.0",
            "box_style": "",
            "layout": "IPY_MODEL_28b85ac2ccb24cb5a8f6ed6364f6d12f",
            "_model_module": "@jupyter-widgets/controls",
            "children": [
              "IPY_MODEL_80b67755d89c404c97a6dafc7b723422",
              "IPY_MODEL_91f11f6c133646399ee7b953430163cc"
            ]
          }
        },
        "28b85ac2ccb24cb5a8f6ed6364f6d12f": {
          "model_module": "@jupyter-widgets/base",
          "model_name": "LayoutModel",
          "state": {
            "_view_name": "LayoutView",
            "grid_template_rows": null,
            "right": null,
            "justify_content": null,
            "_view_module": "@jupyter-widgets/base",
            "overflow": null,
            "_model_module_version": "1.2.0",
            "_view_count": null,
            "flex_flow": null,
            "width": null,
            "min_width": null,
            "border": null,
            "align_items": null,
            "bottom": null,
            "_model_module": "@jupyter-widgets/base",
            "top": null,
            "grid_column": null,
            "overflow_y": null,
            "overflow_x": null,
            "grid_auto_flow": null,
            "grid_area": null,
            "grid_template_columns": null,
            "flex": null,
            "_model_name": "LayoutModel",
            "justify_items": null,
            "grid_row": null,
            "max_height": null,
            "align_content": null,
            "visibility": null,
            "align_self": null,
            "height": null,
            "min_height": null,
            "padding": null,
            "grid_auto_rows": null,
            "grid_gap": null,
            "max_width": null,
            "order": null,
            "_view_module_version": "1.2.0",
            "grid_template_areas": null,
            "object_position": null,
            "object_fit": null,
            "grid_auto_columns": null,
            "margin": null,
            "display": null,
            "left": null
          }
        },
        "80b67755d89c404c97a6dafc7b723422": {
          "model_module": "@jupyter-widgets/controls",
          "model_name": "FloatProgressModel",
          "state": {
            "_view_name": "ProgressView",
            "style": "IPY_MODEL_b119d5e478624b6d87dc862308778c65",
            "_dom_classes": [],
            "description": "",
            "_model_name": "FloatProgressModel",
            "bar_style": "success",
            "max": 1,
            "_view_module": "@jupyter-widgets/controls",
            "_model_module_version": "1.5.0",
            "value": 1,
            "_view_count": null,
            "_view_module_version": "1.5.0",
            "orientation": "horizontal",
            "min": 0,
            "description_tooltip": null,
            "_model_module": "@jupyter-widgets/controls",
            "layout": "IPY_MODEL_897501df315b46aaab5b811d9021f861"
          }
        },
        "91f11f6c133646399ee7b953430163cc": {
          "model_module": "@jupyter-widgets/controls",
          "model_name": "HTMLModel",
          "state": {
            "_view_name": "HTMLView",
            "style": "IPY_MODEL_60754a710d354e4782e27d9d00ac8ffb",
            "_dom_classes": [],
            "description": "",
            "_model_name": "HTMLModel",
            "placeholder": "​",
            "_view_module": "@jupyter-widgets/controls",
            "_model_module_version": "1.5.0",
            "value": " 32768/? [00:00&lt;00:00, 109496.62it/s]",
            "_view_count": null,
            "_view_module_version": "1.5.0",
            "description_tooltip": null,
            "_model_module": "@jupyter-widgets/controls",
            "layout": "IPY_MODEL_2ddaf08e90bf4bd78e529b356c392667"
          }
        },
        "b119d5e478624b6d87dc862308778c65": {
          "model_module": "@jupyter-widgets/controls",
          "model_name": "ProgressStyleModel",
          "state": {
            "_view_name": "StyleView",
            "_model_name": "ProgressStyleModel",
            "description_width": "initial",
            "_view_module": "@jupyter-widgets/base",
            "_model_module_version": "1.5.0",
            "_view_count": null,
            "_view_module_version": "1.2.0",
            "bar_color": null,
            "_model_module": "@jupyter-widgets/controls"
          }
        },
        "897501df315b46aaab5b811d9021f861": {
          "model_module": "@jupyter-widgets/base",
          "model_name": "LayoutModel",
          "state": {
            "_view_name": "LayoutView",
            "grid_template_rows": null,
            "right": null,
            "justify_content": null,
            "_view_module": "@jupyter-widgets/base",
            "overflow": null,
            "_model_module_version": "1.2.0",
            "_view_count": null,
            "flex_flow": null,
            "width": null,
            "min_width": null,
            "border": null,
            "align_items": null,
            "bottom": null,
            "_model_module": "@jupyter-widgets/base",
            "top": null,
            "grid_column": null,
            "overflow_y": null,
            "overflow_x": null,
            "grid_auto_flow": null,
            "grid_area": null,
            "grid_template_columns": null,
            "flex": null,
            "_model_name": "LayoutModel",
            "justify_items": null,
            "grid_row": null,
            "max_height": null,
            "align_content": null,
            "visibility": null,
            "align_self": null,
            "height": null,
            "min_height": null,
            "padding": null,
            "grid_auto_rows": null,
            "grid_gap": null,
            "max_width": null,
            "order": null,
            "_view_module_version": "1.2.0",
            "grid_template_areas": null,
            "object_position": null,
            "object_fit": null,
            "grid_auto_columns": null,
            "margin": null,
            "display": null,
            "left": null
          }
        },
        "60754a710d354e4782e27d9d00ac8ffb": {
          "model_module": "@jupyter-widgets/controls",
          "model_name": "DescriptionStyleModel",
          "state": {
            "_view_name": "StyleView",
            "_model_name": "DescriptionStyleModel",
            "description_width": "",
            "_view_module": "@jupyter-widgets/base",
            "_model_module_version": "1.5.0",
            "_view_count": null,
            "_view_module_version": "1.2.0",
            "_model_module": "@jupyter-widgets/controls"
          }
        },
        "2ddaf08e90bf4bd78e529b356c392667": {
          "model_module": "@jupyter-widgets/base",
          "model_name": "LayoutModel",
          "state": {
            "_view_name": "LayoutView",
            "grid_template_rows": null,
            "right": null,
            "justify_content": null,
            "_view_module": "@jupyter-widgets/base",
            "overflow": null,
            "_model_module_version": "1.2.0",
            "_view_count": null,
            "flex_flow": null,
            "width": null,
            "min_width": null,
            "border": null,
            "align_items": null,
            "bottom": null,
            "_model_module": "@jupyter-widgets/base",
            "top": null,
            "grid_column": null,
            "overflow_y": null,
            "overflow_x": null,
            "grid_auto_flow": null,
            "grid_area": null,
            "grid_template_columns": null,
            "flex": null,
            "_model_name": "LayoutModel",
            "justify_items": null,
            "grid_row": null,
            "max_height": null,
            "align_content": null,
            "visibility": null,
            "align_self": null,
            "height": null,
            "min_height": null,
            "padding": null,
            "grid_auto_rows": null,
            "grid_gap": null,
            "max_width": null,
            "order": null,
            "_view_module_version": "1.2.0",
            "grid_template_areas": null,
            "object_position": null,
            "object_fit": null,
            "grid_auto_columns": null,
            "margin": null,
            "display": null,
            "left": null
          }
        },
        "d6dcb8aabf1a47ae80f00dfca900071b": {
          "model_module": "@jupyter-widgets/controls",
          "model_name": "HBoxModel",
          "state": {
            "_view_name": "HBoxView",
            "_dom_classes": [],
            "_model_name": "HBoxModel",
            "_view_module": "@jupyter-widgets/controls",
            "_model_module_version": "1.5.0",
            "_view_count": null,
            "_view_module_version": "1.5.0",
            "box_style": "",
            "layout": "IPY_MODEL_92cad9aa33904ca68fc3f1b076cd2ec4",
            "_model_module": "@jupyter-widgets/controls",
            "children": [
              "IPY_MODEL_e2e63581050341d78ce3aea5225b6f50",
              "IPY_MODEL_14a72e802bee430ab982257b4fd8daf4"
            ]
          }
        },
        "92cad9aa33904ca68fc3f1b076cd2ec4": {
          "model_module": "@jupyter-widgets/base",
          "model_name": "LayoutModel",
          "state": {
            "_view_name": "LayoutView",
            "grid_template_rows": null,
            "right": null,
            "justify_content": null,
            "_view_module": "@jupyter-widgets/base",
            "overflow": null,
            "_model_module_version": "1.2.0",
            "_view_count": null,
            "flex_flow": null,
            "width": null,
            "min_width": null,
            "border": null,
            "align_items": null,
            "bottom": null,
            "_model_module": "@jupyter-widgets/base",
            "top": null,
            "grid_column": null,
            "overflow_y": null,
            "overflow_x": null,
            "grid_auto_flow": null,
            "grid_area": null,
            "grid_template_columns": null,
            "flex": null,
            "_model_name": "LayoutModel",
            "justify_items": null,
            "grid_row": null,
            "max_height": null,
            "align_content": null,
            "visibility": null,
            "align_self": null,
            "height": null,
            "min_height": null,
            "padding": null,
            "grid_auto_rows": null,
            "grid_gap": null,
            "max_width": null,
            "order": null,
            "_view_module_version": "1.2.0",
            "grid_template_areas": null,
            "object_position": null,
            "object_fit": null,
            "grid_auto_columns": null,
            "margin": null,
            "display": null,
            "left": null
          }
        },
        "e2e63581050341d78ce3aea5225b6f50": {
          "model_module": "@jupyter-widgets/controls",
          "model_name": "FloatProgressModel",
          "state": {
            "_view_name": "ProgressView",
            "style": "IPY_MODEL_13c7a927e10246c5869392fecf26d425",
            "_dom_classes": [],
            "description": "",
            "_model_name": "FloatProgressModel",
            "bar_style": "success",
            "max": 1,
            "_view_module": "@jupyter-widgets/controls",
            "_model_module_version": "1.5.0",
            "value": 1,
            "_view_count": null,
            "_view_module_version": "1.5.0",
            "orientation": "horizontal",
            "min": 0,
            "description_tooltip": null,
            "_model_module": "@jupyter-widgets/controls",
            "layout": "IPY_MODEL_7caf0dbe58ce4d37b7a496a276ca9925"
          }
        },
        "14a72e802bee430ab982257b4fd8daf4": {
          "model_module": "@jupyter-widgets/controls",
          "model_name": "HTMLModel",
          "state": {
            "_view_name": "HTMLView",
            "style": "IPY_MODEL_e7503c6b0dbf49febf76013f94b76834",
            "_dom_classes": [],
            "description": "",
            "_model_name": "HTMLModel",
            "placeholder": "​",
            "_view_module": "@jupyter-widgets/controls",
            "_model_module_version": "1.5.0",
            "value": " 1654784/? [00:00&lt;00:00, 7329914.95it/s]",
            "_view_count": null,
            "_view_module_version": "1.5.0",
            "description_tooltip": null,
            "_model_module": "@jupyter-widgets/controls",
            "layout": "IPY_MODEL_387c051dcb394afb83d719f64da3f2f3"
          }
        },
        "13c7a927e10246c5869392fecf26d425": {
          "model_module": "@jupyter-widgets/controls",
          "model_name": "ProgressStyleModel",
          "state": {
            "_view_name": "StyleView",
            "_model_name": "ProgressStyleModel",
            "description_width": "initial",
            "_view_module": "@jupyter-widgets/base",
            "_model_module_version": "1.5.0",
            "_view_count": null,
            "_view_module_version": "1.2.0",
            "bar_color": null,
            "_model_module": "@jupyter-widgets/controls"
          }
        },
        "7caf0dbe58ce4d37b7a496a276ca9925": {
          "model_module": "@jupyter-widgets/base",
          "model_name": "LayoutModel",
          "state": {
            "_view_name": "LayoutView",
            "grid_template_rows": null,
            "right": null,
            "justify_content": null,
            "_view_module": "@jupyter-widgets/base",
            "overflow": null,
            "_model_module_version": "1.2.0",
            "_view_count": null,
            "flex_flow": null,
            "width": null,
            "min_width": null,
            "border": null,
            "align_items": null,
            "bottom": null,
            "_model_module": "@jupyter-widgets/base",
            "top": null,
            "grid_column": null,
            "overflow_y": null,
            "overflow_x": null,
            "grid_auto_flow": null,
            "grid_area": null,
            "grid_template_columns": null,
            "flex": null,
            "_model_name": "LayoutModel",
            "justify_items": null,
            "grid_row": null,
            "max_height": null,
            "align_content": null,
            "visibility": null,
            "align_self": null,
            "height": null,
            "min_height": null,
            "padding": null,
            "grid_auto_rows": null,
            "grid_gap": null,
            "max_width": null,
            "order": null,
            "_view_module_version": "1.2.0",
            "grid_template_areas": null,
            "object_position": null,
            "object_fit": null,
            "grid_auto_columns": null,
            "margin": null,
            "display": null,
            "left": null
          }
        },
        "e7503c6b0dbf49febf76013f94b76834": {
          "model_module": "@jupyter-widgets/controls",
          "model_name": "DescriptionStyleModel",
          "state": {
            "_view_name": "StyleView",
            "_model_name": "DescriptionStyleModel",
            "description_width": "",
            "_view_module": "@jupyter-widgets/base",
            "_model_module_version": "1.5.0",
            "_view_count": null,
            "_view_module_version": "1.2.0",
            "_model_module": "@jupyter-widgets/controls"
          }
        },
        "387c051dcb394afb83d719f64da3f2f3": {
          "model_module": "@jupyter-widgets/base",
          "model_name": "LayoutModel",
          "state": {
            "_view_name": "LayoutView",
            "grid_template_rows": null,
            "right": null,
            "justify_content": null,
            "_view_module": "@jupyter-widgets/base",
            "overflow": null,
            "_model_module_version": "1.2.0",
            "_view_count": null,
            "flex_flow": null,
            "width": null,
            "min_width": null,
            "border": null,
            "align_items": null,
            "bottom": null,
            "_model_module": "@jupyter-widgets/base",
            "top": null,
            "grid_column": null,
            "overflow_y": null,
            "overflow_x": null,
            "grid_auto_flow": null,
            "grid_area": null,
            "grid_template_columns": null,
            "flex": null,
            "_model_name": "LayoutModel",
            "justify_items": null,
            "grid_row": null,
            "max_height": null,
            "align_content": null,
            "visibility": null,
            "align_self": null,
            "height": null,
            "min_height": null,
            "padding": null,
            "grid_auto_rows": null,
            "grid_gap": null,
            "max_width": null,
            "order": null,
            "_view_module_version": "1.2.0",
            "grid_template_areas": null,
            "object_position": null,
            "object_fit": null,
            "grid_auto_columns": null,
            "margin": null,
            "display": null,
            "left": null
          }
        },
        "3a4d1dd0ebf04774a2c12b36900dea50": {
          "model_module": "@jupyter-widgets/controls",
          "model_name": "HBoxModel",
          "state": {
            "_view_name": "HBoxView",
            "_dom_classes": [],
            "_model_name": "HBoxModel",
            "_view_module": "@jupyter-widgets/controls",
            "_model_module_version": "1.5.0",
            "_view_count": null,
            "_view_module_version": "1.5.0",
            "box_style": "",
            "layout": "IPY_MODEL_01192c9f213c45b99bd680039fe1d7af",
            "_model_module": "@jupyter-widgets/controls",
            "children": [
              "IPY_MODEL_8ba17e69b51642c59b5ff5a06d746ec3",
              "IPY_MODEL_8c74b82a2ba6442498342bad5bfdd07d"
            ]
          }
        },
        "01192c9f213c45b99bd680039fe1d7af": {
          "model_module": "@jupyter-widgets/base",
          "model_name": "LayoutModel",
          "state": {
            "_view_name": "LayoutView",
            "grid_template_rows": null,
            "right": null,
            "justify_content": null,
            "_view_module": "@jupyter-widgets/base",
            "overflow": null,
            "_model_module_version": "1.2.0",
            "_view_count": null,
            "flex_flow": null,
            "width": null,
            "min_width": null,
            "border": null,
            "align_items": null,
            "bottom": null,
            "_model_module": "@jupyter-widgets/base",
            "top": null,
            "grid_column": null,
            "overflow_y": null,
            "overflow_x": null,
            "grid_auto_flow": null,
            "grid_area": null,
            "grid_template_columns": null,
            "flex": null,
            "_model_name": "LayoutModel",
            "justify_items": null,
            "grid_row": null,
            "max_height": null,
            "align_content": null,
            "visibility": null,
            "align_self": null,
            "height": null,
            "min_height": null,
            "padding": null,
            "grid_auto_rows": null,
            "grid_gap": null,
            "max_width": null,
            "order": null,
            "_view_module_version": "1.2.0",
            "grid_template_areas": null,
            "object_position": null,
            "object_fit": null,
            "grid_auto_columns": null,
            "margin": null,
            "display": null,
            "left": null
          }
        },
        "8ba17e69b51642c59b5ff5a06d746ec3": {
          "model_module": "@jupyter-widgets/controls",
          "model_name": "FloatProgressModel",
          "state": {
            "_view_name": "ProgressView",
            "style": "IPY_MODEL_4076173984504641aa3ecf97489cc798",
            "_dom_classes": [],
            "description": "",
            "_model_name": "FloatProgressModel",
            "bar_style": "info",
            "max": 1,
            "_view_module": "@jupyter-widgets/controls",
            "_model_module_version": "1.5.0",
            "value": 0,
            "_view_count": null,
            "_view_module_version": "1.5.0",
            "orientation": "horizontal",
            "min": 0,
            "description_tooltip": null,
            "_model_module": "@jupyter-widgets/controls",
            "layout": "IPY_MODEL_36042af6f8bf4baaa5df46ea13014e30"
          }
        },
        "8c74b82a2ba6442498342bad5bfdd07d": {
          "model_module": "@jupyter-widgets/controls",
          "model_name": "HTMLModel",
          "state": {
            "_view_name": "HTMLView",
            "style": "IPY_MODEL_a4f4675082c449ee8ddd2956a71969f1",
            "_dom_classes": [],
            "description": "",
            "_model_name": "HTMLModel",
            "placeholder": "​",
            "_view_module": "@jupyter-widgets/controls",
            "_model_module_version": "1.5.0",
            "value": " 0/? [00:00&lt;?, ?it/s]",
            "_view_count": null,
            "_view_module_version": "1.5.0",
            "description_tooltip": null,
            "_model_module": "@jupyter-widgets/controls",
            "layout": "IPY_MODEL_0a2257da93d342d3aad919583e022dbc"
          }
        },
        "4076173984504641aa3ecf97489cc798": {
          "model_module": "@jupyter-widgets/controls",
          "model_name": "ProgressStyleModel",
          "state": {
            "_view_name": "StyleView",
            "_model_name": "ProgressStyleModel",
            "description_width": "initial",
            "_view_module": "@jupyter-widgets/base",
            "_model_module_version": "1.5.0",
            "_view_count": null,
            "_view_module_version": "1.2.0",
            "bar_color": null,
            "_model_module": "@jupyter-widgets/controls"
          }
        },
        "36042af6f8bf4baaa5df46ea13014e30": {
          "model_module": "@jupyter-widgets/base",
          "model_name": "LayoutModel",
          "state": {
            "_view_name": "LayoutView",
            "grid_template_rows": null,
            "right": null,
            "justify_content": null,
            "_view_module": "@jupyter-widgets/base",
            "overflow": null,
            "_model_module_version": "1.2.0",
            "_view_count": null,
            "flex_flow": null,
            "width": null,
            "min_width": null,
            "border": null,
            "align_items": null,
            "bottom": null,
            "_model_module": "@jupyter-widgets/base",
            "top": null,
            "grid_column": null,
            "overflow_y": null,
            "overflow_x": null,
            "grid_auto_flow": null,
            "grid_area": null,
            "grid_template_columns": null,
            "flex": null,
            "_model_name": "LayoutModel",
            "justify_items": null,
            "grid_row": null,
            "max_height": null,
            "align_content": null,
            "visibility": null,
            "align_self": null,
            "height": null,
            "min_height": null,
            "padding": null,
            "grid_auto_rows": null,
            "grid_gap": null,
            "max_width": null,
            "order": null,
            "_view_module_version": "1.2.0",
            "grid_template_areas": null,
            "object_position": null,
            "object_fit": null,
            "grid_auto_columns": null,
            "margin": null,
            "display": null,
            "left": null
          }
        },
        "a4f4675082c449ee8ddd2956a71969f1": {
          "model_module": "@jupyter-widgets/controls",
          "model_name": "DescriptionStyleModel",
          "state": {
            "_view_name": "StyleView",
            "_model_name": "DescriptionStyleModel",
            "description_width": "",
            "_view_module": "@jupyter-widgets/base",
            "_model_module_version": "1.5.0",
            "_view_count": null,
            "_view_module_version": "1.2.0",
            "_model_module": "@jupyter-widgets/controls"
          }
        },
        "0a2257da93d342d3aad919583e022dbc": {
          "model_module": "@jupyter-widgets/base",
          "model_name": "LayoutModel",
          "state": {
            "_view_name": "LayoutView",
            "grid_template_rows": null,
            "right": null,
            "justify_content": null,
            "_view_module": "@jupyter-widgets/base",
            "overflow": null,
            "_model_module_version": "1.2.0",
            "_view_count": null,
            "flex_flow": null,
            "width": null,
            "min_width": null,
            "border": null,
            "align_items": null,
            "bottom": null,
            "_model_module": "@jupyter-widgets/base",
            "top": null,
            "grid_column": null,
            "overflow_y": null,
            "overflow_x": null,
            "grid_auto_flow": null,
            "grid_area": null,
            "grid_template_columns": null,
            "flex": null,
            "_model_name": "LayoutModel",
            "justify_items": null,
            "grid_row": null,
            "max_height": null,
            "align_content": null,
            "visibility": null,
            "align_self": null,
            "height": null,
            "min_height": null,
            "padding": null,
            "grid_auto_rows": null,
            "grid_gap": null,
            "max_width": null,
            "order": null,
            "_view_module_version": "1.2.0",
            "grid_template_areas": null,
            "object_position": null,
            "object_fit": null,
            "grid_auto_columns": null,
            "margin": null,
            "display": null,
            "left": null
          }
        }
      }
    }
  },
  "cells": [
    {
      "cell_type": "markdown",
      "metadata": {
        "id": "view-in-github",
        "colab_type": "text"
      },
      "source": [
        "<a href=\"https://colab.research.google.com/github/bronemos/ip-mnist-bbox/blob/main/Obrada_informacija_Laboratorijska_vje%C5%BEba_5_Neuronske_mre%C5%BEe.ipynb\" target=\"_parent\"><img src=\"https://colab.research.google.com/assets/colab-badge.svg\" alt=\"Open In Colab\"/></a>"
      ]
    },
    {
      "cell_type": "markdown",
      "metadata": {
        "id": "qJsxY4wL8mA5"
      },
      "source": [
        "# Laboratorijska vježba - Obrada informacija - Neuronske mreže"
      ]
    },
    {
      "cell_type": "code",
      "metadata": {
        "id": "ZSE31EGe8mBC"
      },
      "source": [
        "import torch\n",
        "import torch.nn as nn\n",
        "import torchvision\n",
        "import torch.nn.functional as F\n",
        "import torch.optim as optim\n",
        "from torch.utils.data import TensorDataset, Dataset, DataLoader\n",
        "\n",
        "from torchsummary import summary\n",
        "\n",
        "import cv2\n",
        "import numpy as np\n",
        "import matplotlib.pyplot as plt"
      ],
      "execution_count": null,
      "outputs": []
    },
    {
      "cell_type": "code",
      "metadata": {
        "id": "shvVCyvZsUBY",
        "colab": {
          "base_uri": "https://localhost:8080/",
          "height": 629
        },
        "outputId": "0d9411f3-634d-46c2-8c36-a2a5a25103a1"
      },
      "source": [
        "!pip install torch==1.7.1 torchvision==0.8.2 torchaudio===0.7.2 -f https://download.pytorch.org/whl/torch_stable.html\r\n",
        "!pip install torchsummary\r\n",
        "!pip install numpy matplotlib opencv-python"
      ],
      "execution_count": null,
      "outputs": [
        {
          "output_type": "stream",
          "text": [
            "Looking in links: https://download.pytorch.org/whl/torch_stable.html\n",
            "Collecting torch==1.7.1\n",
            "\u001b[?25l  Downloading https://download.pytorch.org/whl/rocm3.8/torch-1.7.1%2Brocm3.8-cp36-cp36m-linux_x86_64.whl (588.0MB)\n",
            "\u001b[K     |████████████████████████████████| 588.0MB 30kB/s \n",
            "\u001b[?25hCollecting torchvision==0.8.2\n",
            "\u001b[?25l  Downloading https://download.pytorch.org/whl/cu92/torchvision-0.8.2%2Bcu92-cp36-cp36m-linux_x86_64.whl (12.5MB)\n",
            "\u001b[K     |████████████████████████████████| 12.5MB 249kB/s \n",
            "\u001b[?25hCollecting torchaudio===0.7.2\n",
            "\u001b[?25l  Downloading https://files.pythonhosted.org/packages/2a/f9/618434cf4e46dc975871e1516f5499abef6564ab4366f9b2321ee536be14/torchaudio-0.7.2-cp36-cp36m-manylinux1_x86_64.whl (7.6MB)\n",
            "\u001b[K     |████████████████████████████████| 7.6MB 6.4MB/s \n",
            "\u001b[?25hRequirement already satisfied: numpy in /usr/local/lib/python3.6/dist-packages (from torch==1.7.1) (1.19.5)\n",
            "Requirement already satisfied: dataclasses; python_version < \"3.7\" in /usr/local/lib/python3.6/dist-packages (from torch==1.7.1) (0.8)\n",
            "Requirement already satisfied: typing-extensions in /usr/local/lib/python3.6/dist-packages (from torch==1.7.1) (3.7.4.3)\n",
            "Requirement already satisfied: pillow>=4.1.1 in /usr/local/lib/python3.6/dist-packages (from torchvision==0.8.2) (7.0.0)\n",
            "Installing collected packages: torch, torchvision, torchaudio\n",
            "  Found existing installation: torch 1.7.0+cu101\n",
            "    Uninstalling torch-1.7.0+cu101:\n",
            "      Successfully uninstalled torch-1.7.0+cu101\n",
            "  Found existing installation: torchvision 0.8.1+cu101\n",
            "    Uninstalling torchvision-0.8.1+cu101:\n",
            "      Successfully uninstalled torchvision-0.8.1+cu101\n",
            "Successfully installed torch-1.7.1+rocm3.8 torchaudio-0.7.2 torchvision-0.8.2+cu92\n"
          ],
          "name": "stdout"
        },
        {
          "output_type": "display_data",
          "data": {
            "application/vnd.colab-display-data+json": {
              "pip_warning": {
                "packages": [
                  "torch",
                  "torchvision"
                ]
              }
            }
          },
          "metadata": {
            "tags": []
          }
        },
        {
          "output_type": "stream",
          "text": [
            "Requirement already satisfied: torchsummary in /usr/local/lib/python3.6/dist-packages (1.5.1)\n",
            "Requirement already satisfied: numpy in /usr/local/lib/python3.6/dist-packages (1.19.5)\n",
            "Requirement already satisfied: matplotlib in /usr/local/lib/python3.6/dist-packages (3.2.2)\n",
            "Requirement already satisfied: opencv-python in /usr/local/lib/python3.6/dist-packages (4.1.2.30)\n",
            "Requirement already satisfied: pyparsing!=2.0.4,!=2.1.2,!=2.1.6,>=2.0.1 in /usr/local/lib/python3.6/dist-packages (from matplotlib) (2.4.7)\n",
            "Requirement already satisfied: cycler>=0.10 in /usr/local/lib/python3.6/dist-packages (from matplotlib) (0.10.0)\n",
            "Requirement already satisfied: python-dateutil>=2.1 in /usr/local/lib/python3.6/dist-packages (from matplotlib) (2.8.1)\n",
            "Requirement already satisfied: kiwisolver>=1.0.1 in /usr/local/lib/python3.6/dist-packages (from matplotlib) (1.3.1)\n",
            "Requirement already satisfied: six in /usr/local/lib/python3.6/dist-packages (from cycler>=0.10->matplotlib) (1.15.0)\n"
          ],
          "name": "stdout"
        }
      ]
    },
    {
      "cell_type": "markdown",
      "metadata": {
        "id": "l3WCkur18mBD"
      },
      "source": [
        "# Zadatak 1 - Klasifikacija slike rukom pisanih znamenki"
      ]
    },
    {
      "cell_type": "markdown",
      "metadata": {
        "id": "5LQFOnwx8mBD"
      },
      "source": [
        "U prvom zadatku ove laboratorijske vježbe želimo analizirati utjecaj arhitekture mreže i drugih hiperparametara na uspješnost predikcije. Vaš zadatak je složiti nekoliko modela različitih karakteristika, te će te te modele istrenirati na problemu klasifikacije rukom pisanih znamenki.\n",
        "\n",
        "Veliki dio koda koji je potreban za provođenje vježbe je dan. Vi ćete riješiti zadatak nadopunjavanjem koda. Također ste slobodni izmjeniti predloženi kod, ali ne preporuča se. Za labos je potreban Python 3.6+ i PyTorch 1.6+."
      ]
    },
    {
      "cell_type": "markdown",
      "metadata": {
        "id": "sGsPVukl8mBF"
      },
      "source": [
        "## Učitavanje podataka"
      ]
    },
    {
      "cell_type": "markdown",
      "metadata": {
        "id": "kkfRpD1q8mBF"
      },
      "source": [
        "Sljedeći kod priprema MNIST Dataset objekte koji dolaze s PyTorch paketom. Također instanciramo i DataLoader objekte koji rukuju sa mješanjem i batchanjem skupa podataka."
      ]
    },
    {
      "cell_type": "code",
      "metadata": {
        "id": "fAaV4B5S8mBG",
        "colab": {
          "base_uri": "https://localhost:8080/",
          "height": 420,
          "referenced_widgets": [
            "aa6fb5e996414563b6b43f1a90b2bf7a",
            "e8857f9c68d14591bf4bf1954024ba07",
            "927b6fe35a4341d7905d6427dc17e395",
            "0b40fe06878849e094fb1f7e22e3d141",
            "cc6c642d294542baa41ad8e6e3c1a751",
            "b3f1c1c2bdfe4569b574cd04ee1666e2",
            "364219e9ece94bec8309bd926c154b85",
            "986385be686b4aa9851fbd72d2793fa3",
            "a214c7e68bf148338d974b1d76a67b1a",
            "a75d4e7bdf9a492981959e881dc92149",
            "d120ffaf8b5a40b3a3d53ead73e53cab",
            "601b1e214ced4e139e08c96e1fd350b3",
            "ce0c44046853425aab026c7e05813eff",
            "4c22962b783444988dda15181aec6af8",
            "5e242307d85f4664ac8e1419e9e090fc",
            "c363a32e7340439c81b93503be8f0f04",
            "91a76d6c29b441608f731422c96cec72",
            "4708e39bec4a47429ac5234d0f993b22",
            "b768134303274ca6afdc7118789f35cb",
            "a9d856a02364488a906900e3b93f951d",
            "2781d1c2341e45ef9b866d33455c6cb1",
            "1771a5033fe84a8eb0cbd0acf2c73512",
            "53d819f2846a40b2a5f0640ac0a03a81",
            "8032193296e54d8b909adeb5e4e335b1",
            "bf2a8e2af7624a8180bfe54c926f0ae6",
            "37c8e67f90c7478db30365302cd75da1",
            "005f5edc25f048bf84f4bf93cee22a88",
            "faa0064cf959428d9123d6f4ba3e5b3f",
            "9f0dd8f068274c19a0e9fe3783d2c463",
            "9ea4ea06f1d246bd98623e27876fae16",
            "d941110787f74530807d183ae895a8c7",
            "66d65913732e4b79809afbf08796b337"
          ]
        },
        "outputId": "344738e0-9a30-45cb-dc36-3a754add4b8d"
      },
      "source": [
        "batch_size_train = 64\n",
        "batch_size_test = 64\n",
        "\n",
        "train_set = torchvision.datasets.MNIST('./files/', train=True, download=True,\n",
        "                                       transform=torchvision.transforms.Compose([\n",
        "                                           torchvision.transforms.ToTensor(),\n",
        "                                           torchvision.transforms.Normalize((0.1307,), (0.3081,))])\n",
        "                                      )\n",
        "\n",
        "\n",
        "test_set = torchvision.datasets.MNIST('./files/', train=False, download=True,\n",
        "                                      transform=torchvision.transforms.Compose([\n",
        "                                          torchvision.transforms.ToTensor(),\n",
        "                                          torchvision.transforms.Normalize((0.1307,), (0.3081,))])\n",
        "                                     )"
      ],
      "execution_count": null,
      "outputs": [
        {
          "output_type": "stream",
          "text": [
            "Downloading http://yann.lecun.com/exdb/mnist/train-images-idx3-ubyte.gz to ./files/MNIST/raw/train-images-idx3-ubyte.gz\n"
          ],
          "name": "stdout"
        },
        {
          "output_type": "display_data",
          "data": {
            "application/vnd.jupyter.widget-view+json": {
              "model_id": "aa6fb5e996414563b6b43f1a90b2bf7a",
              "version_minor": 0,
              "version_major": 2
            },
            "text/plain": [
              "HBox(children=(FloatProgress(value=1.0, bar_style='info', max=1.0), HTML(value='')))"
            ]
          },
          "metadata": {
            "tags": []
          }
        },
        {
          "output_type": "stream",
          "text": [
            "Extracting ./files/MNIST/raw/train-images-idx3-ubyte.gz to ./files/MNIST/raw\n",
            "Downloading http://yann.lecun.com/exdb/mnist/train-labels-idx1-ubyte.gz to ./files/MNIST/raw/train-labels-idx1-ubyte.gz\n"
          ],
          "name": "stdout"
        },
        {
          "output_type": "display_data",
          "data": {
            "application/vnd.jupyter.widget-view+json": {
              "model_id": "a214c7e68bf148338d974b1d76a67b1a",
              "version_minor": 0,
              "version_major": 2
            },
            "text/plain": [
              "HBox(children=(FloatProgress(value=1.0, bar_style='info', max=1.0), HTML(value='')))"
            ]
          },
          "metadata": {
            "tags": []
          }
        },
        {
          "output_type": "stream",
          "text": [
            "Extracting ./files/MNIST/raw/train-labels-idx1-ubyte.gz to ./files/MNIST/raw\n",
            "Downloading http://yann.lecun.com/exdb/mnist/t10k-images-idx3-ubyte.gz to ./files/MNIST/raw/t10k-images-idx3-ubyte.gz\n"
          ],
          "name": "stdout"
        },
        {
          "output_type": "display_data",
          "data": {
            "application/vnd.jupyter.widget-view+json": {
              "model_id": "91a76d6c29b441608f731422c96cec72",
              "version_minor": 0,
              "version_major": 2
            },
            "text/plain": [
              "HBox(children=(FloatProgress(value=1.0, bar_style='info', max=1.0), HTML(value='')))"
            ]
          },
          "metadata": {
            "tags": []
          }
        },
        {
          "output_type": "stream",
          "text": [
            "Extracting ./files/MNIST/raw/t10k-images-idx3-ubyte.gz to ./files/MNIST/raw\n",
            "Downloading http://yann.lecun.com/exdb/mnist/t10k-labels-idx1-ubyte.gz to ./files/MNIST/raw/t10k-labels-idx1-ubyte.gz\n"
          ],
          "name": "stdout"
        },
        {
          "output_type": "display_data",
          "data": {
            "application/vnd.jupyter.widget-view+json": {
              "model_id": "bf2a8e2af7624a8180bfe54c926f0ae6",
              "version_minor": 0,
              "version_major": 2
            },
            "text/plain": [
              "HBox(children=(FloatProgress(value=1.0, bar_style='info', max=1.0), HTML(value='')))"
            ]
          },
          "metadata": {
            "tags": []
          }
        },
        {
          "output_type": "stream",
          "text": [
            "Extracting ./files/MNIST/raw/t10k-labels-idx1-ubyte.gz to ./files/MNIST/raw\n",
            "Processing...\n",
            "Done!\n",
            "\n",
            "\n",
            "\n"
          ],
          "name": "stdout"
        },
        {
          "output_type": "stream",
          "text": [
            "/usr/local/lib/python3.6/dist-packages/torchvision/datasets/mnist.py:480: UserWarning: The given NumPy array is not writeable, and PyTorch does not support non-writeable tensors. This means you can write to the underlying (supposedly non-writeable) NumPy array using the tensor. You may want to copy the array to protect its data or make it writeable before converting it to a tensor. This type of warning will be suppressed for the rest of this program. (Triggered internally at  /pytorch/torch/csrc/utils/tensor_numpy.cpp:141.)\n",
            "  return torch.from_numpy(parsed.astype(m[2], copy=False)).view(*s)\n"
          ],
          "name": "stderr"
        }
      ]
    },
    {
      "cell_type": "code",
      "metadata": {
        "id": "_J3mCzx_8mBH"
      },
      "source": [
        "train_loader = DataLoader(train_set, batch_size=batch_size_train, shuffle=True)\n",
        "test_loader = DataLoader(test_set, batch_size=batch_size_test, shuffle=True)"
      ],
      "execution_count": null,
      "outputs": []
    },
    {
      "cell_type": "markdown",
      "metadata": {
        "id": "vDMLAixp8mBH"
      },
      "source": [
        "#### Podzadatak a)\n",
        "Prikažite nekoliko primjera iz skupa za testiranje. Sliku pokažite pomoću `matplotlib` funkcije `imshow`. Neka `title` prikazane slike bude labela uzorka."
      ]
    },
    {
      "cell_type": "code",
      "metadata": {
        "id": "LvgD-IhH8mBI",
        "colab": {
          "base_uri": "https://localhost:8080/",
          "height": 314
        },
        "outputId": "0861a1b1-b1cf-47c5-82bb-49c88817045b"
      },
      "source": [
        "examples = enumerate(test_loader)\n",
        "batch_idx, (example_data, example_targets) = next(examples)\n",
        "\n",
        "fig = plt.figure()\n",
        "for i in range(6):\n",
        "    plt.subplot(2,3,i+1)\n",
        "    plt.tight_layout()\n",
        "    # ---- \n",
        "    plt.title(int(example_targets[i]))\n",
        "    plt.imshow(np.reshape(example_data[i], (28, 28)), cmap='gray_r')\n",
        "    # ----"
      ],
      "execution_count": null,
      "outputs": [
        {
          "output_type": "stream",
          "text": [
            "\n"
          ],
          "name": "stdout"
        },
        {
          "output_type": "display_data",
          "data": {
            "image/png": "[encoded data removed]",
            "text/plain": [
              "<Figure size 432x288 with 6 Axes>"
            ]
          },
          "metadata": {
            "tags": [],
            "needs_background": "light"
          }
        }
      ]
    },
    {
      "cell_type": "markdown",
      "metadata": {
        "id": "1kQ9qiYI8mBJ"
      },
      "source": [
        "## Pomoćne metode za treniranje neuronskih mreža"
      ]
    },
    {
      "cell_type": "markdown",
      "metadata": {
        "id": "1S0DED4z8mBK"
      },
      "source": [
        "Nakon podzadataka ove sekcije postoji skup testova na kojima možete provjeriti točnost vaših pomoćnih funkcija. Bez točno rješenih pomoćnih funkcija ostatak labosa ne možete riješiti. "
      ]
    },
    {
      "cell_type": "markdown",
      "metadata": {
        "id": "hmrFy8BM8mBK"
      },
      "source": [
        "#### Podzadatak b) - Funkcija za određivanje broja parametara PyTorch modela\n",
        "\n",
        "Jedna od metoda usporedbe naših modela će biti po broju parametara koji čine taj model. Radi toga je potrebno napisati metodu `get_number_of_model_parameters(model)` koja za predani model `model` vraća ukupni broj parametara tog modela.\n",
        "Svaki PyTorch model sadrži implementaciju metode `.parameters()` koja vraća iterator nad parametrima modela. Ti parametri su tipa `torch.nn.parameter.Parameter`, čije dimenzije možemo dobiti pomoću `.shape` propertya.\n",
        "Dovrište traženu metodu."
      ]
    },
    {
      "cell_type": "code",
      "metadata": {
        "id": "K3eW20iq8mBK"
      },
      "source": [
        "def get_number_of_model_parameters(model):\n",
        "    return len(list(model.parameters()))"
      ],
      "execution_count": null,
      "outputs": []
    },
    {
      "cell_type": "markdown",
      "metadata": {
        "id": "9lYXeFCj8mBK"
      },
      "source": [
        "#### Podzadatak c) - Funkcija za treniranje modela\n",
        "\n",
        "Model se trenira u četiri koraka.\n",
        "\n",
        "1. Izračuna se prolaz unaprijed nad jednim batchom.\n",
        "2. Na temelju dobivenog izlaza i točnih labela se računa gubitak. Kako je pokazano u demonstracijskoj bilježnici, \n",
        "3. Izračunata greška se propagira unazad kroz mrežu radi računanja gradijenata.\n",
        "4. Na temelju gradijenata, vrijednosti parametara i parametrima optimizatora (koji optimizator se koristi, kolika je stopa učenja, momentum i slično) se računa nova vrijednost parametara modela.\n",
        "\n",
        "Implementirajte te korake u funkciji `train_step(train_loader, epoch, device, verbose)`.  \n",
        "\n",
        "Napomene:\n",
        "* Grešku koju trebate računati je \"negative log likelihood loss\", za koju PyTorch nudi implementaciju. Preporučamo da koristite gotovu implementaciju loss funkcije. \n",
        "* Računanje gradijenata pomoću propagacije greške u nazad se računa pomoću metode `.backward()`. Nad kojim elementom pozivamo tu metodu?\n",
        "* Korak optimizacije se radi pomoću `.step()` metode optimizator objekta. Pretpostavite da postoji objekt `optimizer` u globalnom scopeu.\n",
        "* Pripazite da Vam se gradijenti ne akumuliraju kroz više koraka optimizacije. PyTorch modeli nude metodu `.zero_grad()` koja postavlja vrijednosti svih gradijenata nekog modela na 0.\n"
      ]
    },
    {
      "cell_type": "code",
      "metadata": {
        "id": "9v9QCXMS8mBL"
      },
      "source": [
        "def train_step(network, train_loader, epoch, device, verbose=True):\n",
        "    train_losses = []\n",
        "    train_counter = []\n",
        "    \n",
        "    network.train()\n",
        "    \n",
        "    for batch_idx, (data, target) in enumerate(train_loader):\n",
        "        data = data.to(device)\n",
        "        target = target.to(device)\n",
        "        \n",
        "        # -------\n",
        "        network.zero_grad()\n",
        "        output = network(data)\n",
        "        loss = F.nll_loss(output, target)\n",
        "        loss.backward()\n",
        "        optimizer.step()\n",
        "        # -----------\n",
        "        \n",
        "        if (batch_idx % log_interval == 0):\n",
        "            if verbose:\n",
        "                print('Train Epoch: {:5d} [{:5d}/{:5d} ({:2.0f}%)]\\tLoss: {:.6f}'.format(\n",
        "                    epoch, \n",
        "                    batch_idx * len(data), \n",
        "                    len(train_loader.dataset),\n",
        "                    100. * batch_idx / len(train_loader), \n",
        "                    loss.item()))\n",
        "            \n",
        "            train_losses.append(loss.item())\n",
        "            train_counter.append((batch_idx*64) + ((epoch-1)*len(train_loader.dataset)))\n",
        "    \n",
        "    return train_losses, train_counter"
      ],
      "execution_count": null,
      "outputs": []
    },
    {
      "cell_type": "markdown",
      "metadata": {
        "id": "ohf-a5xe8mBL"
      },
      "source": [
        "#### Podzadatak d) - Funkcija za evaluaciju modela\n",
        "\n",
        "Uspješnost učenja određujemo pomoću metrika točnosti. U ovoj laboratoriskoj vježbi pratimo dvije metrike - `negative log likelihood` i `accuracy`. Sa NLLLoss smo se već susreli; accuracy definiramo kao:\n",
        "\n",
        "$ accuracy = \\frac{\\text{number of correctly classified samples}}{\\text{total number of samples}} $\n",
        "\n",
        "Nadopunite funkciju `test(network, test_loader, device, verbose)` tako da se model evaluira za navedene metrike.\n",
        "\n",
        "U predloženom kodu se koristi `with torch.no_grad()`. Kako tijekom evaluacije ne mjenjamo parametre modela, gradijent nam nije potreban. Time ubrzavamo računanje (ne računa se gradijent), štedimo memoriju (izračunati gradijent se ne sprema) i spriječavamo buduće probleme (npr. ostanu gradijenti do sljedeće faze treniranja, gdje se gradijenti test seta iskoriste za učenje)."
      ]
    },
    {
      "cell_type": "code",
      "metadata": {
        "id": "6yZi-V2G8mBM"
      },
      "source": [
        "def test(network, test_loader, device, verbose=True):\n",
        "    network.eval()\n",
        "    \n",
        "    test_loss = 0\n",
        "    correct = 0\n",
        "    with torch.no_grad():\n",
        "        for data, target in test_loader:\n",
        "            data = data.to(device)\n",
        "            target = target.to(device)\n",
        "            \n",
        "            # ----- \n",
        "            output = network(data)\n",
        "            test_loss += F.nll_loss(output, target, reduction='sum').item()\n",
        "            pred = output.data.max(1, keepdim=True)[1]\n",
        "            correct += pred.eq(target.data.view_as(pred)).sum()\n",
        "            # -------\n",
        "            \n",
        "    test_loss /= len(test_loader.dataset)\n",
        "    accuracy = 100. * correct / len(test_loader.dataset)\n",
        "    \n",
        "    if verbose:\n",
        "        print('\\nTest set: Avg. loss: {:.4f}, Accuracy: {:5d}/{:5d} ({:2.2f}%)\\n'.format(\n",
        "            test_loss, \n",
        "            correct, \n",
        "            len(test_loader.dataset),\n",
        "            accuracy))\n",
        "    \n",
        "    return test_loss, accuracy.item()"
      ],
      "execution_count": null,
      "outputs": []
    },
    {
      "cell_type": "markdown",
      "metadata": {
        "id": "UU8TX3m_8mBM"
      },
      "source": [
        "U sljedećoj fazi laboratorijske vježbe izvršavamo eksperimente, spremamo rezultate i uspoređujemo. Rezultate ćemo spremati u mapi `results`, tako da će `key` mape biti naziv eksperimenta, a vrijednost će biti `tuple` koji sadrži vrijednosti po kojima se model uspoređuje."
      ]
    },
    {
      "cell_type": "code",
      "metadata": {
        "id": "McGMo44M8mBN"
      },
      "source": [
        "results = dict()"
      ],
      "execution_count": null,
      "outputs": []
    },
    {
      "cell_type": "markdown",
      "metadata": {
        "id": "aiqiUWi_8mBN"
      },
      "source": [
        "#### Podzadatak e) - Funkcija za provođenje cijelokupnog eksperimenta nad jednim modelom\n",
        "\n",
        "Sada je vrijeme da se koraci iz prethodnih podzadataka objedine. Funkcija `train_network(network, train_loader, test_loader, device)` radi po sljedećem principu:\n",
        "\n",
        "* Pretpostavlja se da u globalnom scopeu postoji varijabla imena `n_epochs` koja nam govori koliko epoha će se eksperiment izvršavati\n",
        "* Liste `train_losses` i `test_losses` skupljaju loss vrijednosti tijekom treniranja, dok `train_counter` i `test_counter` skupljaju trenutke u kojima se metrika zabilježila (drugim riječima, to su X i Y os na grafu \"loss po vremenu\") \n",
        "* prije samog treniranja se vrši testiranje modela, da se utvrdi performansa slučajnog modela\n",
        "* U svakoj epohi se model trenira, testira i rezultati se zapisuju u odgovarajuće liste\n",
        "* Funkcija vraća te liste na kraju"
      ]
    },
    {
      "cell_type": "code",
      "metadata": {
        "id": "cJegOPOX8mBO"
      },
      "source": [
        "def train_network(network, train_loader, test_loader, device='cpu'):\n",
        "    train_losses = []\n",
        "    train_counter = []\n",
        "    test_losses = []\n",
        "    test_counter = [i*len(train_loader.dataset) for i in range(n_epochs + 1)]\n",
        "\n",
        "    # -----\n",
        "    test_loss, test_accuracy = test(network, test_loader, device)\n",
        "    # -------------\n",
        "    test_losses.append(test_loss)\n",
        "\n",
        "    for epoch in range(1, n_epochs + 1):\n",
        "        # ---- \n",
        "        new_train_losses, new_train_counter = train_step(network, train_loader, epoch, device)\n",
        "        test_loss, test_accuracy = test(network, test_loader, device)\n",
        "        # ---------\n",
        "        \n",
        "        train_losses.extend(new_train_losses)\n",
        "        train_counter.extend(new_train_counter)\n",
        "        test_losses.append(test_loss)\n",
        "\n",
        "    return train_losses, train_counter, test_losses, test_counter, test_accuracy"
      ],
      "execution_count": null,
      "outputs": []
    },
    {
      "cell_type": "markdown",
      "metadata": {
        "id": "BPx7ob8Y8mBO"
      },
      "source": [
        "#### Testovi za utvrđivanje točnosti rada pomoćnih funkcija"
      ]
    },
    {
      "cell_type": "markdown",
      "metadata": {
        "id": "paV04rNe8mBO"
      },
      "source": [
        "Sljedeći kod služi kao pomoć za provjeru ispravnosti gore traženih pomoćnih funkcija. Generira se dataset u dva odvojena skupa, i cilj je naučiti model koji klasificira iz kojeg skupa točka dolazi. Prvo generiramo podatke i slažemo DataLoader:"
      ]
    },
    {
      "cell_type": "code",
      "metadata": {
        "id": "kNsH_z638mBP",
        "colab": {
          "base_uri": "https://localhost:8080/",
          "height": 265
        },
        "outputId": "3a0923cc-34c9-400d-c140-1989f6f867b6"
      },
      "source": [
        "data_x = np.hstack([np.random.uniform(1, 3, 50), np.random.uniform(7, 9, 50)])\n",
        "data_y = np.hstack([np.random.uniform(1, 4, 50), np.random.uniform(10, 13, 50)])\n",
        "labels = [0 if x < 50 else 1 for x in range(0, 100)]\n",
        "\n",
        "for idx, unique_label in enumerate([\"lower left\", \"upper right\"]):\n",
        "    if idx == 0:\n",
        "        plt.scatter(data_x[0:50], data_y[0:50], label=unique_label)\n",
        "    if idx == 1:\n",
        "        plt.scatter(data_x[50:], data_y[50:], label=unique_label)\n",
        "        \n",
        "plt.legend()\n",
        "plt.xlim(0, 10)\n",
        "plt.ylim(0, 15)\n",
        "\n",
        "\n",
        "tensor_x = torch.Tensor(np.dstack([data_x, data_y]).reshape(100, 2).astype(np.float32))\n",
        "tensor_y = torch.Tensor(labels).to(dtype=torch.int64)\n",
        "\n",
        "toy_dataset = TensorDataset(tensor_x, tensor_y)\n",
        "toy_dataloader = DataLoader(toy_dataset, batch_size=1, shuffle=True)"
      ],
      "execution_count": null,
      "outputs": [
        {
          "output_type": "display_data",
          "data": {
            "image/png": "[encoded data removed]",
            "text/plain": [
              "<Figure size 432x288 with 1 Axes>"
            ]
          },
          "metadata": {
            "tags": [],
            "needs_background": "light"
          }
        }
      ]
    },
    {
      "cell_type": "markdown",
      "metadata": {
        "id": "iNHdjaCR8mBQ"
      },
      "source": [
        "Nakon toga definiramo naš model. U ovom slučaju je model dvoslojna mreža sa dva potpuno povezana sloja. "
      ]
    },
    {
      "cell_type": "code",
      "metadata": {
        "id": "WbZMVoc98mBQ"
      },
      "source": [
        "class Net(nn.Module):\n",
        "    def __init__(self):\n",
        "        super(Net, self).__init__()\n",
        "        self.fc1 = nn.Linear(2, 4)\n",
        "        self.fc2 = nn.Linear(4, 2)\n",
        "        \n",
        "    def forward(self, x):\n",
        "        x = F.relu(self.fc1(x))\n",
        "        x = F.dropout(x, training=self.training)\n",
        "        x = self.fc2(x)\n",
        "        \n",
        "        return F.log_softmax(x, dim=1)"
      ],
      "execution_count": null,
      "outputs": []
    },
    {
      "cell_type": "markdown",
      "metadata": {
        "id": "br8AYdhJ8mBQ"
      },
      "source": [
        "Podešavamo parametre koje naše pomoćne funkcije očekivaju, te instanciramo model i optimizator."
      ]
    },
    {
      "cell_type": "code",
      "metadata": {
        "id": "mqep0hYD8mBR"
      },
      "source": [
        "n_epochs = 30\n",
        "learning_rate = 0.01\n",
        "log_interval = 33\n",
        "\n",
        "network = Net().to('cpu')\n",
        "optimizer = optim.SGD(network.parameters(), lr=learning_rate)"
      ],
      "execution_count": null,
      "outputs": []
    },
    {
      "cell_type": "markdown",
      "metadata": {
        "id": "lVxivEP58mBR"
      },
      "source": [
        "I sada možemo trenirati naš model. Vaše funkcije su ispravne ako točnost doesgne 100% (ili barem jako blizu). **Bez ispravnih pomoćnih funkcija nećete moći riješiti ostatak labosa.**"
      ]
    },
    {
      "cell_type": "code",
      "metadata": {
        "id": "kd9btJ7f8mBR",
        "colab": {
          "base_uri": "https://localhost:8080/"
        },
        "outputId": "86dff6b2-f913-494b-c151-e87edad041d2"
      },
      "source": [
        "train_network(network, toy_dataloader, toy_dataloader, 'cpu')"
      ],
      "execution_count": null,
      "outputs": [
        {
          "output_type": "stream",
          "text": [
            "\n",
            "Test set: Avg. loss: 0.7293, Accuracy:    50/  100 (50.00%)\n",
            "\n",
            "Train Epoch:     1 [    0/  100 ( 0%)]\tLoss: 0.999737\n",
            "Train Epoch:     1 [   33/  100 (33%)]\tLoss: 0.486055\n",
            "Train Epoch:     1 [   66/  100 (66%)]\tLoss: 0.949938\n",
            "Train Epoch:     1 [   99/  100 (99%)]\tLoss: 0.552742\n",
            "\n",
            "Test set: Avg. loss: 0.7053, Accuracy:    50/  100 (50.00%)\n",
            "\n",
            "Train Epoch:     2 [    0/  100 ( 0%)]\tLoss: 0.549145\n",
            "Train Epoch:     2 [   33/  100 (33%)]\tLoss: 0.828833\n",
            "Train Epoch:     2 [   66/  100 (66%)]\tLoss: 0.803513\n",
            "Train Epoch:     2 [   99/  100 (99%)]\tLoss: 0.601875\n",
            "\n",
            "Test set: Avg. loss: 0.6982, Accuracy:    50/  100 (50.00%)\n",
            "\n",
            "Train Epoch:     3 [    0/  100 ( 0%)]\tLoss: 0.798559\n",
            "Train Epoch:     3 [   33/  100 (33%)]\tLoss: 0.766533\n",
            "Train Epoch:     3 [   66/  100 (66%)]\tLoss: 0.789775\n",
            "Train Epoch:     3 [   99/  100 (99%)]\tLoss: 0.760465\n",
            "\n",
            "Test set: Avg. loss: 0.6949, Accuracy:    50/  100 (50.00%)\n",
            "\n",
            "Train Epoch:     4 [    0/  100 ( 0%)]\tLoss: 0.635069\n",
            "Train Epoch:     4 [   33/  100 (33%)]\tLoss: 0.665921\n",
            "Train Epoch:     4 [   66/  100 (66%)]\tLoss: 0.758345\n",
            "Train Epoch:     4 [   99/  100 (99%)]\tLoss: 0.734954\n",
            "\n",
            "Test set: Avg. loss: 0.6938, Accuracy:    50/  100 (50.00%)\n",
            "\n",
            "Train Epoch:     5 [    0/  100 ( 0%)]\tLoss: 0.729550\n",
            "Train Epoch:     5 [   33/  100 (33%)]\tLoss: 0.677656\n",
            "Train Epoch:     5 [   66/  100 (66%)]\tLoss: 0.721390\n",
            "Train Epoch:     5 [   99/  100 (99%)]\tLoss: 0.673101\n",
            "\n",
            "Test set: Avg. loss: 0.6935, Accuracy:    50/  100 (50.00%)\n",
            "\n",
            "Train Epoch:     6 [    0/  100 ( 0%)]\tLoss: 0.668313\n",
            "Train Epoch:     6 [   33/  100 (33%)]\tLoss: 0.632560\n",
            "Train Epoch:     6 [   66/  100 (66%)]\tLoss: 0.686652\n",
            "Train Epoch:     6 [   99/  100 (99%)]\tLoss: 0.686637\n",
            "\n",
            "Test set: Avg. loss: 0.6932, Accuracy:    50/  100 (50.00%)\n",
            "\n",
            "Train Epoch:     7 [    0/  100 ( 0%)]\tLoss: 0.704712\n",
            "Train Epoch:     7 [   33/  100 (33%)]\tLoss: 0.652618\n",
            "Train Epoch:     7 [   66/  100 (66%)]\tLoss: 0.653929\n",
            "Train Epoch:     7 [   99/  100 (99%)]\tLoss: 0.702257\n",
            "\n",
            "Test set: Avg. loss: 0.6932, Accuracy:    50/  100 (50.00%)\n",
            "\n",
            "Train Epoch:     8 [    0/  100 ( 0%)]\tLoss: 0.697179\n",
            "Train Epoch:     8 [   33/  100 (33%)]\tLoss: 0.720107\n",
            "Train Epoch:     8 [   66/  100 (66%)]\tLoss: 0.719760\n",
            "Train Epoch:     8 [   99/  100 (99%)]\tLoss: 0.704705\n",
            "\n",
            "Test set: Avg. loss: 0.6932, Accuracy:    50/  100 (50.00%)\n",
            "\n",
            "Train Epoch:     9 [    0/  100 ( 0%)]\tLoss: 0.699602\n",
            "Train Epoch:     9 [   33/  100 (33%)]\tLoss: 0.715522\n",
            "Train Epoch:     9 [   66/  100 (66%)]\tLoss: 0.705963\n",
            "Train Epoch:     9 [   99/  100 (99%)]\tLoss: 0.694118\n",
            "\n",
            "Test set: Avg. loss: 0.6932, Accuracy:    50/  100 (50.00%)\n",
            "\n",
            "Train Epoch:    10 [    0/  100 ( 0%)]\tLoss: 0.697190\n",
            "Train Epoch:    10 [   33/  100 (33%)]\tLoss: 0.712883\n",
            "Train Epoch:    10 [   66/  100 (66%)]\tLoss: 0.719176\n",
            "Train Epoch:    10 [   99/  100 (99%)]\tLoss: 0.691744\n",
            "\n",
            "Test set: Avg. loss: 0.6932, Accuracy:    50/  100 (50.00%)\n",
            "\n",
            "Train Epoch:    11 [    0/  100 ( 0%)]\tLoss: 0.699565\n",
            "Train Epoch:    11 [   33/  100 (33%)]\tLoss: 0.740594\n",
            "Train Epoch:    11 [   66/  100 (66%)]\tLoss: 0.742602\n",
            "Train Epoch:    11 [   99/  100 (99%)]\tLoss: 0.684702\n",
            "\n",
            "Test set: Avg. loss: 0.6932, Accuracy:    50/  100 (50.00%)\n",
            "\n",
            "Train Epoch:    12 [    0/  100 ( 0%)]\tLoss: 0.679799\n",
            "Train Epoch:    12 [   33/  100 (33%)]\tLoss: 0.689888\n",
            "Train Epoch:    12 [   66/  100 (66%)]\tLoss: 0.677712\n",
            "Train Epoch:    12 [   99/  100 (99%)]\tLoss: 0.681805\n",
            "\n",
            "Test set: Avg. loss: 0.6933, Accuracy:    50/  100 (50.00%)\n",
            "\n",
            "Train Epoch:    13 [    0/  100 ( 0%)]\tLoss: 0.709631\n",
            "Train Epoch:    13 [   33/  100 (33%)]\tLoss: 0.675476\n",
            "Train Epoch:    13 [   66/  100 (66%)]\tLoss: 0.676960\n",
            "Train Epoch:    13 [   99/  100 (99%)]\tLoss: 0.684218\n",
            "\n",
            "Test set: Avg. loss: 0.6932, Accuracy:    50/  100 (50.00%)\n",
            "\n",
            "Train Epoch:    14 [    0/  100 ( 0%)]\tLoss: 0.707169\n",
            "Train Epoch:    14 [   33/  100 (33%)]\tLoss: 0.738710\n",
            "Train Epoch:    14 [   66/  100 (66%)]\tLoss: 0.698989\n",
            "Train Epoch:    14 [   99/  100 (99%)]\tLoss: 0.690063\n",
            "\n",
            "Test set: Avg. loss: 0.6932, Accuracy:    50/  100 (50.00%)\n",
            "\n",
            "Train Epoch:    15 [    0/  100 ( 0%)]\tLoss: 0.685106\n",
            "Train Epoch:    15 [   33/  100 (33%)]\tLoss: 0.639784\n",
            "Train Epoch:    15 [   66/  100 (66%)]\tLoss: 0.679634\n",
            "Train Epoch:    15 [   99/  100 (99%)]\tLoss: 0.716209\n",
            "\n",
            "Test set: Avg. loss: 0.6933, Accuracy:    50/  100 (50.00%)\n",
            "\n",
            "Train Epoch:    16 [    0/  100 ( 0%)]\tLoss: 0.675616\n",
            "Train Epoch:    16 [   33/  100 (33%)]\tLoss: 0.692923\n",
            "Train Epoch:    16 [   66/  100 (66%)]\tLoss: 0.688665\n",
            "Train Epoch:    16 [   99/  100 (99%)]\tLoss: 0.687887\n",
            "\n",
            "Test set: Avg. loss: 0.6932, Accuracy:    50/  100 (50.00%)\n",
            "\n",
            "Train Epoch:    17 [    0/  100 ( 0%)]\tLoss: 0.703447\n",
            "Train Epoch:    17 [   33/  100 (33%)]\tLoss: 0.706209\n",
            "Train Epoch:    17 [   66/  100 (66%)]\tLoss: 0.690175\n",
            "Train Epoch:    17 [   99/  100 (99%)]\tLoss: 0.686037\n",
            "\n",
            "Test set: Avg. loss: 0.6932, Accuracy:    50/  100 (50.00%)\n",
            "\n",
            "Train Epoch:    18 [    0/  100 ( 0%)]\tLoss: 0.705320\n",
            "Train Epoch:    18 [   33/  100 (33%)]\tLoss: 0.714781\n",
            "Train Epoch:    18 [   66/  100 (66%)]\tLoss: 0.688677\n",
            "Train Epoch:    18 [   99/  100 (99%)]\tLoss: 0.712276\n",
            "\n",
            "Test set: Avg. loss: 0.6932, Accuracy:    50/  100 (50.00%)\n",
            "\n",
            "Train Epoch:    19 [    0/  100 ( 0%)]\tLoss: 0.707098\n",
            "Train Epoch:    19 [   33/  100 (33%)]\tLoss: 0.724777\n",
            "Train Epoch:    19 [   66/  100 (66%)]\tLoss: 0.688108\n",
            "Train Epoch:    19 [   99/  100 (99%)]\tLoss: 0.710806\n",
            "\n",
            "Test set: Avg. loss: 0.6932, Accuracy:    50/  100 (50.00%)\n",
            "\n",
            "Train Epoch:    20 [    0/  100 ( 0%)]\tLoss: 0.705642\n",
            "Train Epoch:    20 [   33/  100 (33%)]\tLoss: 0.727383\n",
            "Train Epoch:    20 [   66/  100 (66%)]\tLoss: 0.718134\n",
            "Train Epoch:    20 [   99/  100 (99%)]\tLoss: 0.700735\n",
            "\n",
            "Test set: Avg. loss: 0.6932, Accuracy:    50/  100 (50.00%)\n",
            "\n",
            "Train Epoch:    21 [    0/  100 ( 0%)]\tLoss: 0.690629\n",
            "Train Epoch:    21 [   33/  100 (33%)]\tLoss: 0.680553\n",
            "Train Epoch:    21 [   66/  100 (66%)]\tLoss: 0.670267\n",
            "Train Epoch:    21 [   99/  100 (99%)]\tLoss: 0.695803\n",
            "\n",
            "Test set: Avg. loss: 0.6931, Accuracy:    50/  100 (50.00%)\n",
            "\n",
            "Train Epoch:    22 [    0/  100 ( 0%)]\tLoss: 0.690789\n",
            "Train Epoch:    22 [   33/  100 (33%)]\tLoss: 0.710129\n",
            "Train Epoch:    22 [   66/  100 (66%)]\tLoss: 0.683359\n",
            "Train Epoch:    22 [   99/  100 (99%)]\tLoss: 0.698259\n",
            "\n",
            "Test set: Avg. loss: 0.6931, Accuracy:    50/  100 (50.00%)\n",
            "\n",
            "Train Epoch:    23 [    0/  100 ( 0%)]\tLoss: 0.693074\n",
            "Train Epoch:    23 [   33/  100 (33%)]\tLoss: 0.686141\n",
            "Train Epoch:    23 [   66/  100 (66%)]\tLoss: 0.704275\n",
            "Train Epoch:    23 [   99/  100 (99%)]\tLoss: 0.695063\n",
            "\n",
            "Test set: Avg. loss: 0.6932, Accuracy:    50/  100 (50.00%)\n",
            "\n",
            "Train Epoch:    24 [    0/  100 ( 0%)]\tLoss: 0.696248\n",
            "Train Epoch:    24 [   33/  100 (33%)]\tLoss: 0.701205\n",
            "Train Epoch:    24 [   66/  100 (66%)]\tLoss: 0.671793\n",
            "Train Epoch:    24 [   99/  100 (99%)]\tLoss: 0.695995\n",
            "\n",
            "Test set: Avg. loss: 0.6931, Accuracy:    50/  100 (50.00%)\n",
            "\n",
            "Train Epoch:    25 [    0/  100 ( 0%)]\tLoss: 0.695320\n",
            "Train Epoch:    25 [   33/  100 (33%)]\tLoss: 0.681178\n",
            "Train Epoch:    25 [   66/  100 (66%)]\tLoss: 0.696070\n",
            "Train Epoch:    25 [   99/  100 (99%)]\tLoss: 0.700332\n",
            "\n",
            "Test set: Avg. loss: 0.6931, Accuracy:    50/  100 (50.00%)\n",
            "\n",
            "Train Epoch:    26 [    0/  100 ( 0%)]\tLoss: 0.695273\n",
            "Train Epoch:    26 [   33/  100 (33%)]\tLoss: 0.709690\n",
            "Train Epoch:    26 [   66/  100 (66%)]\tLoss: 0.664846\n",
            "Train Epoch:    26 [   99/  100 (99%)]\tLoss: 0.701147\n",
            "\n",
            "Test set: Avg. loss: 0.6932, Accuracy:    50/  100 (50.00%)\n",
            "\n",
            "Train Epoch:    27 [    0/  100 ( 0%)]\tLoss: 0.696079\n",
            "Train Epoch:    27 [   33/  100 (33%)]\tLoss: 0.693404\n",
            "Train Epoch:    27 [   66/  100 (66%)]\tLoss: 0.707772\n",
            "Train Epoch:    27 [   99/  100 (99%)]\tLoss: 0.695323\n",
            "\n",
            "Test set: Avg. loss: 0.6932, Accuracy:    50/  100 (50.00%)\n",
            "\n",
            "Train Epoch:    28 [    0/  100 ( 0%)]\tLoss: 0.690314\n",
            "Train Epoch:    28 [   33/  100 (33%)]\tLoss: 0.725958\n",
            "Train Epoch:    28 [   66/  100 (66%)]\tLoss: 0.725893\n",
            "Train Epoch:    28 [   99/  100 (99%)]\tLoss: 0.696777\n",
            "\n",
            "Test set: Avg. loss: 0.6931, Accuracy:    50/  100 (50.00%)\n",
            "\n",
            "Train Epoch:    29 [    0/  100 ( 0%)]\tLoss: 0.694543\n",
            "Train Epoch:    29 [   33/  100 (33%)]\tLoss: 0.654086\n",
            "Train Epoch:    29 [   66/  100 (66%)]\tLoss: 0.700619\n",
            "Train Epoch:    29 [   99/  100 (99%)]\tLoss: 0.690346\n",
            "\n",
            "Test set: Avg. loss: 0.6932, Accuracy:    50/  100 (50.00%)\n",
            "\n",
            "Train Epoch:    30 [    0/  100 ( 0%)]\tLoss: 0.685387\n",
            "Train Epoch:    30 [   33/  100 (33%)]\tLoss: 0.681697\n",
            "Train Epoch:    30 [   66/  100 (66%)]\tLoss: 0.678775\n",
            "Train Epoch:    30 [   99/  100 (99%)]\tLoss: 0.693726\n",
            "\n",
            "Test set: Avg. loss: 0.6932, Accuracy:    50/  100 (50.00%)\n",
            "\n"
          ],
          "name": "stdout"
        },
        {
          "output_type": "execute_result",
          "data": {
            "text/plain": [
              "([0.9997372627258301,\n",
              "  0.48605507612228394,\n",
              "  0.9499378800392151,\n",
              "  0.5527423024177551,\n",
              "  0.5491448640823364,\n",
              "  0.8288332223892212,\n",
              "  0.8035131692886353,\n",
              "  0.6018749475479126,\n",
              "  0.7985589504241943,\n",
              "  0.7665327787399292,\n",
              "  0.7897753715515137,\n",
              "  0.760465145111084,\n",
              "  0.6350694894790649,\n",
              "  0.6659209728240967,\n",
              "  0.7583445310592651,\n",
              "  0.7349541187286377,\n",
              "  0.7295498251914978,\n",
              "  0.6776561141014099,\n",
              "  0.721390426158905,\n",
              "  0.6731005311012268,\n",
              "  0.6683129668235779,\n",
              "  0.6325600147247314,\n",
              "  0.6866515278816223,\n",
              "  0.6866371035575867,\n",
              "  0.7047120332717896,\n",
              "  0.6526180505752563,\n",
              "  0.6539294123649597,\n",
              "  0.7022571563720703,\n",
              "  0.697178840637207,\n",
              "  0.7201072573661804,\n",
              "  0.7197595834732056,\n",
              "  0.7047046422958374,\n",
              "  0.6996018886566162,\n",
              "  0.7155224084854126,\n",
              "  0.7059634923934937,\n",
              "  0.6941179037094116,\n",
              "  0.6971899271011353,\n",
              "  0.7128833532333374,\n",
              "  0.7191758155822754,\n",
              "  0.6917440295219421,\n",
              "  0.6995646953582764,\n",
              "  0.7405942678451538,\n",
              "  0.7426018714904785,\n",
              "  0.6847022771835327,\n",
              "  0.6797990798950195,\n",
              "  0.689888060092926,\n",
              "  0.6777121424674988,\n",
              "  0.6818050146102905,\n",
              "  0.709631085395813,\n",
              "  0.6754761934280396,\n",
              "  0.6769595146179199,\n",
              "  0.6842180490493774,\n",
              "  0.7071685791015625,\n",
              "  0.7387099862098694,\n",
              "  0.6989890933036804,\n",
              "  0.6900631189346313,\n",
              "  0.6851064562797546,\n",
              "  0.6397836804389954,\n",
              "  0.6796335577964783,\n",
              "  0.7162086963653564,\n",
              "  0.6756159663200378,\n",
              "  0.692922830581665,\n",
              "  0.6886646151542664,\n",
              "  0.6878872513771057,\n",
              "  0.703447163105011,\n",
              "  0.706209123134613,\n",
              "  0.6901751160621643,\n",
              "  0.6860370635986328,\n",
              "  0.7053202986717224,\n",
              "  0.7147810459136963,\n",
              "  0.6886767745018005,\n",
              "  0.7122762203216553,\n",
              "  0.7070978879928589,\n",
              "  0.7247765064239502,\n",
              "  0.6881081461906433,\n",
              "  0.7108057141304016,\n",
              "  0.7056421637535095,\n",
              "  0.7273826599121094,\n",
              "  0.7181342244148254,\n",
              "  0.7007348537445068,\n",
              "  0.6906290650367737,\n",
              "  0.6805534958839417,\n",
              "  0.6702671647071838,\n",
              "  0.695803165435791,\n",
              "  0.6907891631126404,\n",
              "  0.7101293206214905,\n",
              "  0.6833592057228088,\n",
              "  0.698259174823761,\n",
              "  0.6930736303329468,\n",
              "  0.6861409544944763,\n",
              "  0.7042751908302307,\n",
              "  0.6950626373291016,\n",
              "  0.6962478160858154,\n",
              "  0.7012048959732056,\n",
              "  0.6717929244041443,\n",
              "  0.6959947347640991,\n",
              "  0.6953202486038208,\n",
              "  0.68117755651474,\n",
              "  0.6960703730583191,\n",
              "  0.7003321647644043,\n",
              "  0.6952730417251587,\n",
              "  0.7096896171569824,\n",
              "  0.6648461818695068,\n",
              "  0.7011467218399048,\n",
              "  0.6960793733596802,\n",
              "  0.693403959274292,\n",
              "  0.7077720165252686,\n",
              "  0.6953229904174805,\n",
              "  0.6903138756752014,\n",
              "  0.7259575128555298,\n",
              "  0.725892961025238,\n",
              "  0.6967772245407104,\n",
              "  0.6945427656173706,\n",
              "  0.6540859937667847,\n",
              "  0.7006189227104187,\n",
              "  0.6903461217880249,\n",
              "  0.6853865385055542,\n",
              "  0.6816973090171814,\n",
              "  0.678775429725647,\n",
              "  0.693726122379303],\n",
              " [0,\n",
              "  2112,\n",
              "  4224,\n",
              "  6336,\n",
              "  100,\n",
              "  2212,\n",
              "  4324,\n",
              "  6436,\n",
              "  200,\n",
              "  2312,\n",
              "  4424,\n",
              "  6536,\n",
              "  300,\n",
              "  2412,\n",
              "  4524,\n",
              "  6636,\n",
              "  400,\n",
              "  2512,\n",
              "  4624,\n",
              "  6736,\n",
              "  500,\n",
              "  2612,\n",
              "  4724,\n",
              "  6836,\n",
              "  600,\n",
              "  2712,\n",
              "  4824,\n",
              "  6936,\n",
              "  700,\n",
              "  2812,\n",
              "  4924,\n",
              "  7036,\n",
              "  800,\n",
              "  2912,\n",
              "  5024,\n",
              "  7136,\n",
              "  900,\n",
              "  3012,\n",
              "  5124,\n",
              "  7236,\n",
              "  1000,\n",
              "  3112,\n",
              "  5224,\n",
              "  7336,\n",
              "  1100,\n",
              "  3212,\n",
              "  5324,\n",
              "  7436,\n",
              "  1200,\n",
              "  3312,\n",
              "  5424,\n",
              "  7536,\n",
              "  1300,\n",
              "  3412,\n",
              "  5524,\n",
              "  7636,\n",
              "  1400,\n",
              "  3512,\n",
              "  5624,\n",
              "  7736,\n",
              "  1500,\n",
              "  3612,\n",
              "  5724,\n",
              "  7836,\n",
              "  1600,\n",
              "  3712,\n",
              "  5824,\n",
              "  7936,\n",
              "  1700,\n",
              "  3812,\n",
              "  5924,\n",
              "  8036,\n",
              "  1800,\n",
              "  3912,\n",
              "  6024,\n",
              "  8136,\n",
              "  1900,\n",
              "  4012,\n",
              "  6124,\n",
              "  8236,\n",
              "  2000,\n",
              "  4112,\n",
              "  6224,\n",
              "  8336,\n",
              "  2100,\n",
              "  4212,\n",
              "  6324,\n",
              "  8436,\n",
              "  2200,\n",
              "  4312,\n",
              "  6424,\n",
              "  8536,\n",
              "  2300,\n",
              "  4412,\n",
              "  6524,\n",
              "  8636,\n",
              "  2400,\n",
              "  4512,\n",
              "  6624,\n",
              "  8736,\n",
              "  2500,\n",
              "  4612,\n",
              "  6724,\n",
              "  8836,\n",
              "  2600,\n",
              "  4712,\n",
              "  6824,\n",
              "  8936,\n",
              "  2700,\n",
              "  4812,\n",
              "  6924,\n",
              "  9036,\n",
              "  2800,\n",
              "  4912,\n",
              "  7024,\n",
              "  9136,\n",
              "  2900,\n",
              "  5012,\n",
              "  7124,\n",
              "  9236],\n",
              " [0.7292826622724533,\n",
              "  0.7052883207798004,\n",
              "  0.6981770098209381,\n",
              "  0.6949382722377777,\n",
              "  0.6937865614891052,\n",
              "  0.6934634447097778,\n",
              "  0.6932133138179779,\n",
              "  0.6931553184986115,\n",
              "  0.6931679248809814,\n",
              "  0.6931553184986115,\n",
              "  0.6931676268577576,\n",
              "  0.6932375133037567,\n",
              "  0.6932808756828308,\n",
              "  0.693244069814682,\n",
              "  0.6931797862052917,\n",
              "  0.6933035850524902,\n",
              "  0.6931996941566467,\n",
              "  0.6932203769683838,\n",
              "  0.693243145942688,\n",
              "  0.6932243406772614,\n",
              "  0.6931503713130951,\n",
              "  0.6931499242782593,\n",
              "  0.6931471824645996,\n",
              "  0.6931519508361816,\n",
              "  0.6931495666503906,\n",
              "  0.6931494176387787,\n",
              "  0.6931514143943787,\n",
              "  0.6931512653827667,\n",
              "  0.693148136138916,\n",
              "  0.6931775212287903,\n",
              "  0.6931570172309875],\n",
              " [0,\n",
              "  100,\n",
              "  200,\n",
              "  300,\n",
              "  400,\n",
              "  500,\n",
              "  600,\n",
              "  700,\n",
              "  800,\n",
              "  900,\n",
              "  1000,\n",
              "  1100,\n",
              "  1200,\n",
              "  1300,\n",
              "  1400,\n",
              "  1500,\n",
              "  1600,\n",
              "  1700,\n",
              "  1800,\n",
              "  1900,\n",
              "  2000,\n",
              "  2100,\n",
              "  2200,\n",
              "  2300,\n",
              "  2400,\n",
              "  2500,\n",
              "  2600,\n",
              "  2700,\n",
              "  2800,\n",
              "  2900,\n",
              "  3000],\n",
              " 50.0)"
            ]
          },
          "metadata": {
            "tags": []
          },
          "execution_count": 14
        }
      ]
    },
    {
      "cell_type": "markdown",
      "metadata": {
        "id": "c0hDHgfq8mBR"
      },
      "source": [
        "## Provođenje eksperimenata i analiza rezultata"
      ]
    },
    {
      "cell_type": "markdown",
      "metadata": {
        "id": "PWvBdwXm8mBR"
      },
      "source": [
        "#### Podzadatak f) - Eksperimenti\n",
        "\n",
        "Sljedeća faza labosa je korištenje naših funkcija u okviru eksperimenata. Potrebno je testirati sljedeće modele:\n",
        "\n",
        "* **Plitki model sa uskim slojevima**\n",
        "    * Model je plitak po tome što nema puno slojeva (ne ide u dubinu) i uzak po tome što sami slojevi nemaju veliki broj elemenata (npr. 1 sloj sa 100 neurona umjesto 10 slojeva sa 10 neurona)\n",
        "    * Arhitektura modela je sljedeća:\n",
        "        * Konvolucijski sloj 5x5x10\n",
        "        * Dropout (za regularizaciju)\n",
        "        * Max pooling\n",
        "        * ReLU aktivacija\n",
        "        * Potpuno povezani sloj sa 20 neurona, ReLU aktivacija\n",
        "        * Potpuno povezani sloj za klasifikaciju u 10 klasa, log softmax aktivacijska funkcija\n",
        "    * U `results` mapi se sprema pod ključem `shallow_and_narrow_{stopa učenja}`\n",
        "* **Plitki model sa širokim slojevima**\n",
        "    * Ovaj model također nema puno slojeva, ali ti slojevi imaju puno elemenata\n",
        "    * Arhitektura modela je sljedeća:\n",
        "        * Konvolucijski sloj 5x5x40\n",
        "        * Dropout (za regularizaciju)\n",
        "        * Max pooling\n",
        "        * ReLU aktivacija\n",
        "        * Potpuno povezani sloj sa 64 neurona, ReLU aktivacija\n",
        "        * Potpuno povezani sloj za klasifikaciju u 10 klasa, log softmax aktivacijska funkcija\n",
        "    * U `results` mapi se sprema pod ključem `shallow_and_wide_{stopa učenja}`\n",
        "* **Duboki model sa uskim slojevima**\n",
        "    * Ovaj model ima puno slojeva, ali su ti slojevi ograničeni u svojoj širini\n",
        "    * Arhitektura modela je sljedeća:\n",
        "        * Konvolucijski sloj 5x5x10, ReLU aktivacijska funkcija\n",
        "        * Max pooling\n",
        "        * Konvolucijski sloj 5x5x20, ReLU aktivacijska funkcija\n",
        "        * Max pooling\n",
        "        * Potpuno povezani sloj sa 64 neurona, ReLU aktivacija\n",
        "        * Dropout (za regularizaciju)\n",
        "        * Potpuno povezani sloj za klasifikaciju u 10 klasa, log softmax aktivacijska funkcija\n",
        "    * U `results` mapi se sprema pod ključem `deep_and_narrow_{stopa učenja}`\n",
        "* **Duboki model sa širokim slojevima**\n",
        "    * Model koji ima sve komponente dobro (ili previše?) zastupljene.\n",
        "    * Arhitektura modela je sljedeća:\n",
        "        * Konvolucijski sloj 5x5x32, ReLU aktivacijska funkcija\n",
        "        * Max pooling\n",
        "        * Konvolucijski sloj 5x5x64, ReLU aktivacijska funkcija\n",
        "        * Max pooling\n",
        "        * Potpuno povezani sloj sa 50 neurona, ReLU aktivacija\n",
        "        * Dropout (za regularizaciju)\n",
        "        * Potpuno povezani sloj za klasifikaciju u 10 klasa, log softmax aktivacijska funkcija\n",
        "    * U `results` mapi se sprema pod ključem `deep_and_wide_{stopa učenja}`\n",
        "\n",
        "\n",
        "Implementirajte `.__init__(self)` i `.forward(self, x)` metode za svaki od opisanih modela, trenirajte ih, evaluirajte i spremite metrike. **Ponovite taj postupak za 3 različite stope učenja: 0.0000001, 0.01 i 1.**\n",
        "\n",
        "Sve potrebne slojeve za ostvarenje navedenih modela možete pronaći u torch.nn modulu. Detalje možete pronaći u službenoj PyTorch dokumentaciji: https://pytorch.org/docs/stable/index.html \n",
        "\n",
        "**Spremite si najbolji model. Biti će potreban u podzadatku h)**."
      ]
    },
    {
      "cell_type": "markdown",
      "metadata": {
        "id": "Ren1f8A_8mBS"
      },
      "source": [
        "Prvo je potrebno podesiti parametre. Parametri su sljedeći:\n",
        "* n_epochs - broj epoha eksperimenta\n",
        "* learning_rate - stopa učenja\n",
        "* log_interval - broj koraka između dva ispisa tijekom treniranja (ispis se dešava samo ako se funkcija poziva s argumentom verbose=True)\n",
        "* device - oznaka na kojem se uređaju izvršava eksperiment; \"cuda\" za GPU, \"cpu\" za CPU"
      ]
    },
    {
      "cell_type": "code",
      "metadata": {
        "id": "oDWKY6xv8mBT"
      },
      "source": [
        "n_epochs = 3\n",
        "learning_rate = 0.01\n",
        "log_interval = 100\n",
        "device = 'cuda'"
      ],
      "execution_count": null,
      "outputs": []
    },
    {
      "cell_type": "markdown",
      "metadata": {
        "id": "CCwyio0H8mBT"
      },
      "source": [
        "Naš model definiramo u klasi \"Net\" koja nasljeđuje nn.Module. Nadjačajte metode `__init__(self)` i `forward(self, x)` kako je opisano u tekstu zadatka."
      ]
    },
    {
      "cell_type": "code",
      "metadata": {
        "id": "F1m2mIIS8mBT"
      },
      "source": [
        "class ShallowAndNarrow(nn.Module):\n",
        "    def __init__(self):\n",
        "        super(ShallowAndNarrow, self).__init__()\n",
        "        self.conv1 = nn.Conv2d(1, 32, kernel_size=5, padding=2)\n",
        "        # -------\n",
        "        self.conv2 = nn.Conv2d(32, 10, kernel_size=5, padding=2)\n",
        "        self.dropout = nn.Dropout()\n",
        "        self.maxpool = nn.MaxPool2d(kernel_size=2)\n",
        "        self.relu = nn.ReLU()\n",
        "        self.fc1 = nn.Linear(490, 20)\n",
        "        self.fc2 = nn.Linear(20, 10)\n",
        "        #-------------\n",
        "\n",
        "    def forward(self, x):\n",
        "        x = F.relu(F.max_pool2d(self.conv1(x), 2))\n",
        "        # ----\n",
        "        x = self.conv2(x)\n",
        "        x = self.dropout(x)\n",
        "        x = self.maxpool(x)\n",
        "        x = x.view(x.shape[0], -1)\n",
        "        x = self.relu(x)\n",
        "        x = self.fc1(x)\n",
        "        x = self.relu(x)\n",
        "        x = self.fc2(x)\n",
        "        # -----------\n",
        "        return F.log_softmax(x, dim=1)\n",
        "\n",
        "class ShallowAndWide(nn.Module):\n",
        "    def __init__(self):\n",
        "        super(ShallowAndWide, self).__init__()\n",
        "        self.conv1 = nn.Conv2d(1, 32, kernel_size=5)\n",
        "        # -------\n",
        "        self.conv2 = nn.Conv2d(32, 40, kernel_size=5, padding=2)\n",
        "        self.fc1 = nn.Linear(1440, 64)\n",
        "        self.fc2 = nn.Linear(64, 10)\n",
        "        self.dropout = nn.Dropout()\n",
        "        self.maxpool = nn.MaxPool2d(kernel_size=2)\n",
        "        self.relu = nn.ReLU()\n",
        "        #-------------\n",
        "\n",
        "    def forward(self, x):\n",
        "        x = F.relu(F.max_pool2d(self.conv1(x), 2))\n",
        "        # ----\n",
        "        x = self.conv2(x)\n",
        "        x = self.dropout(x)\n",
        "        x = self.maxpool(x)\n",
        "        x = x.view(x.shape[0], -1)\n",
        "        x = self.relu(x)\n",
        "        x = self.fc1(x)\n",
        "        x = self.relu(x)\n",
        "        x = self.fc2(x)\n",
        "        # -----------\n",
        "        return F.log_softmax(x, dim=1)\n",
        "\n",
        "class DeepAndNarrow(nn.Module):\n",
        "    def __init__(self):\n",
        "        super(DeepAndNarrow, self).__init__()\n",
        "        self.conv1 = nn.Conv2d(1, 32, kernel_size=5)\n",
        "        # -------\n",
        "        self.conv2 = nn.Conv2d(32, 10, kernel_size=5, padding=2)\n",
        "        self.conv3 = nn.Conv2d(10, 20, kernel_size=5, padding=2)\n",
        "        self.fc1 = nn.Linear(180,64)\n",
        "        self.fc2 = nn.Linear(64, 10)\n",
        "        self.dropout = nn.Dropout()\n",
        "        self.maxpool = nn.MaxPool2d(kernel_size=2)\n",
        "        self.relu = nn.ReLU(inplace=True)\n",
        "        #-------------\n",
        "\n",
        "    def forward(self, x):\n",
        "        x = F.relu(F.max_pool2d(self.conv1(x), 2))\n",
        "        # ----\n",
        "        x = self.conv2(x)\n",
        "        x = self.relu(x)\n",
        "        x = self.maxpool(x)\n",
        "        x = self.conv3(x)\n",
        "        x = self.relu(x)\n",
        "        x = self.maxpool(x)\n",
        "        x = x.view(x.shape[0], -1)\n",
        "        x = self.fc1(x)\n",
        "        x = self.relu(x)\n",
        "        x = self.dropout(x)\n",
        "        x = self.fc2(x)\n",
        "        # -----------\n",
        "        return F.log_softmax(x, dim=1)\n",
        "\n",
        "class DeepAndWide(nn.Module):\n",
        "    def __init__(self):\n",
        "        super(DeepAndWide, self).__init__()\n",
        "        self.conv1 = nn.Conv2d(1, 32, kernel_size=5)\n",
        "        # -------\n",
        "        self.conv2 = nn.Conv2d(32, 32, kernel_size=5, padding=2)\n",
        "        self.conv3 = nn.Conv2d(32, 64, kernel_size=5, padding=2)\n",
        "        self.fc1 = nn.Linear(576, 50)\n",
        "        self.fc2 = nn.Linear(50, 10)\n",
        "        self.dropout = nn.Dropout()\n",
        "        self.maxpool = nn.MaxPool2d(kernel_size=2)\n",
        "        self.relu = nn.ReLU(inplace=True)\n",
        "        #-------------\n",
        "\n",
        "    def forward(self, x):\n",
        "        x = F.relu(F.max_pool2d(self.conv1(x), 2))\n",
        "        # ----\n",
        "        x = self.conv2(x)\n",
        "        x = self.relu(x)\n",
        "        x = self.maxpool(x)\n",
        "        x = self.conv3(x)\n",
        "        x = self.relu(x)\n",
        "        x = self.maxpool(x)\n",
        "        x = x.view(x.shape[0], -1)\n",
        "        x = self.fc1(x)\n",
        "        x = self.relu(x)\n",
        "        x = self.dropout(x)\n",
        "        x = self.fc2(x)\n",
        "        # -----------\n",
        "        return F.log_softmax(x, dim=1)"
      ],
      "execution_count": null,
      "outputs": []
    },
    {
      "cell_type": "markdown",
      "metadata": {
        "id": "fKokmD838mBT"
      },
      "source": [
        "Da bi trenirali naš model, potrebno je napraviti instancu mreže i optimizatora. Koristite Stohastic Gradient Descent optimizator iz torch.optim modula. Detalji se mogu pronaći u službenoj dokuemntaciji PyTorcha za optim modul: https://pytorch.org/docs/stable/optim.html"
      ]
    },
    {
      "cell_type": "code",
      "metadata": {
        "id": "HrXS5a7U8mBT",
        "colab": {
          "base_uri": "https://localhost:8080/"
        },
        "outputId": "ccfefd88-4788-4a4e-d97a-1d338e37f6a1"
      },
      "source": [
        "for learning_rate in (0.0000001, 0.01, 1):\n",
        "  network1 = ShallowAndNarrow().to(device)\n",
        "  print('-'*10, f'shallow_and_narrow_{learning_rate}', '-'*10, sep='\\n')\n",
        "  optimizer = torch.optim.SGD(network1.parameters(), lr=learning_rate)\n",
        "  train_losses, train_counter, test_losses, test_counter, test_accuracy = train_network(network1, train_loader, test_loader, device)\n",
        "  number_of_parameters = get_number_of_model_parameters(network1)\n",
        "  results[f'shallow_and_narrow_{learning_rate}'] = (train_counter, train_losses, test_counter, test_losses, test_accuracy, number_of_parameters)\n",
        "\n",
        "for learning_rate in (0.0000001, 0.01, 1):\n",
        "  network2 = ShallowAndWide().to(device)\n",
        "  print('-'*10, f'shallow_and_wide_{learning_rate}', '-'*10, sep='\\n')\n",
        "  optimizer = torch.optim.SGD(network2.parameters(), lr=learning_rate)\n",
        "  train_losses, train_counter, test_losses, test_counter, test_accuracy = train_network(network2, train_loader, test_loader, device)\n",
        "  number_of_parameters = get_number_of_model_parameters(network2)\n",
        "  results[f'shallow_and_wide_{learning_rate}'] = (train_counter, train_losses, test_counter, test_losses, test_accuracy, number_of_parameters)\n",
        "\n",
        "for learning_rate in (0.0000001, 0.01, 1):\n",
        "  network3 = DeepAndNarrow().to(device)\n",
        "  print('-'*10, f'deep_and_narrow_{learning_rate}', '-'*10, sep='\\n')\n",
        "  optimizer = torch.optim.SGD(network3.parameters(), lr=learning_rate)\n",
        "  train_losses, train_counter, test_losses, test_counter, test_accuracy = train_network(network3, train_loader, test_loader, device)\n",
        "  number_of_parameters = get_number_of_model_parameters(network3)\n",
        "  results[f'deep_and_narrow_{learning_rate}'] = (train_counter, train_losses, test_counter, test_losses, test_accuracy, number_of_parameters)\n",
        "\n",
        "for learning_rate in (0.0000001, 0.01, 1):\n",
        "  network4 = DeepAndWide().to(device)\n",
        "  print('-'*10, f'deep_and_wide_{learning_rate}', '-'*10, sep='\\n')\n",
        "  optimizer = torch.optim.SGD(network4.parameters(), lr=learning_rate)\n",
        "  train_losses, train_counter, test_losses, test_counter, test_accuracy = train_network(network4, train_loader, test_loader, device)\n",
        "  number_of_parameters = get_number_of_model_parameters(network4)\n",
        "  results[f'deep_and_wide_{learning_rate}'] = (train_counter, train_losses, test_counter, test_losses, test_accuracy, number_of_parameters)\n"
      ],
      "execution_count": null,
      "outputs": [
        {
          "output_type": "stream",
          "text": [
            "----------\n",
            "shallow_and_narrow_1e-07\n",
            "----------\n",
            "\n",
            "Test set: Avg. loss: 2.3213, Accuracy:   892/10000 (8.92%)\n",
            "\n",
            "Train Epoch:     1 [    0/60000 ( 0%)]\tLoss: 2.307589\n",
            "Train Epoch:     1 [ 6400/60000 (11%)]\tLoss: 2.333848\n",
            "Train Epoch:     1 [12800/60000 (21%)]\tLoss: 2.334797\n",
            "Train Epoch:     1 [19200/60000 (32%)]\tLoss: 2.328526\n",
            "Train Epoch:     1 [25600/60000 (43%)]\tLoss: 2.337704\n",
            "Train Epoch:     1 [32000/60000 (53%)]\tLoss: 2.293340\n",
            "Train Epoch:     1 [38400/60000 (64%)]\tLoss: 2.327162\n",
            "Train Epoch:     1 [44800/60000 (75%)]\tLoss: 2.327512\n",
            "Train Epoch:     1 [51200/60000 (85%)]\tLoss: 2.324917\n",
            "Train Epoch:     1 [57600/60000 (96%)]\tLoss: 2.369447\n",
            "\n",
            "Test set: Avg. loss: 2.3212, Accuracy:   892/10000 (8.92%)\n",
            "\n",
            "Train Epoch:     2 [    0/60000 ( 0%)]\tLoss: 2.336722\n",
            "Train Epoch:     2 [ 6400/60000 (11%)]\tLoss: 2.315947\n",
            "Train Epoch:     2 [12800/60000 (21%)]\tLoss: 2.301582\n",
            "Train Epoch:     2 [19200/60000 (32%)]\tLoss: 2.331153\n",
            "Train Epoch:     2 [25600/60000 (43%)]\tLoss: 2.367838\n",
            "Train Epoch:     2 [32000/60000 (53%)]\tLoss: 2.357886\n",
            "Train Epoch:     2 [38400/60000 (64%)]\tLoss: 2.331496\n",
            "Train Epoch:     2 [44800/60000 (75%)]\tLoss: 2.286077\n",
            "Train Epoch:     2 [51200/60000 (85%)]\tLoss: 2.314889\n",
            "Train Epoch:     2 [57600/60000 (96%)]\tLoss: 2.301950\n",
            "\n",
            "Test set: Avg. loss: 2.3212, Accuracy:   892/10000 (8.92%)\n",
            "\n",
            "Train Epoch:     3 [    0/60000 ( 0%)]\tLoss: 2.378947\n",
            "Train Epoch:     3 [ 6400/60000 (11%)]\tLoss: 2.336309\n",
            "Train Epoch:     3 [12800/60000 (21%)]\tLoss: 2.352990\n",
            "Train Epoch:     3 [19200/60000 (32%)]\tLoss: 2.337654\n",
            "Train Epoch:     3 [25600/60000 (43%)]\tLoss: 2.334832\n",
            "Train Epoch:     3 [32000/60000 (53%)]\tLoss: 2.310719\n",
            "Train Epoch:     3 [38400/60000 (64%)]\tLoss: 2.319851\n",
            "Train Epoch:     3 [44800/60000 (75%)]\tLoss: 2.339664\n",
            "Train Epoch:     3 [51200/60000 (85%)]\tLoss: 2.296221\n",
            "Train Epoch:     3 [57600/60000 (96%)]\tLoss: 2.302773\n",
            "\n",
            "Test set: Avg. loss: 2.3212, Accuracy:   892/10000 (8.92%)\n",
            "\n",
            "----------\n",
            "shallow_and_narrow_0.01\n",
            "----------\n",
            "\n",
            "Test set: Avg. loss: 2.3174, Accuracy:   869/10000 (8.69%)\n",
            "\n",
            "Train Epoch:     1 [    0/60000 ( 0%)]\tLoss: 2.342530\n",
            "Train Epoch:     1 [ 6400/60000 (11%)]\tLoss: 1.333776\n",
            "Train Epoch:     1 [12800/60000 (21%)]\tLoss: 0.362438\n",
            "Train Epoch:     1 [19200/60000 (32%)]\tLoss: 0.443359\n",
            "Train Epoch:     1 [25600/60000 (43%)]\tLoss: 0.299207\n",
            "Train Epoch:     1 [32000/60000 (53%)]\tLoss: 0.471370\n",
            "Train Epoch:     1 [38400/60000 (64%)]\tLoss: 0.313983\n",
            "Train Epoch:     1 [44800/60000 (75%)]\tLoss: 0.190269\n",
            "Train Epoch:     1 [51200/60000 (85%)]\tLoss: 0.117530\n",
            "Train Epoch:     1 [57600/60000 (96%)]\tLoss: 0.133484\n",
            "\n",
            "Test set: Avg. loss: 0.2299, Accuracy:  9502/10000 (95.02%)\n",
            "\n",
            "Train Epoch:     2 [    0/60000 ( 0%)]\tLoss: 0.120101\n",
            "Train Epoch:     2 [ 6400/60000 (11%)]\tLoss: 0.176222\n",
            "Train Epoch:     2 [12800/60000 (21%)]\tLoss: 0.184225\n",
            "Train Epoch:     2 [19200/60000 (32%)]\tLoss: 0.227011\n",
            "Train Epoch:     2 [25600/60000 (43%)]\tLoss: 0.223468\n",
            "Train Epoch:     2 [32000/60000 (53%)]\tLoss: 0.322081\n",
            "Train Epoch:     2 [38400/60000 (64%)]\tLoss: 0.229016\n",
            "Train Epoch:     2 [44800/60000 (75%)]\tLoss: 0.050524\n",
            "Train Epoch:     2 [51200/60000 (85%)]\tLoss: 0.400116\n",
            "Train Epoch:     2 [57600/60000 (96%)]\tLoss: 0.104670\n",
            "\n",
            "Test set: Avg. loss: 0.1316, Accuracy:  9722/10000 (97.22%)\n",
            "\n",
            "Train Epoch:     3 [    0/60000 ( 0%)]\tLoss: 0.097759\n",
            "Train Epoch:     3 [ 6400/60000 (11%)]\tLoss: 0.168248\n",
            "Train Epoch:     3 [12800/60000 (21%)]\tLoss: 0.074234\n",
            "Train Epoch:     3 [19200/60000 (32%)]\tLoss: 0.101084\n",
            "Train Epoch:     3 [25600/60000 (43%)]\tLoss: 0.217503\n",
            "Train Epoch:     3 [32000/60000 (53%)]\tLoss: 0.082859\n",
            "Train Epoch:     3 [38400/60000 (64%)]\tLoss: 0.044528\n",
            "Train Epoch:     3 [44800/60000 (75%)]\tLoss: 0.048269\n",
            "Train Epoch:     3 [51200/60000 (85%)]\tLoss: 0.086156\n",
            "Train Epoch:     3 [57600/60000 (96%)]\tLoss: 0.070202\n",
            "\n",
            "Test set: Avg. loss: 0.1011, Accuracy:  9776/10000 (97.76%)\n",
            "\n",
            "----------\n",
            "shallow_and_narrow_1\n",
            "----------\n",
            "\n",
            "Test set: Avg. loss: 2.3086, Accuracy:  1020/10000 (10.20%)\n",
            "\n",
            "Train Epoch:     1 [    0/60000 ( 0%)]\tLoss: 2.283721\n",
            "Train Epoch:     1 [ 6400/60000 (11%)]\tLoss: 2.302800\n",
            "Train Epoch:     1 [12800/60000 (21%)]\tLoss: 2.290339\n",
            "Train Epoch:     1 [19200/60000 (32%)]\tLoss: 2.308665\n",
            "Train Epoch:     1 [25600/60000 (43%)]\tLoss: 2.308863\n",
            "Train Epoch:     1 [32000/60000 (53%)]\tLoss: 2.288016\n",
            "Train Epoch:     1 [38400/60000 (64%)]\tLoss: 2.313162\n",
            "Train Epoch:     1 [44800/60000 (75%)]\tLoss: 2.305127\n",
            "Train Epoch:     1 [51200/60000 (85%)]\tLoss: 2.335969\n",
            "Train Epoch:     1 [57600/60000 (96%)]\tLoss: 2.315541\n",
            "\n",
            "Test set: Avg. loss: 2.3041, Accuracy:   958/10000 (9.58%)\n",
            "\n",
            "Train Epoch:     2 [    0/60000 ( 0%)]\tLoss: 2.312470\n",
            "Train Epoch:     2 [ 6400/60000 (11%)]\tLoss: 2.308904\n",
            "Train Epoch:     2 [12800/60000 (21%)]\tLoss: 2.308615\n",
            "Train Epoch:     2 [19200/60000 (32%)]\tLoss: 2.295385\n",
            "Train Epoch:     2 [25600/60000 (43%)]\tLoss: 2.295342\n",
            "Train Epoch:     2 [32000/60000 (53%)]\tLoss: 2.303559\n",
            "Train Epoch:     2 [38400/60000 (64%)]\tLoss: 2.313136\n",
            "Train Epoch:     2 [44800/60000 (75%)]\tLoss: 2.305784\n",
            "Train Epoch:     2 [51200/60000 (85%)]\tLoss: 2.308619\n",
            "Train Epoch:     2 [57600/60000 (96%)]\tLoss: 2.328349\n",
            "\n",
            "Test set: Avg. loss: 2.3029, Accuracy:  1135/10000 (11.35%)\n",
            "\n",
            "Train Epoch:     3 [    0/60000 ( 0%)]\tLoss: 2.293879\n",
            "Train Epoch:     3 [ 6400/60000 (11%)]\tLoss: 2.281022\n",
            "Train Epoch:     3 [12800/60000 (21%)]\tLoss: 2.284679\n",
            "Train Epoch:     3 [19200/60000 (32%)]\tLoss: 2.316675\n",
            "Train Epoch:     3 [25600/60000 (43%)]\tLoss: 2.297131\n",
            "Train Epoch:     3 [32000/60000 (53%)]\tLoss: 2.308302\n",
            "Train Epoch:     3 [38400/60000 (64%)]\tLoss: 2.295471\n",
            "Train Epoch:     3 [44800/60000 (75%)]\tLoss: 2.302862\n",
            "Train Epoch:     3 [51200/60000 (85%)]\tLoss: 2.319366\n",
            "Train Epoch:     3 [57600/60000 (96%)]\tLoss: 2.307523\n",
            "\n",
            "Test set: Avg. loss: 2.3062, Accuracy:  1010/10000 (10.10%)\n",
            "\n",
            "----------\n",
            "shallow_and_wide_1e-07\n",
            "----------\n",
            "\n",
            "Test set: Avg. loss: 2.3108, Accuracy:  1412/10000 (14.12%)\n",
            "\n",
            "Train Epoch:     1 [    0/60000 ( 0%)]\tLoss: 2.329924\n",
            "Train Epoch:     1 [ 6400/60000 (11%)]\tLoss: 2.362545\n",
            "Train Epoch:     1 [12800/60000 (21%)]\tLoss: 2.346169\n",
            "Train Epoch:     1 [19200/60000 (32%)]\tLoss: 2.342947\n",
            "Train Epoch:     1 [25600/60000 (43%)]\tLoss: 2.307910\n",
            "Train Epoch:     1 [32000/60000 (53%)]\tLoss: 2.316478\n",
            "Train Epoch:     1 [38400/60000 (64%)]\tLoss: 2.337353\n",
            "Train Epoch:     1 [44800/60000 (75%)]\tLoss: 2.314170\n",
            "Train Epoch:     1 [51200/60000 (85%)]\tLoss: 2.308263\n",
            "Train Epoch:     1 [57600/60000 (96%)]\tLoss: 2.302454\n",
            "\n",
            "Test set: Avg. loss: 2.3107, Accuracy:  1411/10000 (14.11%)\n",
            "\n",
            "Train Epoch:     2 [    0/60000 ( 0%)]\tLoss: 2.315843\n",
            "Train Epoch:     2 [ 6400/60000 (11%)]\tLoss: 2.339910\n",
            "Train Epoch:     2 [12800/60000 (21%)]\tLoss: 2.348111\n",
            "Train Epoch:     2 [19200/60000 (32%)]\tLoss: 2.333476\n",
            "Train Epoch:     2 [25600/60000 (43%)]\tLoss: 2.332832\n",
            "Train Epoch:     2 [32000/60000 (53%)]\tLoss: 2.318213\n",
            "Train Epoch:     2 [38400/60000 (64%)]\tLoss: 2.363497\n",
            "Train Epoch:     2 [44800/60000 (75%)]\tLoss: 2.286261\n",
            "Train Epoch:     2 [51200/60000 (85%)]\tLoss: 2.292734\n",
            "Train Epoch:     2 [57600/60000 (96%)]\tLoss: 2.283451\n",
            "\n",
            "Test set: Avg. loss: 2.3107, Accuracy:  1411/10000 (14.11%)\n",
            "\n",
            "Train Epoch:     3 [    0/60000 ( 0%)]\tLoss: 2.314315\n",
            "Train Epoch:     3 [ 6400/60000 (11%)]\tLoss: 2.318189\n",
            "Train Epoch:     3 [12800/60000 (21%)]\tLoss: 2.340753\n",
            "Train Epoch:     3 [19200/60000 (32%)]\tLoss: 2.326252\n",
            "Train Epoch:     3 [25600/60000 (43%)]\tLoss: 2.330887\n",
            "Train Epoch:     3 [32000/60000 (53%)]\tLoss: 2.357347\n",
            "Train Epoch:     3 [38400/60000 (64%)]\tLoss: 2.310356\n",
            "Train Epoch:     3 [44800/60000 (75%)]\tLoss: 2.320523\n",
            "Train Epoch:     3 [51200/60000 (85%)]\tLoss: 2.330275\n",
            "Train Epoch:     3 [57600/60000 (96%)]\tLoss: 2.330196\n",
            "\n",
            "Test set: Avg. loss: 2.3106, Accuracy:  1411/10000 (14.11%)\n",
            "\n",
            "----------\n",
            "shallow_and_wide_0.01\n",
            "----------\n",
            "\n",
            "Test set: Avg. loss: 2.3038, Accuracy:   897/10000 (8.97%)\n",
            "\n",
            "Train Epoch:     1 [    0/60000 ( 0%)]\tLoss: 2.308514\n",
            "Train Epoch:     1 [ 6400/60000 (11%)]\tLoss: 0.734190\n",
            "Train Epoch:     1 [12800/60000 (21%)]\tLoss: 0.393900\n",
            "Train Epoch:     1 [19200/60000 (32%)]\tLoss: 0.443318\n",
            "Train Epoch:     1 [25600/60000 (43%)]\tLoss: 0.167415\n",
            "Train Epoch:     1 [32000/60000 (53%)]\tLoss: 0.227407\n",
            "Train Epoch:     1 [38400/60000 (64%)]\tLoss: 0.125996\n",
            "Train Epoch:     1 [44800/60000 (75%)]\tLoss: 0.183915\n",
            "Train Epoch:     1 [51200/60000 (85%)]\tLoss: 0.208529\n",
            "Train Epoch:     1 [57600/60000 (96%)]\tLoss: 0.152985\n",
            "\n",
            "Test set: Avg. loss: 0.1874, Accuracy:  9666/10000 (96.66%)\n",
            "\n",
            "Train Epoch:     2 [    0/60000 ( 0%)]\tLoss: 0.172801\n",
            "Train Epoch:     2 [ 6400/60000 (11%)]\tLoss: 0.091699\n",
            "Train Epoch:     2 [12800/60000 (21%)]\tLoss: 0.177736\n",
            "Train Epoch:     2 [19200/60000 (32%)]\tLoss: 0.204207\n",
            "Train Epoch:     2 [25600/60000 (43%)]\tLoss: 0.074487\n",
            "Train Epoch:     2 [32000/60000 (53%)]\tLoss: 0.150953\n",
            "Train Epoch:     2 [38400/60000 (64%)]\tLoss: 0.277085\n",
            "Train Epoch:     2 [44800/60000 (75%)]\tLoss: 0.072554\n",
            "Train Epoch:     2 [51200/60000 (85%)]\tLoss: 0.065177\n",
            "Train Epoch:     2 [57600/60000 (96%)]\tLoss: 0.075743\n",
            "\n",
            "Test set: Avg. loss: 0.1040, Accuracy:  9791/10000 (97.91%)\n",
            "\n",
            "Train Epoch:     3 [    0/60000 ( 0%)]\tLoss: 0.031342\n",
            "Train Epoch:     3 [ 6400/60000 (11%)]\tLoss: 0.096540\n",
            "Train Epoch:     3 [12800/60000 (21%)]\tLoss: 0.016883\n",
            "Train Epoch:     3 [19200/60000 (32%)]\tLoss: 0.041944\n",
            "Train Epoch:     3 [25600/60000 (43%)]\tLoss: 0.116424\n",
            "Train Epoch:     3 [32000/60000 (53%)]\tLoss: 0.062915\n",
            "Train Epoch:     3 [38400/60000 (64%)]\tLoss: 0.120740\n",
            "Train Epoch:     3 [44800/60000 (75%)]\tLoss: 0.089904\n",
            "Train Epoch:     3 [51200/60000 (85%)]\tLoss: 0.220317\n",
            "Train Epoch:     3 [57600/60000 (96%)]\tLoss: 0.081776\n",
            "\n",
            "Test set: Avg. loss: 0.0872, Accuracy:  9821/10000 (98.21%)\n",
            "\n",
            "----------\n",
            "shallow_and_wide_1\n",
            "----------\n",
            "\n",
            "Test set: Avg. loss: 2.3067, Accuracy:   734/10000 (7.34%)\n",
            "\n",
            "Train Epoch:     1 [    0/60000 ( 0%)]\tLoss: 2.308984\n",
            "Train Epoch:     1 [ 6400/60000 (11%)]\tLoss: 2.305995\n",
            "Train Epoch:     1 [12800/60000 (21%)]\tLoss: 2.306692\n",
            "Train Epoch:     1 [19200/60000 (32%)]\tLoss: 2.306241\n",
            "Train Epoch:     1 [25600/60000 (43%)]\tLoss: 2.311463\n",
            "Train Epoch:     1 [32000/60000 (53%)]\tLoss: 2.308971\n",
            "Train Epoch:     1 [38400/60000 (64%)]\tLoss: 2.305053\n",
            "Train Epoch:     1 [44800/60000 (75%)]\tLoss: 2.278386\n",
            "Train Epoch:     1 [51200/60000 (85%)]\tLoss: 2.326257\n",
            "Train Epoch:     1 [57600/60000 (96%)]\tLoss: 2.295477\n",
            "\n",
            "Test set: Avg. loss: 2.3039, Accuracy:  1028/10000 (10.28%)\n",
            "\n",
            "Train Epoch:     2 [    0/60000 ( 0%)]\tLoss: 2.289447\n",
            "Train Epoch:     2 [ 6400/60000 (11%)]\tLoss: 2.311387\n",
            "Train Epoch:     2 [12800/60000 (21%)]\tLoss: 2.294801\n",
            "Train Epoch:     2 [19200/60000 (32%)]\tLoss: 2.315775\n",
            "Train Epoch:     2 [25600/60000 (43%)]\tLoss: 2.323398\n",
            "Train Epoch:     2 [32000/60000 (53%)]\tLoss: 2.305452\n",
            "Train Epoch:     2 [38400/60000 (64%)]\tLoss: 2.297805\n",
            "Train Epoch:     2 [44800/60000 (75%)]\tLoss: 2.296818\n",
            "Train Epoch:     2 [51200/60000 (85%)]\tLoss: 2.309137\n",
            "Train Epoch:     2 [57600/60000 (96%)]\tLoss: 2.294913\n",
            "\n",
            "Test set: Avg. loss: 2.3087, Accuracy:  1135/10000 (11.35%)\n",
            "\n",
            "Train Epoch:     3 [    0/60000 ( 0%)]\tLoss: 2.297528\n",
            "Train Epoch:     3 [ 6400/60000 (11%)]\tLoss: 2.300244\n",
            "Train Epoch:     3 [12800/60000 (21%)]\tLoss: 2.293130\n",
            "Train Epoch:     3 [19200/60000 (32%)]\tLoss: 2.309538\n",
            "Train Epoch:     3 [25600/60000 (43%)]\tLoss: 2.310925\n",
            "Train Epoch:     3 [32000/60000 (53%)]\tLoss: 2.300147\n",
            "Train Epoch:     3 [38400/60000 (64%)]\tLoss: 2.307535\n",
            "Train Epoch:     3 [44800/60000 (75%)]\tLoss: 2.271632\n",
            "Train Epoch:     3 [51200/60000 (85%)]\tLoss: 2.293145\n",
            "Train Epoch:     3 [57600/60000 (96%)]\tLoss: 2.287068\n",
            "\n",
            "Test set: Avg. loss: 2.3077, Accuracy:   958/10000 (9.58%)\n",
            "\n",
            "----------\n",
            "deep_and_narrow_1e-07\n",
            "----------\n",
            "\n",
            "Test set: Avg. loss: 2.3037, Accuracy:   986/10000 (9.86%)\n",
            "\n",
            "Train Epoch:     1 [    0/60000 ( 0%)]\tLoss: 2.304881\n",
            "Train Epoch:     1 [ 6400/60000 (11%)]\tLoss: 2.276601\n",
            "Train Epoch:     1 [12800/60000 (21%)]\tLoss: 2.297984\n",
            "Train Epoch:     1 [19200/60000 (32%)]\tLoss: 2.292648\n",
            "Train Epoch:     1 [25600/60000 (43%)]\tLoss: 2.309006\n",
            "Train Epoch:     1 [32000/60000 (53%)]\tLoss: 2.329104\n",
            "Train Epoch:     1 [38400/60000 (64%)]\tLoss: 2.304663\n",
            "Train Epoch:     1 [44800/60000 (75%)]\tLoss: 2.312599\n",
            "Train Epoch:     1 [51200/60000 (85%)]\tLoss: 2.318766\n",
            "Train Epoch:     1 [57600/60000 (96%)]\tLoss: 2.305032\n",
            "\n",
            "Test set: Avg. loss: 2.3037, Accuracy:   986/10000 (9.86%)\n",
            "\n",
            "Train Epoch:     2 [    0/60000 ( 0%)]\tLoss: 2.300686\n",
            "Train Epoch:     2 [ 6400/60000 (11%)]\tLoss: 2.307129\n",
            "Train Epoch:     2 [12800/60000 (21%)]\tLoss: 2.302679\n",
            "Train Epoch:     2 [19200/60000 (32%)]\tLoss: 2.312153\n",
            "Train Epoch:     2 [25600/60000 (43%)]\tLoss: 2.307250\n",
            "Train Epoch:     2 [32000/60000 (53%)]\tLoss: 2.310417\n",
            "Train Epoch:     2 [38400/60000 (64%)]\tLoss: 2.307287\n",
            "Train Epoch:     2 [44800/60000 (75%)]\tLoss: 2.318330\n",
            "Train Epoch:     2 [51200/60000 (85%)]\tLoss: 2.304498\n",
            "Train Epoch:     2 [57600/60000 (96%)]\tLoss: 2.304162\n",
            "\n",
            "Test set: Avg. loss: 2.3037, Accuracy:   987/10000 (9.87%)\n",
            "\n",
            "Train Epoch:     3 [    0/60000 ( 0%)]\tLoss: 2.300913\n",
            "Train Epoch:     3 [ 6400/60000 (11%)]\tLoss: 2.322634\n",
            "Train Epoch:     3 [12800/60000 (21%)]\tLoss: 2.306952\n",
            "Train Epoch:     3 [19200/60000 (32%)]\tLoss: 2.300331\n",
            "Train Epoch:     3 [25600/60000 (43%)]\tLoss: 2.311244\n",
            "Train Epoch:     3 [32000/60000 (53%)]\tLoss: 2.303657\n",
            "Train Epoch:     3 [38400/60000 (64%)]\tLoss: 2.318895\n",
            "Train Epoch:     3 [44800/60000 (75%)]\tLoss: 2.318700\n",
            "Train Epoch:     3 [51200/60000 (85%)]\tLoss: 2.298058\n",
            "Train Epoch:     3 [57600/60000 (96%)]\tLoss: 2.307564\n",
            "\n",
            "Test set: Avg. loss: 2.3037, Accuracy:   986/10000 (9.86%)\n",
            "\n",
            "----------\n",
            "deep_and_narrow_0.01\n",
            "----------\n",
            "\n",
            "Test set: Avg. loss: 2.3060, Accuracy:  1027/10000 (10.27%)\n",
            "\n",
            "Train Epoch:     1 [    0/60000 ( 0%)]\tLoss: 2.287821\n",
            "Train Epoch:     1 [ 6400/60000 (11%)]\tLoss: 2.271444\n",
            "Train Epoch:     1 [12800/60000 (21%)]\tLoss: 2.158934\n",
            "Train Epoch:     1 [19200/60000 (32%)]\tLoss: 1.537239\n",
            "Train Epoch:     1 [25600/60000 (43%)]\tLoss: 0.713703\n",
            "Train Epoch:     1 [32000/60000 (53%)]\tLoss: 0.745444\n",
            "Train Epoch:     1 [38400/60000 (64%)]\tLoss: 0.849528\n",
            "Train Epoch:     1 [44800/60000 (75%)]\tLoss: 0.694256\n",
            "Train Epoch:     1 [51200/60000 (85%)]\tLoss: 0.394762\n",
            "Train Epoch:     1 [57600/60000 (96%)]\tLoss: 0.608607\n",
            "\n",
            "Test set: Avg. loss: 0.2783, Accuracy:  9227/10000 (92.27%)\n",
            "\n",
            "Train Epoch:     2 [    0/60000 ( 0%)]\tLoss: 0.344582\n",
            "Train Epoch:     2 [ 6400/60000 (11%)]\tLoss: 0.534983\n",
            "Train Epoch:     2 [12800/60000 (21%)]\tLoss: 0.293519\n",
            "Train Epoch:     2 [19200/60000 (32%)]\tLoss: 0.380969\n",
            "Train Epoch:     2 [25600/60000 (43%)]\tLoss: 0.333792\n",
            "Train Epoch:     2 [32000/60000 (53%)]\tLoss: 0.353997\n",
            "Train Epoch:     2 [38400/60000 (64%)]\tLoss: 0.205159\n",
            "Train Epoch:     2 [44800/60000 (75%)]\tLoss: 0.278133\n",
            "Train Epoch:     2 [51200/60000 (85%)]\tLoss: 0.268073\n",
            "Train Epoch:     2 [57600/60000 (96%)]\tLoss: 0.281666\n",
            "\n",
            "Test set: Avg. loss: 0.1783, Accuracy:  9457/10000 (94.57%)\n",
            "\n",
            "Train Epoch:     3 [    0/60000 ( 0%)]\tLoss: 0.196747\n",
            "Train Epoch:     3 [ 6400/60000 (11%)]\tLoss: 0.254615\n",
            "Train Epoch:     3 [12800/60000 (21%)]\tLoss: 0.515607\n",
            "Train Epoch:     3 [19200/60000 (32%)]\tLoss: 0.309527\n",
            "Train Epoch:     3 [25600/60000 (43%)]\tLoss: 0.316108\n",
            "Train Epoch:     3 [32000/60000 (53%)]\tLoss: 0.309415\n",
            "Train Epoch:     3 [38400/60000 (64%)]\tLoss: 0.139074\n",
            "Train Epoch:     3 [44800/60000 (75%)]\tLoss: 0.222000\n",
            "Train Epoch:     3 [51200/60000 (85%)]\tLoss: 0.164667\n",
            "Train Epoch:     3 [57600/60000 (96%)]\tLoss: 0.205797\n",
            "\n",
            "Test set: Avg. loss: 0.1064, Accuracy:  9658/10000 (96.58%)\n",
            "\n",
            "----------\n",
            "deep_and_narrow_1\n",
            "----------\n",
            "\n",
            "Test set: Avg. loss: 2.3039, Accuracy:   886/10000 (8.86%)\n",
            "\n",
            "Train Epoch:     1 [    0/60000 ( 0%)]\tLoss: 2.333047\n",
            "Train Epoch:     1 [ 6400/60000 (11%)]\tLoss: 2.294497\n",
            "Train Epoch:     1 [12800/60000 (21%)]\tLoss: 2.314966\n",
            "Train Epoch:     1 [19200/60000 (32%)]\tLoss: 2.299414\n",
            "Train Epoch:     1 [25600/60000 (43%)]\tLoss: 2.319060\n",
            "Train Epoch:     1 [32000/60000 (53%)]\tLoss: 2.298126\n",
            "Train Epoch:     1 [38400/60000 (64%)]\tLoss: 2.297582\n",
            "Train Epoch:     1 [44800/60000 (75%)]\tLoss: 2.302047\n",
            "Train Epoch:     1 [51200/60000 (85%)]\tLoss: 2.309149\n",
            "Train Epoch:     1 [57600/60000 (96%)]\tLoss: 2.309421\n",
            "\n",
            "Test set: Avg. loss: 2.3081, Accuracy:   974/10000 (9.74%)\n",
            "\n",
            "Train Epoch:     2 [    0/60000 ( 0%)]\tLoss: 2.295628\n",
            "Train Epoch:     2 [ 6400/60000 (11%)]\tLoss: 2.303594\n",
            "Train Epoch:     2 [12800/60000 (21%)]\tLoss: 2.305926\n",
            "Train Epoch:     2 [19200/60000 (32%)]\tLoss: 2.304589\n",
            "Train Epoch:     2 [25600/60000 (43%)]\tLoss: 2.313675\n",
            "Train Epoch:     2 [32000/60000 (53%)]\tLoss: 2.307387\n",
            "Train Epoch:     2 [38400/60000 (64%)]\tLoss: 2.303140\n",
            "Train Epoch:     2 [44800/60000 (75%)]\tLoss: 2.300395\n",
            "Train Epoch:     2 [51200/60000 (85%)]\tLoss: 2.295525\n",
            "Train Epoch:     2 [57600/60000 (96%)]\tLoss: 2.300382\n",
            "\n",
            "Test set: Avg. loss: 2.3045, Accuracy:  1135/10000 (11.35%)\n",
            "\n",
            "Train Epoch:     3 [    0/60000 ( 0%)]\tLoss: 2.285419\n",
            "Train Epoch:     3 [ 6400/60000 (11%)]\tLoss: 2.319081\n",
            "Train Epoch:     3 [12800/60000 (21%)]\tLoss: 2.314321\n",
            "Train Epoch:     3 [19200/60000 (32%)]\tLoss: 2.297525\n",
            "Train Epoch:     3 [25600/60000 (43%)]\tLoss: 2.302364\n",
            "Train Epoch:     3 [32000/60000 (53%)]\tLoss: 2.335703\n",
            "Train Epoch:     3 [38400/60000 (64%)]\tLoss: 2.313977\n",
            "Train Epoch:     3 [44800/60000 (75%)]\tLoss: 2.304268\n",
            "Train Epoch:     3 [51200/60000 (85%)]\tLoss: 2.310410\n",
            "Train Epoch:     3 [57600/60000 (96%)]\tLoss: 2.306943\n",
            "\n",
            "Test set: Avg. loss: 2.3051, Accuracy:  1010/10000 (10.10%)\n",
            "\n",
            "----------\n",
            "deep_and_wide_1e-07\n",
            "----------\n",
            "\n",
            "Test set: Avg. loss: 2.3028, Accuracy:   983/10000 (9.83%)\n",
            "\n",
            "Train Epoch:     1 [    0/60000 ( 0%)]\tLoss: 2.300079\n",
            "Train Epoch:     1 [ 6400/60000 (11%)]\tLoss: 2.302748\n",
            "Train Epoch:     1 [12800/60000 (21%)]\tLoss: 2.299684\n",
            "Train Epoch:     1 [19200/60000 (32%)]\tLoss: 2.294019\n",
            "Train Epoch:     1 [25600/60000 (43%)]\tLoss: 2.288079\n",
            "Train Epoch:     1 [32000/60000 (53%)]\tLoss: 2.309955\n",
            "Train Epoch:     1 [38400/60000 (64%)]\tLoss: 2.314098\n",
            "Train Epoch:     1 [44800/60000 (75%)]\tLoss: 2.307561\n",
            "Train Epoch:     1 [51200/60000 (85%)]\tLoss: 2.314524\n",
            "Train Epoch:     1 [57600/60000 (96%)]\tLoss: 2.289654\n",
            "\n",
            "Test set: Avg. loss: 2.3028, Accuracy:   983/10000 (9.83%)\n",
            "\n",
            "Train Epoch:     2 [    0/60000 ( 0%)]\tLoss: 2.311120\n",
            "Train Epoch:     2 [ 6400/60000 (11%)]\tLoss: 2.296048\n",
            "Train Epoch:     2 [12800/60000 (21%)]\tLoss: 2.297930\n",
            "Train Epoch:     2 [19200/60000 (32%)]\tLoss: 2.305026\n",
            "Train Epoch:     2 [25600/60000 (43%)]\tLoss: 2.306082\n",
            "Train Epoch:     2 [32000/60000 (53%)]\tLoss: 2.302560\n",
            "Train Epoch:     2 [38400/60000 (64%)]\tLoss: 2.295235\n",
            "Train Epoch:     2 [44800/60000 (75%)]\tLoss: 2.299348\n",
            "Train Epoch:     2 [51200/60000 (85%)]\tLoss: 2.294470\n",
            "Train Epoch:     2 [57600/60000 (96%)]\tLoss: 2.297188\n",
            "\n",
            "Test set: Avg. loss: 2.3028, Accuracy:   983/10000 (9.83%)\n",
            "\n",
            "Train Epoch:     3 [    0/60000 ( 0%)]\tLoss: 2.290138\n",
            "Train Epoch:     3 [ 6400/60000 (11%)]\tLoss: 2.306891\n",
            "Train Epoch:     3 [12800/60000 (21%)]\tLoss: 2.298266\n",
            "Train Epoch:     3 [19200/60000 (32%)]\tLoss: 2.313716\n",
            "Train Epoch:     3 [25600/60000 (43%)]\tLoss: 2.300876\n",
            "Train Epoch:     3 [32000/60000 (53%)]\tLoss: 2.318068\n",
            "Train Epoch:     3 [38400/60000 (64%)]\tLoss: 2.294945\n",
            "Train Epoch:     3 [44800/60000 (75%)]\tLoss: 2.292058\n",
            "Train Epoch:     3 [51200/60000 (85%)]\tLoss: 2.305292\n",
            "Train Epoch:     3 [57600/60000 (96%)]\tLoss: 2.309440\n",
            "\n",
            "Test set: Avg. loss: 2.3028, Accuracy:   983/10000 (9.83%)\n",
            "\n",
            "----------\n",
            "deep_and_wide_0.01\n",
            "----------\n",
            "\n",
            "Test set: Avg. loss: 2.3042, Accuracy:  1028/10000 (10.28%)\n",
            "\n",
            "Train Epoch:     1 [    0/60000 ( 0%)]\tLoss: 2.273441\n",
            "Train Epoch:     1 [ 6400/60000 (11%)]\tLoss: 2.253344\n",
            "Train Epoch:     1 [12800/60000 (21%)]\tLoss: 2.048227\n",
            "Train Epoch:     1 [19200/60000 (32%)]\tLoss: 1.351327\n",
            "Train Epoch:     1 [25600/60000 (43%)]\tLoss: 1.084429\n",
            "Train Epoch:     1 [32000/60000 (53%)]\tLoss: 0.776098\n",
            "Train Epoch:     1 [38400/60000 (64%)]\tLoss: 0.476133\n",
            "Train Epoch:     1 [44800/60000 (75%)]\tLoss: 0.500880\n",
            "Train Epoch:     1 [51200/60000 (85%)]\tLoss: 0.593307\n",
            "Train Epoch:     1 [57600/60000 (96%)]\tLoss: 0.493532\n",
            "\n",
            "Test set: Avg. loss: 0.2370, Accuracy:  9314/10000 (93.14%)\n",
            "\n",
            "Train Epoch:     2 [    0/60000 ( 0%)]\tLoss: 0.297413\n",
            "Train Epoch:     2 [ 6400/60000 (11%)]\tLoss: 0.380262\n",
            "Train Epoch:     2 [12800/60000 (21%)]\tLoss: 0.268141\n",
            "Train Epoch:     2 [19200/60000 (32%)]\tLoss: 0.229793\n",
            "Train Epoch:     2 [25600/60000 (43%)]\tLoss: 0.301829\n",
            "Train Epoch:     2 [32000/60000 (53%)]\tLoss: 0.194272\n",
            "Train Epoch:     2 [38400/60000 (64%)]\tLoss: 0.279503\n",
            "Train Epoch:     2 [44800/60000 (75%)]\tLoss: 0.198160\n",
            "Train Epoch:     2 [51200/60000 (85%)]\tLoss: 0.221465\n",
            "Train Epoch:     2 [57600/60000 (96%)]\tLoss: 0.555343\n",
            "\n",
            "Test set: Avg. loss: 0.1028, Accuracy:  9666/10000 (96.66%)\n",
            "\n",
            "Train Epoch:     3 [    0/60000 ( 0%)]\tLoss: 0.378484\n",
            "Train Epoch:     3 [ 6400/60000 (11%)]\tLoss: 0.327768\n",
            "Train Epoch:     3 [12800/60000 (21%)]\tLoss: 0.139051\n",
            "Train Epoch:     3 [19200/60000 (32%)]\tLoss: 0.113048\n",
            "Train Epoch:     3 [25600/60000 (43%)]\tLoss: 0.280102\n",
            "Train Epoch:     3 [32000/60000 (53%)]\tLoss: 0.387349\n",
            "Train Epoch:     3 [38400/60000 (64%)]\tLoss: 0.076316\n",
            "Train Epoch:     3 [44800/60000 (75%)]\tLoss: 0.192878\n",
            "Train Epoch:     3 [51200/60000 (85%)]\tLoss: 0.290376\n",
            "Train Epoch:     3 [57600/60000 (96%)]\tLoss: 0.131035\n",
            "\n",
            "Test set: Avg. loss: 0.0890, Accuracy:  9716/10000 (97.16%)\n",
            "\n",
            "----------\n",
            "deep_and_wide_1\n",
            "----------\n",
            "\n",
            "Test set: Avg. loss: 2.3072, Accuracy:   988/10000 (9.88%)\n",
            "\n",
            "Train Epoch:     1 [    0/60000 ( 0%)]\tLoss: 2.322850\n",
            "Train Epoch:     1 [ 6400/60000 (11%)]\tLoss: 2.312773\n",
            "Train Epoch:     1 [12800/60000 (21%)]\tLoss: 2.301519\n",
            "Train Epoch:     1 [19200/60000 (32%)]\tLoss: 2.317384\n",
            "Train Epoch:     1 [25600/60000 (43%)]\tLoss: 2.308096\n",
            "Train Epoch:     1 [32000/60000 (53%)]\tLoss: 2.305163\n",
            "Train Epoch:     1 [38400/60000 (64%)]\tLoss: 2.322270\n",
            "Train Epoch:     1 [44800/60000 (75%)]\tLoss: 2.298064\n",
            "Train Epoch:     1 [51200/60000 (85%)]\tLoss: 2.304543\n",
            "Train Epoch:     1 [57600/60000 (96%)]\tLoss: 2.317317\n",
            "\n",
            "Test set: Avg. loss: 2.3053, Accuracy:  1028/10000 (10.28%)\n",
            "\n",
            "Train Epoch:     2 [    0/60000 ( 0%)]\tLoss: 2.305329\n",
            "Train Epoch:     2 [ 6400/60000 (11%)]\tLoss: 2.309270\n",
            "Train Epoch:     2 [12800/60000 (21%)]\tLoss: 2.306624\n",
            "Train Epoch:     2 [19200/60000 (32%)]\tLoss: 2.315271\n",
            "Train Epoch:     2 [25600/60000 (43%)]\tLoss: 2.291088\n",
            "Train Epoch:     2 [32000/60000 (53%)]\tLoss: 2.302592\n",
            "Train Epoch:     2 [38400/60000 (64%)]\tLoss: 2.308486\n",
            "Train Epoch:     2 [44800/60000 (75%)]\tLoss: 2.312722\n",
            "Train Epoch:     2 [51200/60000 (85%)]\tLoss: 2.296724\n",
            "Train Epoch:     2 [57600/60000 (96%)]\tLoss: 2.300949\n",
            "\n",
            "Test set: Avg. loss: 2.3043, Accuracy:  1135/10000 (11.35%)\n",
            "\n",
            "Train Epoch:     3 [    0/60000 ( 0%)]\tLoss: 2.319848\n",
            "Train Epoch:     3 [ 6400/60000 (11%)]\tLoss: 2.309778\n",
            "Train Epoch:     3 [12800/60000 (21%)]\tLoss: 2.311300\n",
            "Train Epoch:     3 [19200/60000 (32%)]\tLoss: 2.321271\n",
            "Train Epoch:     3 [25600/60000 (43%)]\tLoss: 2.308396\n",
            "Train Epoch:     3 [32000/60000 (53%)]\tLoss: 2.303937\n",
            "Train Epoch:     3 [38400/60000 (64%)]\tLoss: 2.300628\n",
            "Train Epoch:     3 [44800/60000 (75%)]\tLoss: 2.300254\n",
            "Train Epoch:     3 [51200/60000 (85%)]\tLoss: 2.312368\n",
            "Train Epoch:     3 [57600/60000 (96%)]\tLoss: 2.314428\n",
            "\n",
            "Test set: Avg. loss: 2.3089, Accuracy:  1135/10000 (11.35%)\n",
            "\n"
          ],
          "name": "stdout"
        }
      ]
    },
    {
      "cell_type": "markdown",
      "metadata": {
        "id": "qgC4PDf38mBU"
      },
      "source": [
        "Iskoristimo našu pripremljenu funkciju za izvođenje eksperimenta:"
      ]
    },
    {
      "cell_type": "markdown",
      "metadata": {
        "id": "YnIGh2l88mBU"
      },
      "source": [
        "Spremimo rezultate u mapu `results` kako je navedeno u zadatku. Također nam je potreban broj parametara mreže, što možemo izračunati u ovom koraku."
      ]
    },
    {
      "cell_type": "markdown",
      "metadata": {
        "id": "u6vxWgvv8mBV"
      },
      "source": [
        "Prikažimo rezultate za ovaj eksperiment:"
      ]
    },
    {
      "cell_type": "code",
      "metadata": {
        "id": "Y2JnHIGG8mBV",
        "colab": {
          "base_uri": "https://localhost:8080/",
          "height": 334
        },
        "outputId": "797722dc-cd5e-45a6-e487-d9663a27ddf4"
      },
      "source": [
        "train_losses, train_counter, test_losses, test_counter, test_accuracy, number_of_parameters = results['shallow_and_narrow_0.01']\n",
        "\n",
        "fig = plt.figure(figsize=(16, 5))\n",
        "plt.plot(train_counter, train_losses, color='blue', label='Train loss')\n",
        "plt.plot(test_counter, test_losses, color='red',  marker='o', label='Test loss')\n",
        "plt.vlines(test_counter, 0, max(train_losses + test_losses), linestyles='dashed', label='Epoch markers')\n",
        "\n",
        "plt.legend(loc='upper right')\n",
        "plt.xlabel('Number of samples')\n",
        "plt.ylabel('Loss')\n",
        "plt.grid()"
      ],
      "execution_count": null,
      "outputs": [
        {
          "output_type": "display_data",
          "data": {
            "image/png": "[encoded data removed]",
            "text/plain": [
              "<Figure size 1152x360 with 1 Axes>"
            ]
          },
          "metadata": {
            "tags": [],
            "needs_background": "light"
          }
        }
      ]
    },
    {
      "cell_type": "markdown",
      "metadata": {
        "id": "9Y3TO-eh8mBV"
      },
      "source": [
        "**Nadopunite bilježnicu sa svim traženim arhitekturama i learning rateovima zadanim u ovom podzadatku.** "
      ]
    },
    {
      "cell_type": "markdown",
      "metadata": {
        "id": "0N73eaQq8mBV"
      },
      "source": [
        "#### Podzadatak g) - Usporedba rezultata\n",
        "\n",
        "Nakon što smo izvršili sve eksperimente potrebno ih je usporediti. Nacrtajte tražene grafove, te pomoću njih odgovorite na pitanja postavljena na Moodleu."
      ]
    },
    {
      "cell_type": "markdown",
      "metadata": {
        "id": "0IWnMHAI8mBV"
      },
      "source": [
        "Nacrtajte graf gdje je X os vrijeme (odgovara na pitanje: koji korak treniranja?), a Y os je loss za **trening** skup podataka."
      ]
    },
    {
      "cell_type": "markdown",
      "metadata": {
        "id": "gfEpetAm8mBW"
      },
      "source": [
        "Odgovorite na sljedeća pitanja:\n",
        "1. Radi li se o konzistentnom padu iz koraka u korak?\n",
        "2. Jesu li neke arhitekture u startu značajno bolje od drugih?\n",
        "3. Koji model je najnestabilniji tijekom treniranja?"
      ]
    },
    {
      "cell_type": "code",
      "metadata": {
        "id": "OyiTfnal8mBW",
        "colab": {
          "base_uri": "https://localhost:8080/",
          "height": 405
        },
        "outputId": "94201020-b60a-4a9b-e8e7-db76c02e366a"
      },
      "source": [
        "plt.figure(figsize=(19, 6))\n",
        "\n",
        "for model_key in results:\n",
        "    train_counter, train_losses, test_counter, test_losses, test_accuracy, number_of_parameters = results[model_key]\n",
        "    plt.plot(train_counter, train_losses, label=model_key)\n",
        "\n",
        "plt.legend()\n",
        "plt.grid()\n",
        "plt.ylabel(\"Train loss\")\n",
        "plt.xlabel(\"Steps\")"
      ],
      "execution_count": null,
      "outputs": [
        {
          "output_type": "execute_result",
          "data": {
            "text/plain": [
              "Text(0.5, 0, 'Steps')"
            ]
          },
          "metadata": {
            "tags": []
          },
          "execution_count": 19
        },
        {
          "output_type": "display_data",
          "data": {
            "image/png": "[encoded data removed]",
            "text/plain": [
              "<Figure size 1368x432 with 1 Axes>"
            ]
          },
          "metadata": {
            "tags": [],
            "needs_background": "light"
          }
        }
      ]
    },
    {
      "cell_type": "markdown",
      "metadata": {
        "id": "sjQvS9h18mBX"
      },
      "source": [
        "Nacrtajte graf gdje je X os vrijeme (odgovara na pitanje: koji korak treniranja?), a Y os je loss za **test** skupu podataka."
      ]
    },
    {
      "cell_type": "markdown",
      "metadata": {
        "id": "V1giPvlo8mBX"
      },
      "source": [
        "Odgovorite na sljedeća pitanja:\n",
        "4. Radi li se o konzistentnom padu iz koraka u korak?\n",
        "5. Jesu li neke arhitekture u startu značajno bolje od drugih?"
      ]
    },
    {
      "cell_type": "code",
      "metadata": {
        "id": "P4Uf1TiF8mBX",
        "colab": {
          "base_uri": "https://localhost:8080/",
          "height": 405
        },
        "outputId": "6a16efcd-bebb-472a-ba1c-60a7d8183632"
      },
      "source": [
        "plt.figure(figsize=(19, 6))\n",
        "\n",
        "for model_key in results:\n",
        "    train_counter, train_losses, test_counter, test_losses, test_accuracy, number_of_parameters = results[model_key]\n",
        "    plt.plot(test_counter, test_losses, label=model_key)\n",
        "\n",
        "plt.legend()\n",
        "plt.grid()\n",
        "plt.xlabel(\"Steps\")\n",
        "plt.ylabel(\"Test Loss\")"
      ],
      "execution_count": null,
      "outputs": [
        {
          "output_type": "execute_result",
          "data": {
            "text/plain": [
              "Text(0, 0.5, 'Steps')"
            ]
          },
          "metadata": {
            "tags": []
          },
          "execution_count": 20
        },
        {
          "output_type": "display_data",
          "data": {
            "image/png": "[encoded data removed]",
            "text/plain": [
              "<Figure size 1368x432 with 1 Axes>"
            ]
          },
          "metadata": {
            "tags": [],
            "needs_background": "light"
          }
        }
      ]
    },
    {
      "cell_type": "markdown",
      "metadata": {
        "id": "rtLhEzai8mBY"
      },
      "source": [
        "Nacrtajte graf (scatter plot) gdje je X os broj parametara modela, a Y os je točnost koju model ostvaruje na test skupu."
      ]
    },
    {
      "cell_type": "markdown",
      "metadata": {
        "id": "chMbNJjk8mBY"
      },
      "source": [
        "Odgovorite na sljedeća pitanja:\n",
        "6. Koji je najbolji model?\n",
        "7. Kakvi su duboki modeli u usporedbu s plitkim modelima?\n",
        "8. Kakvi su široki modeli u usporedbi s uskima?"
      ]
    },
    {
      "cell_type": "code",
      "metadata": {
        "id": "9bPtKsdn8mBY",
        "colab": {
          "base_uri": "https://localhost:8080/",
          "height": 568
        },
        "outputId": "46751ce5-86ca-46b9-f3af-6ff8eda09a4c"
      },
      "source": [
        "plt.figure(figsize=(9, 9))\n",
        "\n",
        "for model_key in results:\n",
        "    train_counter, train_losses, test_counter, test_losses, test_accuracy, number_of_parameters = results[model_key]\n",
        "    plt.scatter(number_of_parameters, test_accuracy, label=model_key, s=256)\n",
        "\n",
        "plt.legend()\n",
        "plt.grid()\n",
        "plt.ylabel(\"Test accuracy\")\n",
        "plt.xlabel(\"Number of parameters\")"
      ],
      "execution_count": null,
      "outputs": [
        {
          "output_type": "execute_result",
          "data": {
            "text/plain": [
              "Text(0.5, 0, 'Number of parameters')"
            ]
          },
          "metadata": {
            "tags": []
          },
          "execution_count": 21
        },
        {
          "output_type": "display_data",
          "data": {
            "image/png": "[encoded data removed]",
            "text/plain": [
              "<Figure size 648x648 with 1 Axes>"
            ]
          },
          "metadata": {
            "tags": [],
            "needs_background": "light"
          }
        }
      ]
    },
    {
      "cell_type": "markdown",
      "metadata": {
        "id": "anR2jStp8mBY"
      },
      "source": [
        "#### Podzadatak h) - Evaluacija na neviđenom skupu podataka\n",
        "\n",
        "Preuzmite skup podataka za ocjenjivanje sa sljedeće poveznice: http://zver6.zesoi.fer.hr:18080/labos_oi/submission_z1.zip\n",
        "\n",
        "Primjer filea kojeg treba generirati možete preuzeti sa: http://zver6.zesoi.fer.hr:18080/labos_oi/zad1_submission_sample.csv \n",
        "\n",
        "Odredite predikcije Vašeg najboljeg modela nad tim skupom, te ih stavite na Moodle."
      ]
    },
    {
      "cell_type": "code",
      "metadata": {
        "id": "u29cD9DZQkv7",
        "colab": {
          "base_uri": "https://localhost:8080/"
        },
        "outputId": "229b1ce9-c01a-40ee-c1b8-0a5c697bcf04"
      },
      "source": [
        "best_net = ShallowAndWide().to(device)\r\n",
        "optimizer = torch.optim.SGD(best_net.parameters(), lr=0.01)\r\n",
        "train_network(best_net, train_loader, test_loader, device)"
      ],
      "execution_count": null,
      "outputs": [
        {
          "output_type": "stream",
          "text": [
            "\n",
            "Test set: Avg. loss: 2.3000, Accuracy:   962/10000 (9.62%)\n",
            "\n",
            "Train Epoch:     1 [    0/60000 ( 0%)]\tLoss: 2.302795\n",
            "Train Epoch:     1 [ 6400/60000 (11%)]\tLoss: 0.914801\n",
            "Train Epoch:     1 [12800/60000 (21%)]\tLoss: 0.352963\n",
            "Train Epoch:     1 [19200/60000 (32%)]\tLoss: 0.442292\n",
            "Train Epoch:     1 [25600/60000 (43%)]\tLoss: 0.338460\n",
            "Train Epoch:     1 [32000/60000 (53%)]\tLoss: 0.276666\n",
            "Train Epoch:     1 [38400/60000 (64%)]\tLoss: 0.152786\n",
            "Train Epoch:     1 [44800/60000 (75%)]\tLoss: 0.108139\n",
            "Train Epoch:     1 [51200/60000 (85%)]\tLoss: 0.376752\n",
            "Train Epoch:     1 [57600/60000 (96%)]\tLoss: 0.093949\n",
            "\n",
            "Test set: Avg. loss: 0.1944, Accuracy:  9621/10000 (96.21%)\n",
            "\n",
            "Train Epoch:     2 [    0/60000 ( 0%)]\tLoss: 0.088595\n",
            "Train Epoch:     2 [ 6400/60000 (11%)]\tLoss: 0.172188\n",
            "Train Epoch:     2 [12800/60000 (21%)]\tLoss: 0.094340\n",
            "Train Epoch:     2 [19200/60000 (32%)]\tLoss: 0.035189\n",
            "Train Epoch:     2 [25600/60000 (43%)]\tLoss: 0.068671\n",
            "Train Epoch:     2 [32000/60000 (53%)]\tLoss: 0.097412\n",
            "Train Epoch:     2 [38400/60000 (64%)]\tLoss: 0.120232\n",
            "Train Epoch:     2 [44800/60000 (75%)]\tLoss: 0.099929\n",
            "Train Epoch:     2 [51200/60000 (85%)]\tLoss: 0.068909\n",
            "Train Epoch:     2 [57600/60000 (96%)]\tLoss: 0.049312\n",
            "\n",
            "Test set: Avg. loss: 0.1094, Accuracy:  9764/10000 (97.64%)\n",
            "\n",
            "Train Epoch:     3 [    0/60000 ( 0%)]\tLoss: 0.055014\n",
            "Train Epoch:     3 [ 6400/60000 (11%)]\tLoss: 0.045098\n",
            "Train Epoch:     3 [12800/60000 (21%)]\tLoss: 0.228242\n",
            "Train Epoch:     3 [19200/60000 (32%)]\tLoss: 0.120015\n",
            "Train Epoch:     3 [25600/60000 (43%)]\tLoss: 0.071015\n",
            "Train Epoch:     3 [32000/60000 (53%)]\tLoss: 0.212704\n",
            "Train Epoch:     3 [38400/60000 (64%)]\tLoss: 0.035604\n",
            "Train Epoch:     3 [44800/60000 (75%)]\tLoss: 0.040677\n",
            "Train Epoch:     3 [51200/60000 (85%)]\tLoss: 0.169149\n",
            "Train Epoch:     3 [57600/60000 (96%)]\tLoss: 0.112222\n",
            "\n",
            "Test set: Avg. loss: 0.0865, Accuracy:  9808/10000 (98.08%)\n",
            "\n"
          ],
          "name": "stdout"
        },
        {
          "output_type": "execute_result",
          "data": {
            "text/plain": [
              "([2.302795171737671,\n",
              "  0.9148005843162537,\n",
              "  0.3529626727104187,\n",
              "  0.44229233264923096,\n",
              "  0.33845967054367065,\n",
              "  0.27666616439819336,\n",
              "  0.15278559923171997,\n",
              "  0.10813923925161362,\n",
              "  0.3767521381378174,\n",
              "  0.09394863992929459,\n",
              "  0.08859466761350632,\n",
              "  0.1721877008676529,\n",
              "  0.09434008598327637,\n",
              "  0.035189103335142136,\n",
              "  0.06867127120494843,\n",
              "  0.09741222858428955,\n",
              "  0.12023226171731949,\n",
              "  0.09992924332618713,\n",
              "  0.06890943646430969,\n",
              "  0.04931173846125603,\n",
              "  0.0550142303109169,\n",
              "  0.04509811848402023,\n",
              "  0.22824184596538544,\n",
              "  0.12001524865627289,\n",
              "  0.07101530581712723,\n",
              "  0.2127038836479187,\n",
              "  0.03560400754213333,\n",
              "  0.04067711532115936,\n",
              "  0.16914872825145721,\n",
              "  0.11222245544195175],\n",
              " [0,\n",
              "  6400,\n",
              "  12800,\n",
              "  19200,\n",
              "  25600,\n",
              "  32000,\n",
              "  38400,\n",
              "  44800,\n",
              "  51200,\n",
              "  57600,\n",
              "  60000,\n",
              "  66400,\n",
              "  72800,\n",
              "  79200,\n",
              "  85600,\n",
              "  92000,\n",
              "  98400,\n",
              "  104800,\n",
              "  111200,\n",
              "  117600,\n",
              "  120000,\n",
              "  126400,\n",
              "  132800,\n",
              "  139200,\n",
              "  145600,\n",
              "  152000,\n",
              "  158400,\n",
              "  164800,\n",
              "  171200,\n",
              "  177600],\n",
              " [2.300029504776001,\n",
              "  0.19444062330722808,\n",
              "  0.10938792793750762,\n",
              "  0.08653630414009095],\n",
              " [0, 60000, 120000, 180000],\n",
              " 98.07999420166016)"
            ]
          },
          "metadata": {
            "tags": []
          },
          "execution_count": 22
        }
      ]
    },
    {
      "cell_type": "code",
      "metadata": {
        "id": "fR0GduAA_L_b"
      },
      "source": [
        "import os\r\n",
        "import csv\r\n",
        "\r\n",
        "data_path = './files/test_data'\r\n",
        "file_names = sorted(os.listdir(data_path+'/images1'))[1:]\r\n",
        "test_data = torchvision.datasets.ImageFolder(\r\n",
        "        root=data_path,\r\n",
        "        transform=torchvision.transforms.Compose([\r\n",
        "                                          torchvision.transforms.Grayscale(),\r\n",
        "                                          torchvision.transforms.ToTensor(),\r\n",
        "                                          torchvision.transforms.Normalize((0.1307,), (0.3081,))])\r\n",
        "    )\r\n",
        "test_data_loader = DataLoader(test_data, batch_size=128)\r\n",
        "\r\n",
        "best_net.eval()\r\n",
        "for data, _ in test_data_loader:\r\n",
        "  data = data.to(device)\r\n",
        "  out_data = [torch.argmax(tensor).item() for tensor in best_net.forward(data)]\r\n",
        "\r\n",
        "with open('zad1.csv', 'w') as out_file:\r\n",
        "  writer = csv.writer(out_file, delimiter=';')\r\n",
        "  writer.writerow(['image_name', 'true_label'])\r\n",
        "  for name, number in zip(file_names, out_data):\r\n",
        "    writer.writerow([name, number])"
      ],
      "execution_count": null,
      "outputs": []
    },
    {
      "cell_type": "markdown",
      "metadata": {
        "id": "rxTgKs3R8mBY"
      },
      "source": [
        "## Zadatak 2 - Pronalazak znamenki na slici i klasifikacija pronađene znamenke "
      ]
    },
    {
      "cell_type": "markdown",
      "metadata": {
        "id": "P4bKWIm78mBZ"
      },
      "source": [
        "Drugi zadatak je proširenje naučenog u prvom zadatku. Problem se proširuje - umjesto klasifikacije rukom pisane znamenke, naš problem je sada pronalazak rukom pisane znamenke na slici **i** klasifikacija.\n",
        "\n",
        "Kao i u prethodnoj vježbi, dani su dijeli koda potrebnog za ostvarenje vježbe, a na Vama je da nadopunite dijelove koji nedostaju."
      ]
    },
    {
      "cell_type": "markdown",
      "metadata": {
        "id": "HwZHyOWk8mBZ"
      },
      "source": [
        "#### Skup podataka\n",
        "\n",
        "Da bi mogli trenirati model za klasifikaciju i detekciju objekta na slici, moramo imati odgovarajući dataset. Koristimo postojeći MNIST dataset, a modificiramo ga tako da postavimo originalni MNIST uzorak na slučajnu poziciju na praznoj slici. Sljedeći kod generira takve uzorke, vraćajući modificiranu sliku, oznaku kategorije i poziciju znamenke na slici (*bounding box*)."
      ]
    },
    {
      "cell_type": "code",
      "metadata": {
        "id": "1Xqwk5ze8mBZ"
      },
      "source": [
        "class PositionMNIST(Dataset):\n",
        "    \n",
        "    def __init__(self, image_size=128, transform=None, train_set=False):\n",
        "        self.image_size = image_size\n",
        "        self.transform = transform\n",
        "        \n",
        "        self.set = torchvision.datasets.MNIST('./files/', train=train_set, download=True)\n",
        "        self.position_cache = [-1] * len(self.set)\n",
        "    \n",
        "    def __len__(self):\n",
        "        return len(self.set)\n",
        "\n",
        "    def __getitem__(self, idx):\n",
        "        if self.position_cache[idx] == -1:\n",
        "            x_pos = int(np.random.uniform(0, self.image_size-29))\n",
        "            y_pos = int(np.random.uniform(0, self.image_size-29))\n",
        "            self.position_cache[idx] = (x_pos, y_pos)\n",
        "            \n",
        "        x_pos, y_pos = self.position_cache[idx]\n",
        "        \n",
        "        canvas = np.zeros((self.image_size, self.image_size, 1), dtype=np.uint8)\n",
        "        canvas[y_pos:(y_pos+28), x_pos:(x_pos+28), 0] = self.set[idx][0]\n",
        "        \n",
        "        x_pos = float(x_pos)\n",
        "        y_pos = float(y_pos)\n",
        "        \n",
        "        if self.transform is not None:\n",
        "            canvas = self.transform(canvas)\n",
        "        \n",
        "        return canvas, self.set[idx][1], (x_pos, y_pos, x_pos+28, y_pos+28)"
      ],
      "execution_count": null,
      "outputs": []
    },
    {
      "cell_type": "code",
      "metadata": {
        "id": "dQutnfaT8mBa",
        "colab": {
          "base_uri": "https://localhost:8080/",
          "height": 403,
          "referenced_widgets": [
            "7632d154027a49ae8070fcc2cdc01cb1",
            "6e2978bd2cc04ef2ae4a25559ffbe358",
            "45544d00ada64f069483d50a09c2a26c",
            "ee9c1efeb0e84a0d8c1a73eccae85e65",
            "244b0da55be54ddb896fa6dd34cc5508",
            "0f039145944a47df93b9961566b514ec",
            "6cc47e4270434ce1ae9e997fd1d3f1bf",
            "10c19b890ead4fe0a74e00c306b6cffb",
            "f5d305a697f9477d88e69a4ed8de67c1",
            "28b85ac2ccb24cb5a8f6ed6364f6d12f",
            "80b67755d89c404c97a6dafc7b723422",
            "91f11f6c133646399ee7b953430163cc",
            "b119d5e478624b6d87dc862308778c65",
            "897501df315b46aaab5b811d9021f861",
            "60754a710d354e4782e27d9d00ac8ffb",
            "2ddaf08e90bf4bd78e529b356c392667",
            "d6dcb8aabf1a47ae80f00dfca900071b",
            "92cad9aa33904ca68fc3f1b076cd2ec4",
            "e2e63581050341d78ce3aea5225b6f50",
            "14a72e802bee430ab982257b4fd8daf4",
            "13c7a927e10246c5869392fecf26d425",
            "7caf0dbe58ce4d37b7a496a276ca9925",
            "e7503c6b0dbf49febf76013f94b76834",
            "387c051dcb394afb83d719f64da3f2f3",
            "3a4d1dd0ebf04774a2c12b36900dea50",
            "01192c9f213c45b99bd680039fe1d7af",
            "8ba17e69b51642c59b5ff5a06d746ec3",
            "8c74b82a2ba6442498342bad5bfdd07d",
            "4076173984504641aa3ecf97489cc798",
            "36042af6f8bf4baaa5df46ea13014e30",
            "a4f4675082c449ee8ddd2956a71969f1",
            "0a2257da93d342d3aad919583e022dbc"
          ]
        },
        "outputId": "f38d018a-14b6-4cfc-8a4e-b0cafd49dcd7"
      },
      "source": [
        "batch_size_train = 128\n",
        "batch_size_test = 128\n",
        "image_size = 128\n",
        "mse_loss = nn.MSELoss(reduction='mean')\n",
        "\n",
        "train_set = PositionMNIST(train_set=True, image_size=image_size, transform=torchvision.transforms.Compose([torchvision.transforms.ToTensor(),\n",
        "                                                                                    torchvision.transforms.Normalize((0.1307,), (0.3081,))]))\n",
        "\n",
        "test_set = PositionMNIST(train_set=False, image_size=image_size, transform=torchvision.transforms.Compose([torchvision.transforms.ToTensor(),\n",
        "                                                                                    torchvision.transforms.Normalize((0.1307,), (0.3081,))]))"
      ],
      "execution_count": null,
      "outputs": [
        {
          "output_type": "stream",
          "text": [
            "Downloading http://yann.lecun.com/exdb/mnist/train-images-idx3-ubyte.gz to ./files/MNIST/raw/train-images-idx3-ubyte.gz\n"
          ],
          "name": "stdout"
        },
        {
          "output_type": "display_data",
          "data": {
            "application/vnd.jupyter.widget-view+json": {
              "model_id": "7632d154027a49ae8070fcc2cdc01cb1",
              "version_minor": 0,
              "version_major": 2
            },
            "text/plain": [
              "HBox(children=(FloatProgress(value=1.0, bar_style='info', max=1.0), HTML(value='')))"
            ]
          },
          "metadata": {
            "tags": []
          }
        },
        {
          "output_type": "stream",
          "text": [
            "Extracting ./files/MNIST/raw/train-images-idx3-ubyte.gz to ./files/MNIST/raw\n",
            "Downloading http://yann.lecun.com/exdb/mnist/train-labels-idx1-ubyte.gz to ./files/MNIST/raw/train-labels-idx1-ubyte.gz\n"
          ],
          "name": "stdout"
        },
        {
          "output_type": "display_data",
          "data": {
            "application/vnd.jupyter.widget-view+json": {
              "model_id": "f5d305a697f9477d88e69a4ed8de67c1",
              "version_minor": 0,
              "version_major": 2
            },
            "text/plain": [
              "HBox(children=(FloatProgress(value=1.0, bar_style='info', max=1.0), HTML(value='')))"
            ]
          },
          "metadata": {
            "tags": []
          }
        },
        {
          "output_type": "stream",
          "text": [
            "Extracting ./files/MNIST/raw/train-labels-idx1-ubyte.gz to ./files/MNIST/raw\n",
            "Downloading http://yann.lecun.com/exdb/mnist/t10k-images-idx3-ubyte.gz to ./files/MNIST/raw/t10k-images-idx3-ubyte.gz\n"
          ],
          "name": "stdout"
        },
        {
          "output_type": "display_data",
          "data": {
            "application/vnd.jupyter.widget-view+json": {
              "model_id": "d6dcb8aabf1a47ae80f00dfca900071b",
              "version_minor": 0,
              "version_major": 2
            },
            "text/plain": [
              "HBox(children=(FloatProgress(value=1.0, bar_style='info', max=1.0), HTML(value='')))"
            ]
          },
          "metadata": {
            "tags": []
          }
        },
        {
          "output_type": "stream",
          "text": [
            "Extracting ./files/MNIST/raw/t10k-images-idx3-ubyte.gz to ./files/MNIST/raw\n",
            "Downloading http://yann.lecun.com/exdb/mnist/t10k-labels-idx1-ubyte.gz to ./files/MNIST/raw/t10k-labels-idx1-ubyte.gz\n",
            "\n",
            "\n"
          ],
          "name": "stdout"
        },
        {
          "output_type": "display_data",
          "data": {
            "application/vnd.jupyter.widget-view+json": {
              "model_id": "3a4d1dd0ebf04774a2c12b36900dea50",
              "version_minor": 0,
              "version_major": 2
            },
            "text/plain": [
              "HBox(children=(FloatProgress(value=1.0, bar_style='info', max=1.0), HTML(value='')))"
            ]
          },
          "metadata": {
            "tags": []
          }
        },
        {
          "output_type": "stream",
          "text": [
            "Extracting ./files/MNIST/raw/t10k-labels-idx1-ubyte.gz to ./files/MNIST/raw\n",
            "Processing...\n",
            "Done!\n"
          ],
          "name": "stdout"
        },
        {
          "output_type": "stream",
          "text": [
            "/usr/local/lib/python3.6/dist-packages/torchvision/datasets/mnist.py:480: UserWarning: The given NumPy array is not writeable, and PyTorch does not support non-writeable tensors. This means you can write to the underlying (supposedly non-writeable) NumPy array using the tensor. You may want to copy the array to protect its data or make it writeable before converting it to a tensor. This type of warning will be suppressed for the rest of this program. (Triggered internally at  /pytorch/torch/csrc/utils/tensor_numpy.cpp:141.)\n",
            "  return torch.from_numpy(parsed.astype(m[2], copy=False)).view(*s)\n"
          ],
          "name": "stderr"
        }
      ]
    },
    {
      "cell_type": "code",
      "metadata": {
        "id": "4kW-io_C8mBa"
      },
      "source": [
        "train_loader = DataLoader(train_set, batch_size=batch_size_train, shuffle=True)\n",
        "test_loader = DataLoader(test_set, batch_size=batch_size_test, shuffle=True)"
      ],
      "execution_count": null,
      "outputs": []
    },
    {
      "cell_type": "markdown",
      "metadata": {
        "id": "izLrwVgL8mBb"
      },
      "source": [
        "#### Podzadatak a) - Vizualizacija podataka\n",
        "\n",
        "Uzmite jedan uzorak pomoću data loadera i vizualizirajte ga. Neka u titleu piše klasa i lokacija."
      ]
    },
    {
      "cell_type": "code",
      "metadata": {
        "id": "Q8Z3aDgM8mBb",
        "colab": {
          "base_uri": "https://localhost:8080/",
          "height": 284
        },
        "outputId": "8dbd9590-b90f-4d09-f2ed-05b0c713b0f7"
      },
      "source": [
        "examples = enumerate(test_loader)\n",
        "batch_idx, (example_data, example_label, example_positions) = next(examples)\n",
        "fig = plt.figure(figsize=(9, 4))\n",
        "for i in range(6):\n",
        "    plt.subplot(2,3,i+1)\n",
        "    plt.tight_layout()\n",
        "    # ----- OVO TREBA NADOPUNITI\n",
        "    plt.imshow(example_data[i][0])\n",
        "    plt.title(f\"{example_label[i]}, {example_positions[0][i]}, {example_positions[1][i]}, {example_positions[2][i]}, {example_positions[3][i]}\")\n",
        "    # -----\n",
        "    plt.xticks([])\n",
        "    plt.yticks([])\n"
      ],
      "execution_count": null,
      "outputs": [
        {
          "output_type": "display_data",
          "data": {
            "image/png": "[encoded data removed]",
            "text/plain": [
              "<Figure size 648x288 with 6 Axes>"
            ]
          },
          "metadata": {
            "tags": []
          }
        }
      ]
    },
    {
      "cell_type": "markdown",
      "metadata": {
        "id": "9KcHmrq78mBb"
      },
      "source": [
        "#### Podzadatak b) - Pomoćne funkcije za treniranje\n",
        "\n",
        "Nadopunite pomoćne funkcije za treniranje neuronskih mreža po principu naučenom u 1. zadatku. Temeljna razlika između pomoćne funkcije iz prethodnog zadatke i pomoćne funkcije u ovom zadatku je:\n",
        "\n",
        "1. Rukovanje s podacima (ovdje ih ima više)\n",
        "2. Drugi problem rješavamo, stoga trebamo drugačiju loss funkciju.\n",
        "\n",
        "Loss funkcija će se u ovom slučaju sastojati od dva dijela - loss za klasifikaciju s kojim smo se već upoznali, i prosječan kvadrat greške (*mean squared error*) za određivanje pozicije. Loss će se računa kao:\n",
        "\n",
        "$ \\mathcal{L} = \\text{NLLLoss}(\\text{classification output}, \\text{target)} + \\frac{(x_1 - \\hat{x}_1)^2 + (y_1 - \\hat{y}_1)^2 + (x_2 - \\hat{x}_2)^2 + (y_2 - \\hat{y}_2)^2}{128 \\cdot 128}  $\n",
        "\n",
        "Pri čemu su $x$ i $y$ točne pozicije objekta na slici, a $\\hat{x}$ i $\\hat{y}$ su modelom određene pozicije objekta.\n"
      ]
    },
    {
      "cell_type": "code",
      "metadata": {
        "id": "8WUQaQaI8mBb"
      },
      "source": [
        "def train_step(network, train_loader, epoch, device, verbose=True):\n",
        "    train_losses = []\n",
        "    train_counter = []\n",
        "    \n",
        "    network.train()\n",
        "    \n",
        "    for batch_idx, (data, target, position) in enumerate(train_loader):\n",
        "        data = data.to(device)\n",
        "        target = target.to(device)\n",
        "        x1, y1, x2, y2 = position\n",
        "        x1 = x1.to(device)\n",
        "        x2 = x2.to(device)\n",
        "        y1 = y1.to(device)\n",
        "        y2 = y2.to(device)\n",
        "        \n",
        "        # ----- \n",
        "        network.zero_grad()\n",
        "        output_clsf, *output_position = network(data)\n",
        "        loss = F.nll_loss(output_clsf, target) + (torch.mean(((x1 - output_position[0])**2 + (y1 - output_position[1])**2 + (x2 - output_position[2])**2 + (y2 - output_position[3])**2) / 128**2))\n",
        "        loss.backward()\n",
        "        optimizer.step()\n",
        "        # -------\n",
        "        \n",
        "        if batch_idx % log_interval == 0:\n",
        "            if verbose:\n",
        "                print('Train Epoch: {:5d} [{:5d}/{:5d} ({:2.0f}%)]\\tLoss: {:.6f}'.format(\n",
        "                    epoch, \n",
        "                    batch_idx * len(data), \n",
        "                    len(train_loader.dataset),\n",
        "                    100. * batch_idx / len(train_loader), \n",
        "                    loss.item()))\n",
        "                \n",
        "            train_losses.append(loss.item())\n",
        "            train_counter.append((batch_idx*64) + ((epoch-1)*len(train_loader.dataset)))\n",
        "            \n",
        "    return train_losses, train_counter"
      ],
      "execution_count": null,
      "outputs": []
    },
    {
      "cell_type": "markdown",
      "metadata": {
        "id": "3MF8Pn8l8mBc"
      },
      "source": [
        "Po istom principu iz 1. zadatka nadopunite funkciju za evaluaciju modela. U ovom slučaju mjerimo 3 stvari: sam loss, točnost klasifikacije i posebno loss za detekciju."
      ]
    },
    {
      "cell_type": "code",
      "metadata": {
        "id": "BYjqEjj78mBc"
      },
      "source": [
        "def test(network, test_loader, device, verbose=True):\n",
        "    network.eval()\n",
        "    \n",
        "    test_loss_clsf = 0\n",
        "    test_loss_bbox = 0\n",
        "    correct = 0\n",
        "    with torch.no_grad():\n",
        "        for data, target, position in test_loader:\n",
        "            data = data.to(device)\n",
        "            target = target.to(device)\n",
        "            x1, y1, x2, y2 = position\n",
        "            x1 = x1.to(device)\n",
        "            x2 = x2.to(device)\n",
        "            y1 = y1.to(device)\n",
        "            y2 = y2.to(device)\n",
        "\n",
        "            # ---- \n",
        "            output_clsf, *output_position = network(data)\n",
        "            test_loss_clsf += F.nll_loss(output_clsf, target, reduction='sum').item()\n",
        "            test_loss_bbox += torch.mean(((x1 - output_position[0])**2 + (y1 - output_position[1])**2 + (x2 - output_position[2])**2 + (y2 - output_position[3])**2) / 128**2)\n",
        "            pred = output_clsf.data.max(1, keepdim=True)[1]\n",
        "            correct += pred.eq(target.data.view_as(pred)).sum()\n",
        "            # ----------\n",
        "            \n",
        "    test_loss_clsf /= len(test_loader.dataset)\n",
        "    test_loss_bbox /= len(test_loader.dataset)\n",
        "    test_accuracy = 100. * correct / len(test_loader.dataset)\n",
        "    \n",
        "    \n",
        "    if verbose:\n",
        "        print('\\n[Test] Classification: Avg. loss: {:.4f}, Accuracy: {:5d}/{:5d} ({:2.2f}%) | Object detection: Avg. loss: {:.4f}\\n'.format(\n",
        "            test_loss_clsf, \n",
        "            correct, \n",
        "            len(test_loader.dataset),\n",
        "            100. * correct / len(test_loader.dataset), \n",
        "            test_loss_bbox))\n",
        "    \n",
        "    return test_loss_clsf, test_accuracy, correct, test_loss_bbox"
      ],
      "execution_count": null,
      "outputs": []
    },
    {
      "cell_type": "markdown",
      "metadata": {
        "id": "Chd5JfTj8mBc"
      },
      "source": [
        "Pomoćna funkcija za provođene eksperimenata iz prethodnog zadatka je iskoristiva do na praćenje dodatnih metrika. Proširite tu funkciju za ovaj zadatak."
      ]
    },
    {
      "cell_type": "code",
      "metadata": {
        "id": "ffmaJJ6-8mBc"
      },
      "source": [
        "def train_network(network, train_loader, test_loader, device='cpu'):\n",
        "    train_losses = []\n",
        "    train_counter = []\n",
        "    test_losses_clsf = []\n",
        "    test_accuracies = []\n",
        "    test_losses_bbox = []\n",
        "    test_counter = [i*len(train_loader.dataset) for i in range(n_epochs + 1)]\n",
        "\n",
        "    # -----\n",
        "    test_loss_clsf, test_accuracy, correct, test_loss_bbox = test(network, test_loader, device)\n",
        "    test_losses_clsf.append(test_loss_clsf)\n",
        "    test_losses_bbox.append(test_loss_bbox)\n",
        "    # ----------\n",
        "\n",
        "    for epoch in range(1, n_epochs + 1):\n",
        "        # ---------\n",
        "        new_train_losses, new_train_counter = train_step(network, train_loader, epoch, device)\n",
        "        test_loss_clsf, test_accuracy, correct, test_loss_bbox = test(network, test_loader, device) \n",
        "        train_losses.extend(new_train_losses)\n",
        "        train_counter.extend(new_train_counter)\n",
        "        test_losses_clsf.append(test_loss_clsf)\n",
        "        test_losses_bbox.append(test_loss_bbox)\n",
        "        # ---------\n",
        "        \n",
        "    # --------- \n",
        "    test_losses_total = test_losses_clsf + test_losses_bbox\n",
        "    # -----------\n",
        "    \n",
        "    return train_losses, train_counter, test_losses_clsf, test_accuracies, test_losses_bbox, test_counter"
      ],
      "execution_count": null,
      "outputs": []
    },
    {
      "cell_type": "markdown",
      "metadata": {
        "id": "752yh1Zy8mBc"
      },
      "source": [
        "## Provođenje eksperimenata i analiza rezultata"
      ]
    },
    {
      "cell_type": "markdown",
      "metadata": {
        "id": "SZeBa8sM8mBd"
      },
      "source": [
        "#### Podzadatak c) - Izrada modela koji točno klasificira i locira objekt na slici"
      ]
    },
    {
      "cell_type": "markdown",
      "metadata": {
        "id": "MBIdYjC_8mBd"
      },
      "source": [
        "Kao i u prethodnom zadatku, prvo je potrebno podesiti parametre. Parametri su isti, no ponovimo:\n",
        "* n_epochs - broj epoha eksperimenta\n",
        "* learning_rate - stopa učenja\n",
        "* log_interval - broj koraka između dva ispisa tijekom treniranja (ispis se dešava samo ako se funkcija poziva s argumentom verbose=True)\n",
        "* device - oznaka na kojem se uređaju izvršava eksperiment; \"cuda\" za GPU, \"cpu\" za CPU"
      ]
    },
    {
      "cell_type": "code",
      "metadata": {
        "id": "PHx75b4o8mBe"
      },
      "source": [
        "n_epochs = 3\n",
        "learning_rate = 0.0005\n",
        "momentum = 0.9\n",
        "log_interval = 100\n",
        "device = 'cuda'"
      ],
      "execution_count": null,
      "outputs": []
    },
    {
      "cell_type": "markdown",
      "metadata": {
        "id": "qUCpikHW8mBe"
      },
      "source": [
        "Temeljna razlika u arhitekturi modela ovog zadatka i arhitekture modela iz prethodnog zadatka je broj izlaza. Prošla neuronska mreža je imala 10 izlaznih neurona - svaki za jednu klasu. Ova neuronska mreža ima 14 izlaza - 10 za svaku klasu za klasifikacijski problem i 4 za svaku koordinatu rezultirajućeg bounding boxa objekta.\n",
        "\n",
        "Na temelju iskustva iz 1. zadatka, nadopunite sljedeći model da bi riješili problem:"
      ]
    },
    {
      "cell_type": "code",
      "metadata": {
        "id": "U1UHYk5I8mBe"
      },
      "source": [
        "class Net(nn.Module):\n",
        "    def __init__(self, image_size):\n",
        "        super(Net, self).__init__()\n",
        "        self.image_size = image_size\n",
        "        \n",
        "        # --------\n",
        "        # Ovdje je dan primjer jednog ulaznog conv sloja i oblika izlaznih slojeva za orijentaciju\n",
        "        \n",
        "        self.conv1 = nn.Conv2d(1, 64, kernel_size=3)\n",
        "\n",
        "        self.conv2 = nn.Conv2d(64, 40, kernel_size=5, padding=2)\n",
        "        self.fc1 = nn.Linear(158760, 64)\n",
        "        self.fc2 = nn.Linear(64, 512)\n",
        "        self.fc3 = nn.Linear(512, 128)\n",
        "        self.dropout = nn.Dropout()\n",
        "        self.maxpool = nn.MaxPool2d(kernel_size=2)\n",
        "        self.relu = nn.ReLU()\n",
        "        self.clsf_out = nn.Linear(128, 10)\n",
        "        self.bbox_out = nn.Linear(128, 4)\n",
        "      \n",
        "        # --------\n",
        "\n",
        "    def forward(self, x):\n",
        "        # ---- ovdje nadopunite ostatak mreže\n",
        "        x = F.relu(self.conv1(x), 2)\n",
        "        # ----\n",
        "        # dio mreže za klasifikaciju\n",
        "        x = self.conv2(x)\n",
        "        x = self.relu(x)\n",
        "        x = self.maxpool(x)\n",
        "        x = x.view(x.shape[0], -1)\n",
        "        x = self.fc1(x)\n",
        "        x = self.relu(x)\n",
        "        x = self.fc2(x)\n",
        "        x = self.relu(x)\n",
        "        x = self.fc3(x)\n",
        "        x = self.relu(x)\n",
        "        # -------- izlaz za klasifikaciju\n",
        "        clsf = F.log_softmax(self.clsf_out(x), dim=1)\n",
        "        \n",
        "        # dio mreže za bounding boxeve\n",
        "        bbox = F.relu(self.bbox_out(x))\n",
        "\n",
        "        # -------- izlaz za detekciju\n",
        "        x1 = bbox[:, 0]\n",
        "        y1 = bbox[:, 1]\n",
        "        x2 = bbox[:, 2]\n",
        "        y2 = bbox[:, 3]\n",
        "        \n",
        "        return clsf, x1.squeeze(), y1.squeeze(), x2.squeeze(), y2.squeeze()"
      ],
      "execution_count": null,
      "outputs": []
    },
    {
      "cell_type": "code",
      "metadata": {
        "id": "WBPkKzf08mBg",
        "colab": {
          "base_uri": "https://localhost:8080/"
        },
        "outputId": "4239ece3-9359-40c5-b979-0f51f90e573a"
      },
      "source": [
        "network = Net(image_size).to(device)\n",
        "number_of_params = get_number_of_model_parameters(network)\n",
        "print(\"Broj parametara u modelu:\", number_of_params)"
      ],
      "execution_count": null,
      "outputs": [
        {
          "output_type": "stream",
          "text": [
            "Broj parametara u modelu: 14\n"
          ],
          "name": "stdout"
        }
      ]
    },
    {
      "cell_type": "code",
      "metadata": {
        "id": "iTj1SQ0l8mBg"
      },
      "source": [
        "network = Net(image_size).to(device)\n",
        "optimizer = optim.AdamW(network.parameters(), lr=learning_rate, weight_decay=0.01)\n",
        "scheduler = optim.lr_scheduler.ExponentialLR(optimizer, gamma=0.99)"
      ],
      "execution_count": null,
      "outputs": []
    },
    {
      "cell_type": "code",
      "metadata": {
        "id": "zHadg7188mBg",
        "colab": {
          "base_uri": "https://localhost:8080/"
        },
        "outputId": "f3530b5a-cb44-4490-d170-0ec56c7d16a2"
      },
      "source": [
        "train_losses, train_counter, test_losses_clsf, test_accuracies, test_losses_bbox, test_counter = train_network(network, train_loader, test_loader, device)"
      ],
      "execution_count": null,
      "outputs": [
        {
          "output_type": "stream",
          "text": [
            "\n",
            "[Test] Classification: Avg. loss: 2.3030, Accuracy:   982/10000 (9.82%) | Object detection: Avg. loss: 0.0096\n",
            "\n",
            "Train Epoch:     1 [    0/60000 ( 0%)]\tLoss: 3.610107\n",
            "Train Epoch:     1 [12800/60000 (21%)]\tLoss: 2.290488\n",
            "Train Epoch:     1 [25600/60000 (43%)]\tLoss: 1.864851\n",
            "Train Epoch:     1 [38400/60000 (64%)]\tLoss: 1.720334\n",
            "Train Epoch:     1 [51200/60000 (85%)]\tLoss: 1.711510\n",
            "\n",
            "[Test] Classification: Avg. loss: 1.6233, Accuracy:  3660/10000 (36.60%) | Object detection: Avg. loss: 0.0009\n",
            "\n",
            "Train Epoch:     2 [    0/60000 ( 0%)]\tLoss: 1.625696\n",
            "Train Epoch:     2 [12800/60000 (21%)]\tLoss: 1.549944\n",
            "Train Epoch:     2 [25600/60000 (43%)]\tLoss: 1.448847\n",
            "Train Epoch:     2 [38400/60000 (64%)]\tLoss: 1.149315\n",
            "Train Epoch:     2 [51200/60000 (85%)]\tLoss: 1.031540\n",
            "\n",
            "[Test] Classification: Avg. loss: 0.8484, Accuracy:  6931/10000 (69.31%) | Object detection: Avg. loss: 0.0007\n",
            "\n",
            "Train Epoch:     3 [    0/60000 ( 0%)]\tLoss: 0.757515\n",
            "Train Epoch:     3 [12800/60000 (21%)]\tLoss: 0.607199\n",
            "Train Epoch:     3 [25600/60000 (43%)]\tLoss: 0.632619\n",
            "Train Epoch:     3 [38400/60000 (64%)]\tLoss: 0.653183\n",
            "Train Epoch:     3 [51200/60000 (85%)]\tLoss: 0.650370\n",
            "\n",
            "[Test] Classification: Avg. loss: 0.5733, Accuracy:  8090/10000 (80.90%) | Object detection: Avg. loss: 0.0002\n",
            "\n"
          ],
          "name": "stdout"
        }
      ]
    },
    {
      "cell_type": "markdown",
      "metadata": {
        "id": "ty08zU4j8mBg"
      },
      "source": [
        "**Vizualizacija metrika uspješnosti**"
      ]
    },
    {
      "cell_type": "markdown",
      "metadata": {
        "id": "EfAB-KQ58mBg"
      },
      "source": [
        "Vizualizirajte si sve metrike na sljedećem grafu: train_losses, test_losses_total, test_losses_clsf i test_losses_bbox. Pripazite što vam je na x osi!"
      ]
    },
    {
      "cell_type": "code",
      "metadata": {
        "id": "amyVEs9X8mBg",
        "colab": {
          "base_uri": "https://localhost:8080/",
          "height": 442
        },
        "outputId": "d3b0590e-cd09-4abb-f085-b2bdb5f84464"
      },
      "source": [
        "test_losses_total = np.array(test_losses_clsf) + np.array(test_losses_bbox)\n",
        "\n",
        "fig = plt.figure(figsize=(32, 7))\n",
        "# ---- \n",
        "plt.plot(train_counter, train_losses, label='Train loss')\n",
        "plt.plot(test_counter, test_losses_total, label='Test loss')\n",
        "plt.plot(test_counter, test_losses_clsf, label='Test loss classification')\n",
        "plt.plot(test_counter, test_losses_bbox, label='Test loss bounding box')\n",
        "# ----------\n",
        "\n",
        "plt.legend(loc='upper right')\n",
        "plt.xlabel('Number of samples')\n",
        "plt.ylabel('Loss')\n",
        "plt.grid()"
      ],
      "execution_count": null,
      "outputs": [
        {
          "output_type": "display_data",
          "data": {
            "image/png": "[encoded data removed]",
            "text/plain": [
              "<Figure size 2304x504 with 1 Axes>"
            ]
          },
          "metadata": {
            "tags": [],
            "needs_background": "light"
          }
        }
      ]
    },
    {
      "cell_type": "markdown",
      "metadata": {
        "id": "DZz1rci68mBg"
      },
      "source": [
        "#### Vizualni pregled - što model estimira?"
      ]
    },
    {
      "cell_type": "markdown",
      "metadata": {
        "id": "5A5BzuzF8mBh"
      },
      "source": [
        "Iskorisite sljedeći kod da bi vidjeli kako izgledaju predikcije Vašeg modela."
      ]
    },
    {
      "cell_type": "code",
      "metadata": {
        "id": "Z56nnWF58mBh",
        "colab": {
          "base_uri": "https://localhost:8080/",
          "height": 1000
        },
        "outputId": "b6b1f4eb-7f91-4bc6-de0e-52605693b3d8"
      },
      "source": [
        "with torch.no_grad():\n",
        "    clsf_out, x1_out, y1_out, x2_out, y2_out = network.forward(example_data.to(device))\n",
        "\n",
        "plt.figure(figsize=(32, 32))\n",
        "for idx in range(0, example_data.shape[0]):\n",
        "    image = np.array(example_data[idx, 0, ...]).copy()\n",
        "\n",
        "    x1, y1, x2, y2 = list(map(lambda x: int(x.item()), [x1_out[idx, ...], y1_out[idx, ...], x2_out[idx, ...], y2_out[idx, ...]]))\n",
        "    image = cv2.rectangle(image, (x1, y1), (x2, y2), (2.5), 2)\n",
        "\n",
        "    plt.subplot(12, 12, idx+1)\n",
        "    plt.imshow(image)\n",
        "    plt.title(np.argmax(clsf_out[idx, ...].cpu()))\n",
        "    plt.xticks([])\n",
        "    plt.yticks([])"
      ],
      "execution_count": null,
      "outputs": [
        {
          "output_type": "display_data",
          "data": {
            "image/png": "[encoded data removed]",
            "text/plain": [
              "<Figure size 2304x2304 with 128 Axes>"
            ]
          },
          "metadata": {
            "tags": []
          }
        }
      ]
    },
    {
      "cell_type": "markdown",
      "metadata": {
        "id": "EevkWCQb8mBh"
      },
      "source": [
        "#### Podzadatak d) - Evaluacija na neviđenom skupu podataka\n",
        "\n",
        "Preuzmite skup podataka za ocjenjivanje sa sljedeće poveznice: http://zver6.zesoi.fer.hr:18080/labos_oi/submission_z2.zip\n",
        "\n",
        "Primjer filea kojeg treba generirati možete preuzeti sa: http://zver6.zesoi.fer.hr:18080/labos_oi/zad2_submission_sample.csv \n",
        "\n",
        "Odredite predikcije Vašeg najboljeg modela nad tim skupom, te ih stavite na Moodle."
      ]
    },
    {
      "cell_type": "code",
      "metadata": {
        "id": "vIeoOH_i64Oo"
      },
      "source": [
        "import os\r\n",
        "import csv\r\n",
        "\r\n",
        "data_path = './files/test_data'\r\n",
        "file_names = sorted(os.listdir(data_path+'/images2'))[1:]\r\n",
        "print(file_names)\r\n",
        "print(len(file_names))\r\n",
        "test_data = torchvision.datasets.ImageFolder(\r\n",
        "        root=data_path,\r\n",
        "        transform=torchvision.transforms.Compose([\r\n",
        "                                          torchvision.transforms.Grayscale(),\r\n",
        "                                          torchvision.transforms.ToTensor(),\r\n",
        "                                          torchvision.transforms.Normalize((0.1307,), (0.3081,))])\r\n",
        "    )\r\n",
        "test_data_loader = DataLoader(test_data, batch_size=128)\r\n",
        "\r\n",
        "network.eval()\r\n",
        "for data, _ in test_data_loader:\r\n",
        "  data = data.to(device)\r\n",
        "  clsf, x1, y1, x2, y2 = network.forward(data)\r\n",
        "  clsf = [torch.argmax(tensor).item() for tensor in clsf]\r\n",
        "\r\n",
        "with open('zad2.csv', 'w') as out_file:\r\n",
        "  writer = csv.writer(out_file, delimiter=';')\r\n",
        "  writer.writerow(['image_name', 'true_label', 'x1', 'y1', 'x2', 'y2'])\r\n",
        "  for name, number, x1, y1, x2, y2 in zip(file_names, clsf, x1, y1, x2, y2):\r\n",
        "    writer.writerow([name, number, x1.item(), y1.item(), x2.item(), y2.item()])"
      ],
      "execution_count": null,
      "outputs": []
    }
  ]
}